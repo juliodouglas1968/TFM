{
  "nbformat": 4,
  "nbformat_minor": 0,
  "metadata": {
    "colab": {
      "name": "TFM_JulioDouglasRuizG_(Ligth_GBM_n_split_3_P4).ipynb",
      "provenance": [],
      "collapsed_sections": [],
      "machine_shape": "hm"
    },
    "kernelspec": {
      "name": "python3",
      "display_name": "Python 3"
    },
    "accelerator": "GPU"
  },
  "cells": [
    {
      "cell_type": "markdown",
      "metadata": {
        "id": "PuPt1B-P2A0v",
        "colab_type": "text"
      },
      "source": [
        "TRABAJO FINAL MASTER\n",
        "ALUMNO: JULIO DOUGLAS ANTONIO RUIZ GONZALEZ.\n",
        "\n",
        "DIRECTOR TFM: Dr. ADRIAN COLOMER GRANERO.\n",
        "\n",
        "\n",
        "PARTE 3.\n",
        "Se tratan los temas del trabajo final de Master.\n",
        " \n",
        "4.4 Ingenieria de caracteristicas.\n",
        "capitulo 5: Desarrollo experimental.\n",
        "capitulo 6: Resultados \n",
        "\n",
        "Entrenamiento LIGTH GBM CON n_split = 3; \n",
        "\n",
        "1. Instalacion de librerias API fucnional de Keras, bakend Tensor Flow e importacion de datasets.\n",
        "2. Se dividen los datos en Aprendizaje y pruebas: se toman meses en ambos conjuntos de daos que son representativos para las cuatro estaciones anuales.\n",
        "3. Caracteristicas de ingeniera : para mejorar los datos en el    aprendizaje automático supervisado, con esta técnica se intenta mejorar el poder predictivo del algoritmo de aprendizaje en este caso las redes neuronales artificiales recurrentes LSTM y LigthGBM, utilizdo los datos sin procesar, datos limpios.\n",
        "4. Escalado de datos previo a entrenar los algoritmos de Light GBM.\n",
        "5. Se encuentran hiperparametros para el mejor valor y hacer el entrenamiento con Light GBM K-Fold (n_split=3) evaluando la importancia de cada variable.\n",
        "6. Evaluacion del algoritmo Light GBM a traves de metricas establecidas.\n",
        "7. Bibliografia.\n"
      ]
    },
    {
      "cell_type": "markdown",
      "metadata": {
        "id": "neKiOOrAkHcr",
        "colab_type": "text"
      },
      "source": [
        "1. Instalacion de librerias API fucnional de Keras, bakend Tensor Flow e importacion de datasets."
      ]
    },
    {
      "cell_type": "code",
      "metadata": {
        "id": "7TBIASzP0j6V",
        "colab_type": "code",
        "colab": {
          "base_uri": "https://localhost:8080/",
          "height": 235
        },
        "outputId": "f8bba595-059d-4ac3-e30b-ed168151517a"
      },
      "source": [
        "!pip uninstall tensorflow"
      ],
      "execution_count": null,
      "outputs": [
        {
          "output_type": "stream",
          "text": [
            "Uninstalling tensorflow-1.14.0:\n",
            "  Would remove:\n",
            "    /usr/local/bin/freeze_graph\n",
            "    /usr/local/bin/saved_model_cli\n",
            "    /usr/local/bin/tensorboard\n",
            "    /usr/local/bin/tf_upgrade_v2\n",
            "    /usr/local/bin/tflite_convert\n",
            "    /usr/local/bin/toco\n",
            "    /usr/local/bin/toco_from_protos\n",
            "    /usr/local/lib/python3.6/dist-packages/tensorflow-1.14.0.dist-info/*\n",
            "    /usr/local/lib/python3.6/dist-packages/tensorflow/*\n",
            "Proceed (y/n)? y\n",
            "  Successfully uninstalled tensorflow-1.14.0\n"
          ],
          "name": "stdout"
        }
      ]
    },
    {
      "cell_type": "code",
      "metadata": {
        "id": "ly562xZOlnZF",
        "colab_type": "code",
        "colab": {
          "base_uri": "https://localhost:8080/",
          "height": 118
        },
        "outputId": "041a6dd7-91f5-485a-cad4-940ba61e1edc"
      },
      "source": [
        "!pip install setuptools wheel numpy scipy \"scikit-learn<=0.21.3\" -U"
      ],
      "execution_count": null,
      "outputs": [
        {
          "output_type": "stream",
          "text": [
            "Requirement already up-to-date: setuptools in /usr/local/lib/python3.6/dist-packages (46.2.0)\n",
            "Requirement already up-to-date: wheel in /usr/local/lib/python3.6/dist-packages (0.34.2)\n",
            "Requirement already up-to-date: numpy in /usr/local/lib/python3.6/dist-packages (1.18.4)\n",
            "Requirement already up-to-date: scipy in /usr/local/lib/python3.6/dist-packages (1.4.1)\n",
            "Requirement already up-to-date: scikit-learn<=0.21.3 in /usr/local/lib/python3.6/dist-packages (0.21.3)\n",
            "Requirement already satisfied, skipping upgrade: joblib>=0.11 in /usr/local/lib/python3.6/dist-packages (from scikit-learn<=0.21.3) (0.14.1)\n"
          ],
          "name": "stdout"
        }
      ]
    },
    {
      "cell_type": "code",
      "metadata": {
        "id": "o0LMMvAX0qo0",
        "colab_type": "code",
        "colab": {
          "base_uri": "https://localhost:8080/",
          "height": 403
        },
        "outputId": "053ab425-fede-43c5-b228-b876a1cf08e4"
      },
      "source": [
        "!pip install tensorflow==1.14"
      ],
      "execution_count": null,
      "outputs": [
        {
          "output_type": "stream",
          "text": [
            "Collecting tensorflow==1.14\n",
            "  Using cached https://files.pythonhosted.org/packages/de/f0/96fb2e0412ae9692dbf400e5b04432885f677ad6241c088ccc5fe7724d69/tensorflow-1.14.0-cp36-cp36m-manylinux1_x86_64.whl\n",
            "Requirement already satisfied: protobuf>=3.6.1 in /usr/local/lib/python3.6/dist-packages (from tensorflow==1.14) (3.10.0)\n",
            "Requirement already satisfied: grpcio>=1.8.6 in /usr/local/lib/python3.6/dist-packages (from tensorflow==1.14) (1.28.1)\n",
            "Requirement already satisfied: gast>=0.2.0 in /usr/local/lib/python3.6/dist-packages (from tensorflow==1.14) (0.3.3)\n",
            "Requirement already satisfied: astor>=0.6.0 in /usr/local/lib/python3.6/dist-packages (from tensorflow==1.14) (0.8.1)\n",
            "Requirement already satisfied: keras-applications>=1.0.6 in /usr/local/lib/python3.6/dist-packages (from tensorflow==1.14) (1.0.8)\n",
            "Requirement already satisfied: absl-py>=0.7.0 in /usr/local/lib/python3.6/dist-packages (from tensorflow==1.14) (0.9.0)\n",
            "Requirement already satisfied: keras-preprocessing>=1.0.5 in /usr/local/lib/python3.6/dist-packages (from tensorflow==1.14) (1.1.0)\n",
            "Requirement already satisfied: termcolor>=1.1.0 in /usr/local/lib/python3.6/dist-packages (from tensorflow==1.14) (1.1.0)\n",
            "Requirement already satisfied: google-pasta>=0.1.6 in /usr/local/lib/python3.6/dist-packages (from tensorflow==1.14) (0.2.0)\n",
            "Requirement already satisfied: six>=1.10.0 in /usr/local/lib/python3.6/dist-packages (from tensorflow==1.14) (1.12.0)\n",
            "Requirement already satisfied: tensorflow-estimator<1.15.0rc0,>=1.14.0rc0 in /usr/local/lib/python3.6/dist-packages (from tensorflow==1.14) (1.14.0)\n",
            "Requirement already satisfied: tensorboard<1.15.0,>=1.14.0 in /usr/local/lib/python3.6/dist-packages (from tensorflow==1.14) (1.14.0)\n",
            "Requirement already satisfied: numpy<2.0,>=1.14.5 in /usr/local/lib/python3.6/dist-packages (from tensorflow==1.14) (1.18.4)\n",
            "Requirement already satisfied: wheel>=0.26 in /usr/local/lib/python3.6/dist-packages (from tensorflow==1.14) (0.34.2)\n",
            "Requirement already satisfied: wrapt>=1.11.1 in /usr/local/lib/python3.6/dist-packages (from tensorflow==1.14) (1.12.1)\n",
            "Requirement already satisfied: setuptools in /usr/local/lib/python3.6/dist-packages (from protobuf>=3.6.1->tensorflow==1.14) (46.2.0)\n",
            "Requirement already satisfied: h5py in /usr/local/lib/python3.6/dist-packages (from keras-applications>=1.0.6->tensorflow==1.14) (2.10.0)\n",
            "Requirement already satisfied: markdown>=2.6.8 in /usr/local/lib/python3.6/dist-packages (from tensorboard<1.15.0,>=1.14.0->tensorflow==1.14) (3.2.1)\n",
            "Requirement already satisfied: werkzeug>=0.11.15 in /usr/local/lib/python3.6/dist-packages (from tensorboard<1.15.0,>=1.14.0->tensorflow==1.14) (1.0.1)\n",
            "Installing collected packages: tensorflow\n",
            "Successfully installed tensorflow-1.14.0\n"
          ],
          "name": "stdout"
        }
      ]
    },
    {
      "cell_type": "code",
      "metadata": {
        "id": "XcCkMhblW-Fx",
        "colab_type": "code",
        "colab": {
          "base_uri": "https://localhost:8080/",
          "height": 34
        },
        "outputId": "18c27849-33d1-4797-d504-4e418119ff54"
      },
      "source": [
        "% tensorflow_version 1.x"
      ],
      "execution_count": null,
      "outputs": [
        {
          "output_type": "stream",
          "text": [
            "TensorFlow 1.x selected.\n"
          ],
          "name": "stdout"
        }
      ]
    },
    {
      "cell_type": "code",
      "metadata": {
        "id": "MC1G5pfXLwlW",
        "colab_type": "code",
        "colab": {
          "base_uri": "https://localhost:8080/",
          "height": 104
        },
        "outputId": "e9cb9cfd-04e1-4672-aa7b-3da57db47dce"
      },
      "source": [
        "\n",
        "import lightgbm as lgb\n",
        "\n",
        "\n",
        "import pandas as pd\n",
        "import numpy as np\n",
        "import matplotlib.pyplot as plt\n",
        "import seaborn as sns\n",
        "import tensorflow as tf\n",
        "print(tf.__version__)\n",
        "from sklearn import *\n",
        "from sklearn import preprocessing\n",
        "from sklearn.preprocessing import MinMaxScaler\n",
        "from sklearn.preprocessing import StandardScaler, LabelEncoder\n",
        "from sklearn.model_selection import train_test_split\n",
        "from sklearn.metrics import make_scorer\n",
        "from sklearn.metrics import mean_squared_error\n",
        "from sklearn import linear_model, metrics\n",
        "from sklearn.model_selection import cross_validate\n",
        "from sklearn.model_selection import KFold\n",
        "from math import sqrt\n",
        "import gc\n",
        "sns.set()\n",
        "import plotly.express as px\n",
        "import missingno as msno\n",
        "pd.set_option('max_columns', 150)\n",
        "\n",
        "\n",
        "from sklearn import preprocessing\n",
        "from keras import backend as K\n",
        "from keras.callbacks import ModelCheckpoint, EarlyStopping\n",
        "from keras.layers import Dense, LSTM, GRU, Dropout, BatchNormalization\n",
        "from keras.models import Sequential\n",
        "from keras.optimizers import RMSprop,Adam\n",
        "from keras import regularizers\n",
        "\n",
        "\n"
      ],
      "execution_count": null,
      "outputs": [
        {
          "output_type": "stream",
          "text": [
            "/usr/local/lib/python3.6/dist-packages/statsmodels/tools/_testing.py:19: FutureWarning: pandas.util.testing is deprecated. Use the functions in the public API at pandas.testing instead.\n",
            "  import pandas.util.testing as tm\n"
          ],
          "name": "stderr"
        },
        {
          "output_type": "stream",
          "text": [
            "1.15.2\n"
          ],
          "name": "stdout"
        },
        {
          "output_type": "stream",
          "text": [
            "Using TensorFlow backend.\n"
          ],
          "name": "stderr"
        }
      ]
    },
    {
      "cell_type": "code",
      "metadata": {
        "id": "2GR5MaOzL02l",
        "colab_type": "code",
        "colab": {
          "base_uri": "https://localhost:8080/",
          "height": 34
        },
        "outputId": "0971b81e-2c34-4415-b23e-3829c898ac0a"
      },
      "source": [
        "BASE_FOLDER = '/content/drive/My Drive/TFM IA Julio Ruiz/'\n",
        "\n",
        "from google.colab import drive\n",
        "drive.mount('/content/drive')"
      ],
      "execution_count": null,
      "outputs": [
        {
          "output_type": "stream",
          "text": [
            "Drive already mounted at /content/drive; to attempt to forcibly remount, call drive.mount(\"/content/drive\", force_remount=True).\n"
          ],
          "name": "stdout"
        }
      ]
    },
    {
      "cell_type": "code",
      "metadata": {
        "id": "9n5GkQntL7Aq",
        "colab_type": "code",
        "colab": {}
      },
      "source": [
        "path1 = BASE_FOLDER+ \"train_df.csv\"\n",
        "path2 = BASE_FOLDER+ \"test_df.csv\"\n"
      ],
      "execution_count": null,
      "outputs": []
    },
    {
      "cell_type": "code",
      "metadata": {
        "id": "7n98iF3cL-PA",
        "colab_type": "code",
        "colab": {}
      },
      "source": [
        "train_df = pd.read_csv(path1)\n",
        "test_df = pd.read_csv(path2)\n"
      ],
      "execution_count": null,
      "outputs": []
    },
    {
      "cell_type": "code",
      "metadata": {
        "id": "kC0W9VeWokqw",
        "colab_type": "code",
        "colab": {}
      },
      "source": [
        "def reduce_mem_usage(df, verbose=True):\n",
        "    numerics = ['int16', 'int32', 'int64', 'float16', 'float32', 'float64']\n",
        "    start_mem = df.memory_usage().sum() / 1024**2    \n",
        "    for col in df.columns:\n",
        "        col_type = df[col].dtypes\n",
        "        if col_type in numerics:\n",
        "            c_min = df[col].min()\n",
        "            c_max = df[col].max()\n",
        "            if str(col_type)[:3] == 'int':\n",
        "                if c_min > np.iinfo(np.int8).min and c_max < np.iinfo(np.int8).max:\n",
        "                    df[col] = df[col].astype(np.int8)\n",
        "                elif c_min > np.iinfo(np.int16).min and c_max < np.iinfo(np.int16).max:\n",
        "                    df[col] = df[col].astype(np.int16)\n",
        "                elif c_min > np.iinfo(np.int32).min and c_max < np.iinfo(np.int32).max:\n",
        "                    df[col] = df[col].astype(np.int32)\n",
        "                elif c_min > np.iinfo(np.int64).min and c_max < np.iinfo(np.int64).max:\n",
        "                    df[col] = df[col].astype(np.int64)  \n",
        "            else:\n",
        "                if c_min > np.finfo(np.float16).min and c_max < np.finfo(np.float16).max:\n",
        "                    df[col] = df[col].astype(np.float16)\n",
        "                elif c_min > np.finfo(np.float32).min and c_max < np.finfo(np.float32).max:\n",
        "                    df[col] = df[col].astype(np.float32)\n",
        "                else:\n",
        "                    df[col] = df[col].astype(np.float64)    \n",
        "    end_mem = df.memory_usage().sum() / 1024**2\n",
        "    if verbose: print('Memoria usada disminuida a {:5.2f} Mb ({:.1f}% reduccion)'.format(end_mem, 100 * (start_mem - end_mem) / start_mem))\n",
        "    return df"
      ],
      "execution_count": null,
      "outputs": []
    },
    {
      "cell_type": "code",
      "metadata": {
        "id": "Zon4Nor_oqfb",
        "colab_type": "code",
        "colab": {
          "base_uri": "https://localhost:8080/",
          "height": 50
        },
        "outputId": "314a2b1b-4a66-4885-a3f9-7a0c9337e393"
      },
      "source": [
        "train_df = reduce_mem_usage(train_df)\n",
        "test_df = reduce_mem_usage(test_df)"
      ],
      "execution_count": null,
      "outputs": [
        {
          "output_type": "stream",
          "text": [
            "Memoria usada disminuida a 697.47 Mb (69.5% reduccion)\n",
            "Memoria usada disminuida a 1471.34 Mb (69.2% reduccion)\n"
          ],
          "name": "stdout"
        }
      ]
    },
    {
      "cell_type": "code",
      "metadata": {
        "id": "H8CYebdWBNDO",
        "colab_type": "code",
        "colab": {
          "base_uri": "https://localhost:8080/",
          "height": 386
        },
        "outputId": "4b4fb4f2-fb2b-4fa5-cfcf-9ea56b64e705"
      },
      "source": [
        "test_df.info()"
      ],
      "execution_count": null,
      "outputs": [
        {
          "output_type": "stream",
          "text": [
            "<class 'pandas.core.frame.DataFrame'>\n",
            "RangeIndex: 41697600 entries, 0 to 41697599\n",
            "Data columns (total 15 columns):\n",
            " #   Column              Dtype  \n",
            "---  ------              -----  \n",
            " 0   building_id         int16  \n",
            " 1   meter               int8   \n",
            " 2   site_id             int8   \n",
            " 3   primary_use         int8   \n",
            " 4   square_meter        float32\n",
            " 5   timestamp           object \n",
            " 6   year_built          float16\n",
            " 7   air_temperature     float16\n",
            " 8   cloud_coverage      float16\n",
            " 9   dew_temperature     float16\n",
            " 10  precip_depth_1_hr   float16\n",
            " 11  sea_level_pressure  float16\n",
            " 12  wind_direction      float16\n",
            " 13  wind_speed          float16\n",
            " 14  original_index      int32  \n",
            "dtypes: float16(8), float32(1), int16(1), int32(1), int8(3), object(1)\n",
            "memory usage: 1.4+ GB\n"
          ],
          "name": "stdout"
        }
      ]
    },
    {
      "cell_type": "code",
      "metadata": {
        "id": "faU0ABUxCFVo",
        "colab_type": "code",
        "colab": {}
      },
      "source": [
        "train_df['timestamp'] = pd.to_datetime(train_df['timestamp'],format='%Y-%m-%d %H')\n",
        "test_df['timestamp'] = pd.to_datetime(test_df['timestamp'],format='%Y-%m-%d %H')"
      ],
      "execution_count": null,
      "outputs": []
    },
    {
      "cell_type": "markdown",
      "metadata": {
        "id": "Zno64gEWPKjO",
        "colab_type": "text"
      },
      "source": [
        "2. Se dividen los datos en Aprendizaje y pruebas: se toman meses en ambos conjuntos de daos que son representativos para las cuatro estaciones anuales."
      ]
    },
    {
      "cell_type": "code",
      "metadata": {
        "id": "oa-LAHJPPyJJ",
        "colab_type": "code",
        "colab": {}
      },
      "source": [
        "final_test = test_df\n",
        "vals = {1,4,7,10}\n",
        "test = train_df[(train_df['timestamp'].dt.month.isin(vals))]\n",
        "\n",
        "train_w, test = train_test_split(test,test_size=.50,random_state=42)\n",
        "vals= {2,3,5,6,8,9,11,12}\n",
        "train = train_df[(train_df['timestamp'].dt.month.isin(vals))]\n",
        "\n",
        "train=pd.concat([train,train_w],axis=0)"
      ],
      "execution_count": null,
      "outputs": []
    },
    {
      "cell_type": "code",
      "metadata": {
        "id": "aCF3XPvzP4Ak",
        "colab_type": "code",
        "colab": {
          "base_uri": "https://localhost:8080/",
          "height": 67
        },
        "outputId": "9a83f626-bc69-4352-8388-4acc44a8a82d"
      },
      "source": [
        "print('Entrenando con',round(100*len(train)/(len(train)+len(test))),'% de los datos originales de entrenamiento')\n",
        "print('Entrenando con ',round(100*len(test)/(len(train)+len(test))),'% de los datos originales de pruebas')\n",
        "print('Prueba final con el 100% de los datos de prueba originales')"
      ],
      "execution_count": null,
      "outputs": [
        {
          "output_type": "stream",
          "text": [
            "Entrenando con 83 % de los datos originales de entrenamiento\n",
            "Entrenando con  17 % de los datos originales de pruebas\n",
            "Prueba final con el 100% de los datos de prueba originales\n"
          ],
          "name": "stdout"
        }
      ]
    },
    {
      "cell_type": "markdown",
      "metadata": {
        "id": "eTxFRmK7lAW7",
        "colab_type": "text"
      },
      "source": [
        "3. Caracteristicas de ingeniera : para mejorar los datos en el    aprendizaje automático supervisado, con esta técnica se intenta mejorar el poder predictivo del algoritmo de aprendizaje en este caso las redes neuronales artificiales recurrentes LSTM y LigthGBM, utilizdo los datos sin procesar, datos limpios."
      ]
    },
    {
      "cell_type": "code",
      "metadata": {
        "id": "e5IdgDjkp6jV",
        "colab_type": "code",
        "colab": {}
      },
      "source": [
        "def feature_engineering(data):\n",
        "    # Ordenar por marca de tiempo\n",
        "    data.sort_values(\"timestamp\")\n",
        "    data.reset_index(drop=True)\n",
        "\n",
        "    ## mas funciones\n",
        "    # tiempo\n",
        "    \n",
        "    data[\"hour\"] = data[\"timestamp\"].dt.hour\n",
        "    data[\"day\"] = data[\"timestamp\"].dt.day\n",
        "    data[\"week\"] = data[\"timestamp\"].dt.week\n",
        "    data[\"month\"] = data[\"timestamp\"].dt.month\n",
        "    data[\"weekday\"] = data[\"timestamp\"].dt.weekday\n",
        "    \n",
        "\n",
        "    \n",
        "    for name in list(data):\n",
        "        if name == \"meter_reading\":\n",
        "            # meter_reading, porque la distribución no es normal, está sesgada\n",
        "            data['log_meter_reading'] =  np.log(data['meter_reading'])\n",
        "            #data.drop(['square_feet'],axis=1,inplace=True) \n",
        "\n",
        "    for name in list(data):\n",
        "        if name == \"square_meter\":\n",
        "            # square_meter, porque la distribución no es normal, está sesgada\n",
        "            data['log_square_meter'] =  np.log(data['square_meter'])\n",
        "            #data.drop(['square_feet'],axis=1,inplace=True) \n",
        "\n",
        "    for name in list(data): \n",
        "        if name == \"floor_count\":\n",
        "            # floor_count, porque la distribución no es normal, está sesgada\n",
        "            data['log_floor_count'] =  np.log(data['floor_count'])\n",
        "            #data.drop(['floor_count'],axis=1,inplace=True) \n",
        "    \n",
        "    \n",
        "    for name in list(data):\n",
        "        if name == 'dew_temperature':\n",
        "            # dew_temperature, porque la distribución no es normal, está sesgada\n",
        "            data['square_dew_temperature'] =  np.square(data['dew_temperature'])\n",
        "    \n",
        "\n",
        "    # Dias festivos\n",
        "    holidays = [\"2016-01-01\", \"2016-01-18\", \"2016-02-15\", \"2016-05-30\", \"2016-07-04\",\n",
        "            \"2016-09-05\", \"2016-10-10\", \"2016-11-11\", \"2016-11-24\", \"2016-12-26\",\n",
        "            \"2017-01-01\", \"2017-01-16\", \"2017-02-20\", \"2017-05-29\", \"2017-07-04\",\n",
        "            \"2017-09-04\", \"2017-10-09\", \"2017-11-10\", \"2017-11-23\", \"2017-12-25\",\n",
        "            \"2018-01-01\", \"2018-01-15\", \"2018-02-19\", \"2018-05-28\", \"2018-07-04\",\n",
        "            \"2018-09-03\", \"2018-10-08\", \"2018-11-12\", \"2018-11-22\", \"2018-12-25\",\n",
        "            \"2019-01-01\"]\n",
        "    data[\"is_holiday\"] = (data.timestamp.dt.date.astype(\"str\").isin(holidays)).astype(int)\n",
        "       \n",
        "    \n",
        "    return data "
      ],
      "execution_count": null,
      "outputs": []
    },
    {
      "cell_type": "code",
      "metadata": {
        "id": "mCarTNH4QW2v",
        "colab_type": "code",
        "colab": {}
      },
      "source": [
        "train = feature_engineering(train)\n",
        "\n",
        "for name in train:\n",
        "    if name == 'index':\n",
        "        train.drop('index',axis=1,inplace=True)\n",
        "\n",
        "train=train.reset_index() \n",
        "train.drop('index',axis=1,inplace=True)       "
      ],
      "execution_count": null,
      "outputs": []
    },
    {
      "cell_type": "code",
      "metadata": {
        "id": "Mdg2XibBQasc",
        "colab_type": "code",
        "colab": {}
      },
      "source": [
        "test = feature_engineering(test)\n",
        "\n",
        "for name in test:\n",
        "    if name == 'index':\n",
        "        test.drop('index',axis=1,inplace=True)\n",
        "\n",
        "test=test.reset_index()\n",
        "test.drop('index',axis=1,inplace=True)"
      ],
      "execution_count": null,
      "outputs": []
    },
    {
      "cell_type": "code",
      "metadata": {
        "id": "aG1xuEE_QeoZ",
        "colab_type": "code",
        "colab": {}
      },
      "source": [
        "final_test = feature_engineering(final_test)\n",
        "\n",
        "for name in final_test:\n",
        "    if name == 'index':\n",
        "        final_test.drop('index',axis=1,inplace=True)\n",
        "\n",
        "final_test=final_test.reset_index()\n",
        "final_test.drop('index',axis=1,inplace=True)"
      ],
      "execution_count": null,
      "outputs": []
    },
    {
      "cell_type": "code",
      "metadata": {
        "id": "n5KksCIiQiFd",
        "colab_type": "code",
        "colab": {}
      },
      "source": [
        "for name in list(train):\n",
        "    if name not in (list(final_test)):\n",
        "        if name != 'meter_reading':\n",
        "            train.drop([name],axis=1,inplace=True)\n",
        "            \n",
        "for name in list(test):\n",
        "    if name not in (list(final_test)):\n",
        "        if name != 'meter_reading':\n",
        "            test.drop([name],axis=1,inplace=True)"
      ],
      "execution_count": null,
      "outputs": []
    },
    {
      "cell_type": "code",
      "metadata": {
        "id": "taYRA8nvQmqH",
        "colab_type": "code",
        "colab": {}
      },
      "source": [
        "train_drop = ['timestamp','meter_reading','original_index','site_id']\n",
        "test_drop = ['timestamp','meter_reading','original_index','site_id']\n",
        "final_test_drop = ['timestamp','original_index','site_id']"
      ],
      "execution_count": null,
      "outputs": []
    },
    {
      "cell_type": "code",
      "metadata": {
        "id": "W94AGZtYQs_x",
        "colab_type": "code",
        "colab": {}
      },
      "source": [
        "X_train = train.drop(train_drop, axis= 1)\n",
        "\n",
        "X_test = test.drop(test_drop, axis= 1)\n",
        "\n",
        "X_final_test = final_test.drop(final_test_drop, axis= 1)"
      ],
      "execution_count": null,
      "outputs": []
    },
    {
      "cell_type": "code",
      "metadata": {
        "id": "zjbZkln0Qv0Q",
        "colab_type": "code",
        "colab": {
          "base_uri": "https://localhost:8080/",
          "height": 67
        },
        "outputId": "0812798b-416b-48b6-a799-b6ac139e9d9b"
      },
      "source": [
        "X_train=reduce_mem_usage(X_train)\n",
        "X_test=reduce_mem_usage(X_test)\n",
        "X_final_test=reduce_mem_usage(X_final_test)"
      ],
      "execution_count": null,
      "outputs": [
        {
          "output_type": "stream",
          "text": [
            "Memoria usada disminuida a 507.65 Mb (56.4% reduccion)\n",
            "Memoria usada disminuida a 100.40 Mb (56.4% reduccion)\n",
            "Memoria usada disminuida a 1352.04 Mb (56.4% reduccion)\n"
          ],
          "name": "stdout"
        }
      ]
    },
    {
      "cell_type": "code",
      "metadata": {
        "id": "a7Fs6qBzggTx",
        "colab_type": "code",
        "colab": {
          "base_uri": "https://localhost:8080/",
          "height": 383
        },
        "outputId": "68179260-e21a-466f-9e38-ba29a0d93f0b"
      },
      "source": [
        "train.head(5)"
      ],
      "execution_count": null,
      "outputs": [
        {
          "output_type": "execute_result",
          "data": {
            "text/html": [
              "<div>\n",
              "<style scoped>\n",
              "    .dataframe tbody tr th:only-of-type {\n",
              "        vertical-align: middle;\n",
              "    }\n",
              "\n",
              "    .dataframe tbody tr th {\n",
              "        vertical-align: top;\n",
              "    }\n",
              "\n",
              "    .dataframe thead th {\n",
              "        text-align: right;\n",
              "    }\n",
              "</style>\n",
              "<table border=\"1\" class=\"dataframe\">\n",
              "  <thead>\n",
              "    <tr style=\"text-align: right;\">\n",
              "      <th></th>\n",
              "      <th>building_id</th>\n",
              "      <th>meter</th>\n",
              "      <th>site_id</th>\n",
              "      <th>primary_use</th>\n",
              "      <th>square_meter</th>\n",
              "      <th>timestamp</th>\n",
              "      <th>meter_reading</th>\n",
              "      <th>year_built</th>\n",
              "      <th>air_temperature</th>\n",
              "      <th>cloud_coverage</th>\n",
              "      <th>dew_temperature</th>\n",
              "      <th>precip_depth_1_hr</th>\n",
              "      <th>sea_level_pressure</th>\n",
              "      <th>wind_direction</th>\n",
              "      <th>wind_speed</th>\n",
              "      <th>original_index</th>\n",
              "      <th>hour</th>\n",
              "      <th>day</th>\n",
              "      <th>week</th>\n",
              "      <th>month</th>\n",
              "      <th>weekday</th>\n",
              "      <th>log_square_meter</th>\n",
              "      <th>square_dew_temperature</th>\n",
              "      <th>is_holiday</th>\n",
              "    </tr>\n",
              "  </thead>\n",
              "  <tbody>\n",
              "    <tr>\n",
              "      <th>0</th>\n",
              "      <td>0</td>\n",
              "      <td>1</td>\n",
              "      <td>0</td>\n",
              "      <td>0</td>\n",
              "      <td>668.880005</td>\n",
              "      <td>2016-05-01 19:00:00</td>\n",
              "      <td>131.2500</td>\n",
              "      <td>2008.0</td>\n",
              "      <td>31.093750</td>\n",
              "      <td>5.500000</td>\n",
              "      <td>17.203125</td>\n",
              "      <td>0.0</td>\n",
              "      <td>1016.0</td>\n",
              "      <td>100.0</td>\n",
              "      <td>4.101562</td>\n",
              "      <td>6509935</td>\n",
              "      <td>19</td>\n",
              "      <td>1</td>\n",
              "      <td>17</td>\n",
              "      <td>5</td>\n",
              "      <td>6</td>\n",
              "      <td>6.505605</td>\n",
              "      <td>296.00</td>\n",
              "      <td>0</td>\n",
              "    </tr>\n",
              "    <tr>\n",
              "      <th>1</th>\n",
              "      <td>0</td>\n",
              "      <td>1</td>\n",
              "      <td>0</td>\n",
              "      <td>0</td>\n",
              "      <td>668.880005</td>\n",
              "      <td>2016-05-20 18:00:00</td>\n",
              "      <td>68.2500</td>\n",
              "      <td>2008.0</td>\n",
              "      <td>25.000000</td>\n",
              "      <td>8.000000</td>\n",
              "      <td>18.296875</td>\n",
              "      <td>-1.0</td>\n",
              "      <td>1018.0</td>\n",
              "      <td>320.0</td>\n",
              "      <td>10.296875</td>\n",
              "      <td>7576722</td>\n",
              "      <td>18</td>\n",
              "      <td>20</td>\n",
              "      <td>20</td>\n",
              "      <td>5</td>\n",
              "      <td>4</td>\n",
              "      <td>6.505605</td>\n",
              "      <td>334.75</td>\n",
              "      <td>0</td>\n",
              "    </tr>\n",
              "    <tr>\n",
              "      <th>2</th>\n",
              "      <td>0</td>\n",
              "      <td>1</td>\n",
              "      <td>0</td>\n",
              "      <td>0</td>\n",
              "      <td>668.880005</td>\n",
              "      <td>2016-05-20 19:00:00</td>\n",
              "      <td>81.4375</td>\n",
              "      <td>2008.0</td>\n",
              "      <td>25.593750</td>\n",
              "      <td>7.667969</td>\n",
              "      <td>18.906250</td>\n",
              "      <td>-1.0</td>\n",
              "      <td>1017.0</td>\n",
              "      <td>340.0</td>\n",
              "      <td>5.699219</td>\n",
              "      <td>7579069</td>\n",
              "      <td>19</td>\n",
              "      <td>20</td>\n",
              "      <td>20</td>\n",
              "      <td>5</td>\n",
              "      <td>4</td>\n",
              "      <td>6.505605</td>\n",
              "      <td>357.50</td>\n",
              "      <td>0</td>\n",
              "    </tr>\n",
              "    <tr>\n",
              "      <th>3</th>\n",
              "      <td>0</td>\n",
              "      <td>1</td>\n",
              "      <td>0</td>\n",
              "      <td>0</td>\n",
              "      <td>668.880005</td>\n",
              "      <td>2016-05-20 20:00:00</td>\n",
              "      <td>70.0000</td>\n",
              "      <td>2008.0</td>\n",
              "      <td>28.296875</td>\n",
              "      <td>7.332031</td>\n",
              "      <td>19.406250</td>\n",
              "      <td>0.0</td>\n",
              "      <td>1017.0</td>\n",
              "      <td>30.0</td>\n",
              "      <td>3.599609</td>\n",
              "      <td>7581415</td>\n",
              "      <td>20</td>\n",
              "      <td>20</td>\n",
              "      <td>20</td>\n",
              "      <td>5</td>\n",
              "      <td>4</td>\n",
              "      <td>6.505605</td>\n",
              "      <td>376.50</td>\n",
              "      <td>0</td>\n",
              "    </tr>\n",
              "    <tr>\n",
              "      <th>4</th>\n",
              "      <td>0</td>\n",
              "      <td>1</td>\n",
              "      <td>0</td>\n",
              "      <td>0</td>\n",
              "      <td>668.880005</td>\n",
              "      <td>2016-05-20 21:00:00</td>\n",
              "      <td>70.6250</td>\n",
              "      <td>2008.0</td>\n",
              "      <td>30.000000</td>\n",
              "      <td>7.000000</td>\n",
              "      <td>18.906250</td>\n",
              "      <td>0.0</td>\n",
              "      <td>1016.5</td>\n",
              "      <td>70.0</td>\n",
              "      <td>5.101562</td>\n",
              "      <td>7583762</td>\n",
              "      <td>21</td>\n",
              "      <td>20</td>\n",
              "      <td>20</td>\n",
              "      <td>5</td>\n",
              "      <td>4</td>\n",
              "      <td>6.505605</td>\n",
              "      <td>357.50</td>\n",
              "      <td>0</td>\n",
              "    </tr>\n",
              "  </tbody>\n",
              "</table>\n",
              "</div>"
            ],
            "text/plain": [
              "   building_id  meter  site_id  primary_use  square_meter           timestamp  \\\n",
              "0            0      1        0            0    668.880005 2016-05-01 19:00:00   \n",
              "1            0      1        0            0    668.880005 2016-05-20 18:00:00   \n",
              "2            0      1        0            0    668.880005 2016-05-20 19:00:00   \n",
              "3            0      1        0            0    668.880005 2016-05-20 20:00:00   \n",
              "4            0      1        0            0    668.880005 2016-05-20 21:00:00   \n",
              "\n",
              "   meter_reading  year_built  air_temperature  cloud_coverage  \\\n",
              "0       131.2500      2008.0        31.093750        5.500000   \n",
              "1        68.2500      2008.0        25.000000        8.000000   \n",
              "2        81.4375      2008.0        25.593750        7.667969   \n",
              "3        70.0000      2008.0        28.296875        7.332031   \n",
              "4        70.6250      2008.0        30.000000        7.000000   \n",
              "\n",
              "   dew_temperature  precip_depth_1_hr  sea_level_pressure  wind_direction  \\\n",
              "0        17.203125                0.0              1016.0           100.0   \n",
              "1        18.296875               -1.0              1018.0           320.0   \n",
              "2        18.906250               -1.0              1017.0           340.0   \n",
              "3        19.406250                0.0              1017.0            30.0   \n",
              "4        18.906250                0.0              1016.5            70.0   \n",
              "\n",
              "   wind_speed  original_index  hour  day  week  month  weekday  \\\n",
              "0    4.101562         6509935    19    1    17      5        6   \n",
              "1   10.296875         7576722    18   20    20      5        4   \n",
              "2    5.699219         7579069    19   20    20      5        4   \n",
              "3    3.599609         7581415    20   20    20      5        4   \n",
              "4    5.101562         7583762    21   20    20      5        4   \n",
              "\n",
              "   log_square_meter  square_dew_temperature  is_holiday  \n",
              "0          6.505605                  296.00           0  \n",
              "1          6.505605                  334.75           0  \n",
              "2          6.505605                  357.50           0  \n",
              "3          6.505605                  376.50           0  \n",
              "4          6.505605                  357.50           0  "
            ]
          },
          "metadata": {
            "tags": []
          },
          "execution_count": 23
        }
      ]
    },
    {
      "cell_type": "markdown",
      "metadata": {
        "id": "MesNUtwalWU6",
        "colab_type": "text"
      },
      "source": [
        "4. Escalado de datos previo a entrenar los algoritmos de Light GBM y LSTM."
      ]
    },
    {
      "cell_type": "code",
      "metadata": {
        "id": "cGuG9X15Q2fm",
        "colab_type": "code",
        "colab": {}
      },
      "source": [
        "#from sklearn.preprocessing import MinMaxScaler\n",
        "\n",
        "#Escalado de datos\n",
        "scalerTrain = MinMaxScaler(feature_range=(0,1))\n",
        "\n",
        "# train\n",
        "X_train=scalerTrain.fit_transform(X_train) #fit_transform, el modelo está entrenado en esto\n",
        "X_train = pd.DataFrame(X_train)\n",
        "X_train.columns=(train.drop(train_drop, axis= 1)).columns\n",
        "X_train_col=train.columns\n",
        "X_train_dtypes=train.dtypes"
      ],
      "execution_count": null,
      "outputs": []
    },
    {
      "cell_type": "code",
      "metadata": {
        "id": "dR0uRoj-Q6b7",
        "colab_type": "code",
        "colab": {}
      },
      "source": [
        "# test\n",
        "X_test=scalerTrain.transform(X_test) #SOLO transformarse, el modelo necesita predecir de manera similar a cómo fue entrenado\n",
        "X_test = pd.DataFrame(X_test)\n",
        "X_test.columns=(test.drop(test_drop, axis= 1)).columns\n",
        "X_test_col=test.columns\n",
        "X_test_dtypes=test.dtypes"
      ],
      "execution_count": null,
      "outputs": []
    },
    {
      "cell_type": "code",
      "metadata": {
        "id": "sT5UTwvrQ-Ey",
        "colab_type": "code",
        "colab": {}
      },
      "source": [
        "\n",
        "# final_test\n",
        "X_final_test=scalerTrain.transform(X_final_test) #SOLO transformarse, el modelo necesita predecir de manera similar a cómo fue entrenado\n",
        "X_final_test = pd.DataFrame(X_final_test)\n",
        "X_final_test.columns=(final_test.drop(final_test_drop, axis= 1)).columns\n",
        "X_final_test_col=final_test.columns\n",
        "X_final_test_dtypes=final_test.dtypes"
      ],
      "execution_count": null,
      "outputs": []
    },
    {
      "cell_type": "code",
      "metadata": {
        "id": "BBwWq9ttmSwN",
        "colab_type": "code",
        "colab": {
          "base_uri": "https://localhost:8080/",
          "height": 67
        },
        "outputId": "2f489561-cd5b-404c-934f-4074ec2bece6"
      },
      "source": [
        "X_train=reduce_mem_usage(X_train)\n",
        "X_test=reduce_mem_usage(X_test)\n",
        "X_final_test=reduce_mem_usage(X_final_test)"
      ],
      "execution_count": null,
      "outputs": [
        {
          "output_type": "stream",
          "text": [
            "Memoria usada disminuida a 597.23 Mb (75.0% reduccion)\n",
            "Memoria usada disminuida a 118.12 Mb (75.0% reduccion)\n",
            "Memoria usada disminuida a 1590.64 Mb (75.0% reduccion)\n"
          ],
          "name": "stdout"
        }
      ]
    },
    {
      "cell_type": "code",
      "metadata": {
        "id": "oZFngISDi_t2",
        "colab_type": "code",
        "colab": {}
      },
      "source": [
        "train=pd.concat([train[train_drop],X_train],axis=1)"
      ],
      "execution_count": null,
      "outputs": []
    },
    {
      "cell_type": "code",
      "metadata": {
        "id": "HIJo9_kSjEsS",
        "colab_type": "code",
        "colab": {}
      },
      "source": [
        "test=pd.concat([test[test_drop],X_test],axis=1)"
      ],
      "execution_count": null,
      "outputs": []
    },
    {
      "cell_type": "code",
      "metadata": {
        "id": "dHfj1axQjKdb",
        "colab_type": "code",
        "colab": {}
      },
      "source": [
        "final_test=pd.concat([final_test[final_test_drop],X_final_test],axis=1)"
      ],
      "execution_count": null,
      "outputs": []
    },
    {
      "cell_type": "code",
      "metadata": {
        "id": "v12gGhwLrIzF",
        "colab_type": "code",
        "colab": {
          "base_uri": "https://localhost:8080/",
          "height": 67
        },
        "outputId": "6013f5c7-f7c2-44b8-afa6-69da677d712f"
      },
      "source": [
        "train=reduce_mem_usage(train)\n",
        "test=reduce_mem_usage(test)\n",
        "final_test=reduce_mem_usage(final_test)"
      ],
      "execution_count": null,
      "outputs": [
        {
          "output_type": "stream",
          "text": [
            "Memoria usada disminuida a 821.20 Mb (0.0% reduccion)\n",
            "Memoria usada disminuida a 162.42 Mb (0.0% reduccion)\n",
            "Memoria usada disminuida a 2107.59 Mb (0.0% reduccion)\n"
          ],
          "name": "stdout"
        }
      ]
    },
    {
      "cell_type": "code",
      "metadata": {
        "id": "4MtqQXtdrr18",
        "colab_type": "code",
        "colab": {
          "base_uri": "https://localhost:8080/",
          "height": 118
        },
        "outputId": "415767d8-8774-4c65-f447-e4496ef4c5be"
      },
      "source": [
        "Y_train = np.log1p(train['meter_reading'])\n",
        "Y_train.head(5)"
      ],
      "execution_count": null,
      "outputs": [
        {
          "output_type": "execute_result",
          "data": {
            "text/plain": [
              "0    4.882812\n",
              "1    4.238281\n",
              "2    4.410156\n",
              "3    4.261719\n",
              "4    4.269531\n",
              "Name: meter_reading, dtype: float16"
            ]
          },
          "metadata": {
            "tags": []
          },
          "execution_count": 33
        }
      ]
    },
    {
      "cell_type": "code",
      "metadata": {
        "id": "HEfS3sg8Uam6",
        "colab_type": "code",
        "colab": {
          "base_uri": "https://localhost:8080/",
          "height": 118
        },
        "outputId": "69f9ddae-8894-4ae1-d50d-d424d5f575ed"
      },
      "source": [
        "Y_test= np.log1p(test['meter_reading'])\n",
        "Y_test.head(5)"
      ],
      "execution_count": null,
      "outputs": [
        {
          "output_type": "execute_result",
          "data": {
            "text/plain": [
              "0    4.238281\n",
              "1    4.402344\n",
              "2    4.535156\n",
              "3    4.886719\n",
              "4    3.892578\n",
              "Name: meter_reading, dtype: float16"
            ]
          },
          "metadata": {
            "tags": []
          },
          "execution_count": 34
        }
      ]
    },
    {
      "cell_type": "code",
      "metadata": {
        "id": "4o0oohCTrxdM",
        "colab_type": "code",
        "colab": {
          "base_uri": "https://localhost:8080/",
          "height": 215
        },
        "outputId": "6a02b604-fb6d-4de6-d6c5-61e72d7ad525"
      },
      "source": [
        "features_for_train = train.drop(train_drop,axis=1)\n",
        "features_for_train.head(5)"
      ],
      "execution_count": null,
      "outputs": [
        {
          "output_type": "execute_result",
          "data": {
            "text/html": [
              "<div>\n",
              "<style scoped>\n",
              "    .dataframe tbody tr th:only-of-type {\n",
              "        vertical-align: middle;\n",
              "    }\n",
              "\n",
              "    .dataframe tbody tr th {\n",
              "        vertical-align: top;\n",
              "    }\n",
              "\n",
              "    .dataframe thead th {\n",
              "        text-align: right;\n",
              "    }\n",
              "</style>\n",
              "<table border=\"1\" class=\"dataframe\">\n",
              "  <thead>\n",
              "    <tr style=\"text-align: right;\">\n",
              "      <th></th>\n",
              "      <th>building_id</th>\n",
              "      <th>meter</th>\n",
              "      <th>primary_use</th>\n",
              "      <th>square_meter</th>\n",
              "      <th>year_built</th>\n",
              "      <th>air_temperature</th>\n",
              "      <th>cloud_coverage</th>\n",
              "      <th>dew_temperature</th>\n",
              "      <th>precip_depth_1_hr</th>\n",
              "      <th>sea_level_pressure</th>\n",
              "      <th>wind_direction</th>\n",
              "      <th>wind_speed</th>\n",
              "      <th>hour</th>\n",
              "      <th>day</th>\n",
              "      <th>week</th>\n",
              "      <th>month</th>\n",
              "      <th>weekday</th>\n",
              "      <th>log_square_meter</th>\n",
              "      <th>square_dew_temperature</th>\n",
              "      <th>is_holiday</th>\n",
              "    </tr>\n",
              "  </thead>\n",
              "  <tbody>\n",
              "    <tr>\n",
              "      <th>0</th>\n",
              "      <td>0.0</td>\n",
              "      <td>0.333252</td>\n",
              "      <td>0.0</td>\n",
              "      <td>0.008171</td>\n",
              "      <td>0.922852</td>\n",
              "      <td>0.788574</td>\n",
              "      <td>0.611328</td>\n",
              "      <td>0.854492</td>\n",
              "      <td>0.002907</td>\n",
              "      <td>0.615234</td>\n",
              "      <td>0.277832</td>\n",
              "      <td>0.215820</td>\n",
              "      <td>0.826172</td>\n",
              "      <td>0.000000</td>\n",
              "      <td>0.307617</td>\n",
              "      <td>0.363525</td>\n",
              "      <td>1.000000</td>\n",
              "      <td>0.406494</td>\n",
              "      <td>0.241577</td>\n",
              "      <td>0.0</td>\n",
              "    </tr>\n",
              "    <tr>\n",
              "      <th>1</th>\n",
              "      <td>0.0</td>\n",
              "      <td>0.333252</td>\n",
              "      <td>0.0</td>\n",
              "      <td>0.008171</td>\n",
              "      <td>0.922852</td>\n",
              "      <td>0.708496</td>\n",
              "      <td>0.888672</td>\n",
              "      <td>0.872559</td>\n",
              "      <td>0.000000</td>\n",
              "      <td>0.641113</td>\n",
              "      <td>0.888672</td>\n",
              "      <td>0.541992</td>\n",
              "      <td>0.782715</td>\n",
              "      <td>0.633301</td>\n",
              "      <td>0.365479</td>\n",
              "      <td>0.363525</td>\n",
              "      <td>0.666504</td>\n",
              "      <td>0.406494</td>\n",
              "      <td>0.273193</td>\n",
              "      <td>0.0</td>\n",
              "    </tr>\n",
              "    <tr>\n",
              "      <th>2</th>\n",
              "      <td>0.0</td>\n",
              "      <td>0.333252</td>\n",
              "      <td>0.0</td>\n",
              "      <td>0.008171</td>\n",
              "      <td>0.922852</td>\n",
              "      <td>0.716309</td>\n",
              "      <td>0.852051</td>\n",
              "      <td>0.882324</td>\n",
              "      <td>0.000000</td>\n",
              "      <td>0.628418</td>\n",
              "      <td>0.944336</td>\n",
              "      <td>0.300049</td>\n",
              "      <td>0.826172</td>\n",
              "      <td>0.633301</td>\n",
              "      <td>0.365479</td>\n",
              "      <td>0.363525</td>\n",
              "      <td>0.666504</td>\n",
              "      <td>0.406494</td>\n",
              "      <td>0.291748</td>\n",
              "      <td>0.0</td>\n",
              "    </tr>\n",
              "    <tr>\n",
              "      <th>3</th>\n",
              "      <td>0.0</td>\n",
              "      <td>0.333252</td>\n",
              "      <td>0.0</td>\n",
              "      <td>0.008171</td>\n",
              "      <td>0.922852</td>\n",
              "      <td>0.751953</td>\n",
              "      <td>0.814453</td>\n",
              "      <td>0.890625</td>\n",
              "      <td>0.002907</td>\n",
              "      <td>0.628418</td>\n",
              "      <td>0.083313</td>\n",
              "      <td>0.189453</td>\n",
              "      <td>0.869629</td>\n",
              "      <td>0.633301</td>\n",
              "      <td>0.365479</td>\n",
              "      <td>0.363525</td>\n",
              "      <td>0.666504</td>\n",
              "      <td>0.406494</td>\n",
              "      <td>0.307373</td>\n",
              "      <td>0.0</td>\n",
              "    </tr>\n",
              "    <tr>\n",
              "      <th>4</th>\n",
              "      <td>0.0</td>\n",
              "      <td>0.333252</td>\n",
              "      <td>0.0</td>\n",
              "      <td>0.008171</td>\n",
              "      <td>0.922852</td>\n",
              "      <td>0.773926</td>\n",
              "      <td>0.777832</td>\n",
              "      <td>0.882324</td>\n",
              "      <td>0.002907</td>\n",
              "      <td>0.621582</td>\n",
              "      <td>0.194458</td>\n",
              "      <td>0.268555</td>\n",
              "      <td>0.913086</td>\n",
              "      <td>0.633301</td>\n",
              "      <td>0.365479</td>\n",
              "      <td>0.363525</td>\n",
              "      <td>0.666504</td>\n",
              "      <td>0.406494</td>\n",
              "      <td>0.291748</td>\n",
              "      <td>0.0</td>\n",
              "    </tr>\n",
              "  </tbody>\n",
              "</table>\n",
              "</div>"
            ],
            "text/plain": [
              "   building_id     meter  primary_use  square_meter  year_built  \\\n",
              "0          0.0  0.333252          0.0      0.008171    0.922852   \n",
              "1          0.0  0.333252          0.0      0.008171    0.922852   \n",
              "2          0.0  0.333252          0.0      0.008171    0.922852   \n",
              "3          0.0  0.333252          0.0      0.008171    0.922852   \n",
              "4          0.0  0.333252          0.0      0.008171    0.922852   \n",
              "\n",
              "   air_temperature  cloud_coverage  dew_temperature  precip_depth_1_hr  \\\n",
              "0         0.788574        0.611328         0.854492           0.002907   \n",
              "1         0.708496        0.888672         0.872559           0.000000   \n",
              "2         0.716309        0.852051         0.882324           0.000000   \n",
              "3         0.751953        0.814453         0.890625           0.002907   \n",
              "4         0.773926        0.777832         0.882324           0.002907   \n",
              "\n",
              "   sea_level_pressure  wind_direction  wind_speed      hour       day  \\\n",
              "0            0.615234        0.277832    0.215820  0.826172  0.000000   \n",
              "1            0.641113        0.888672    0.541992  0.782715  0.633301   \n",
              "2            0.628418        0.944336    0.300049  0.826172  0.633301   \n",
              "3            0.628418        0.083313    0.189453  0.869629  0.633301   \n",
              "4            0.621582        0.194458    0.268555  0.913086  0.633301   \n",
              "\n",
              "       week     month   weekday  log_square_meter  square_dew_temperature  \\\n",
              "0  0.307617  0.363525  1.000000          0.406494                0.241577   \n",
              "1  0.365479  0.363525  0.666504          0.406494                0.273193   \n",
              "2  0.365479  0.363525  0.666504          0.406494                0.291748   \n",
              "3  0.365479  0.363525  0.666504          0.406494                0.307373   \n",
              "4  0.365479  0.363525  0.666504          0.406494                0.291748   \n",
              "\n",
              "   is_holiday  \n",
              "0         0.0  \n",
              "1         0.0  \n",
              "2         0.0  \n",
              "3         0.0  \n",
              "4         0.0  "
            ]
          },
          "metadata": {
            "tags": []
          },
          "execution_count": 35
        }
      ]
    },
    {
      "cell_type": "code",
      "metadata": {
        "id": "E90rJgV_r_px",
        "colab_type": "code",
        "colab": {
          "base_uri": "https://localhost:8080/",
          "height": 215
        },
        "outputId": "15ed2f7b-a4cd-49a3-9717-d6184a88d926"
      },
      "source": [
        "features_for_test = test.drop(test_drop,axis=1)\n",
        "features_for_test.head()"
      ],
      "execution_count": null,
      "outputs": [
        {
          "output_type": "execute_result",
          "data": {
            "text/html": [
              "<div>\n",
              "<style scoped>\n",
              "    .dataframe tbody tr th:only-of-type {\n",
              "        vertical-align: middle;\n",
              "    }\n",
              "\n",
              "    .dataframe tbody tr th {\n",
              "        vertical-align: top;\n",
              "    }\n",
              "\n",
              "    .dataframe thead th {\n",
              "        text-align: right;\n",
              "    }\n",
              "</style>\n",
              "<table border=\"1\" class=\"dataframe\">\n",
              "  <thead>\n",
              "    <tr style=\"text-align: right;\">\n",
              "      <th></th>\n",
              "      <th>building_id</th>\n",
              "      <th>meter</th>\n",
              "      <th>primary_use</th>\n",
              "      <th>square_meter</th>\n",
              "      <th>year_built</th>\n",
              "      <th>air_temperature</th>\n",
              "      <th>cloud_coverage</th>\n",
              "      <th>dew_temperature</th>\n",
              "      <th>precip_depth_1_hr</th>\n",
              "      <th>sea_level_pressure</th>\n",
              "      <th>wind_direction</th>\n",
              "      <th>wind_speed</th>\n",
              "      <th>hour</th>\n",
              "      <th>day</th>\n",
              "      <th>week</th>\n",
              "      <th>month</th>\n",
              "      <th>weekday</th>\n",
              "      <th>log_square_meter</th>\n",
              "      <th>square_dew_temperature</th>\n",
              "      <th>is_holiday</th>\n",
              "    </tr>\n",
              "  </thead>\n",
              "  <tbody>\n",
              "    <tr>\n",
              "      <th>0</th>\n",
              "      <td>0.446045</td>\n",
              "      <td>0.333252</td>\n",
              "      <td>0.000000</td>\n",
              "      <td>0.066833</td>\n",
              "      <td>0.196533</td>\n",
              "      <td>0.599609</td>\n",
              "      <td>0.222168</td>\n",
              "      <td>0.800293</td>\n",
              "      <td>0.002907</td>\n",
              "      <td>0.557617</td>\n",
              "      <td>0.833496</td>\n",
              "      <td>0.189453</td>\n",
              "      <td>0.347900</td>\n",
              "      <td>0.866699</td>\n",
              "      <td>0.557617</td>\n",
              "      <td>0.545410</td>\n",
              "      <td>0.333252</td>\n",
              "      <td>0.663574</td>\n",
              "      <td>0.157593</td>\n",
              "      <td>0.0</td>\n",
              "    </tr>\n",
              "    <tr>\n",
              "      <th>1</th>\n",
              "      <td>0.174683</td>\n",
              "      <td>0.333252</td>\n",
              "      <td>0.000000</td>\n",
              "      <td>0.075012</td>\n",
              "      <td>0.546875</td>\n",
              "      <td>0.773926</td>\n",
              "      <td>0.444336</td>\n",
              "      <td>0.554688</td>\n",
              "      <td>0.002907</td>\n",
              "      <td>0.500000</td>\n",
              "      <td>0.694336</td>\n",
              "      <td>0.268555</td>\n",
              "      <td>0.173950</td>\n",
              "      <td>0.733398</td>\n",
              "      <td>0.288574</td>\n",
              "      <td>0.272705</td>\n",
              "      <td>0.833496</td>\n",
              "      <td>0.678223</td>\n",
              "      <td>0.000987</td>\n",
              "      <td>0.0</td>\n",
              "    </tr>\n",
              "    <tr>\n",
              "      <th>2</th>\n",
              "      <td>0.474365</td>\n",
              "      <td>0.333252</td>\n",
              "      <td>0.399902</td>\n",
              "      <td>0.041077</td>\n",
              "      <td>0.649414</td>\n",
              "      <td>0.511230</td>\n",
              "      <td>0.000000</td>\n",
              "      <td>0.638184</td>\n",
              "      <td>0.002907</td>\n",
              "      <td>0.596191</td>\n",
              "      <td>0.750000</td>\n",
              "      <td>0.378906</td>\n",
              "      <td>0.652344</td>\n",
              "      <td>0.933105</td>\n",
              "      <td>0.307617</td>\n",
              "      <td>0.272705</td>\n",
              "      <td>0.666504</td>\n",
              "      <td>0.603516</td>\n",
              "      <td>0.013062</td>\n",
              "      <td>0.0</td>\n",
              "    </tr>\n",
              "    <tr>\n",
              "      <th>3</th>\n",
              "      <td>0.720215</td>\n",
              "      <td>0.333252</td>\n",
              "      <td>0.399902</td>\n",
              "      <td>0.031555</td>\n",
              "      <td>0.589844</td>\n",
              "      <td>0.550781</td>\n",
              "      <td>0.666504</td>\n",
              "      <td>0.718750</td>\n",
              "      <td>0.012230</td>\n",
              "      <td>0.686035</td>\n",
              "      <td>0.416748</td>\n",
              "      <td>0.315674</td>\n",
              "      <td>0.173950</td>\n",
              "      <td>0.066650</td>\n",
              "      <td>0.750000</td>\n",
              "      <td>0.818359</td>\n",
              "      <td>0.000000</td>\n",
              "      <td>0.571289</td>\n",
              "      <td>0.064636</td>\n",
              "      <td>0.0</td>\n",
              "    </tr>\n",
              "    <tr>\n",
              "      <th>4</th>\n",
              "      <td>0.400635</td>\n",
              "      <td>0.333252</td>\n",
              "      <td>0.000000</td>\n",
              "      <td>0.118591</td>\n",
              "      <td>0.512695</td>\n",
              "      <td>0.671875</td>\n",
              "      <td>0.222168</td>\n",
              "      <td>0.772461</td>\n",
              "      <td>0.002907</td>\n",
              "      <td>0.641113</td>\n",
              "      <td>0.722168</td>\n",
              "      <td>0.215820</td>\n",
              "      <td>0.913086</td>\n",
              "      <td>0.300049</td>\n",
              "      <td>0.500000</td>\n",
              "      <td>0.545410</td>\n",
              "      <td>1.000000</td>\n",
              "      <td>0.734375</td>\n",
              "      <td>0.121521</td>\n",
              "      <td>0.0</td>\n",
              "    </tr>\n",
              "  </tbody>\n",
              "</table>\n",
              "</div>"
            ],
            "text/plain": [
              "   building_id     meter  primary_use  square_meter  year_built  \\\n",
              "0     0.446045  0.333252     0.000000      0.066833    0.196533   \n",
              "1     0.174683  0.333252     0.000000      0.075012    0.546875   \n",
              "2     0.474365  0.333252     0.399902      0.041077    0.649414   \n",
              "3     0.720215  0.333252     0.399902      0.031555    0.589844   \n",
              "4     0.400635  0.333252     0.000000      0.118591    0.512695   \n",
              "\n",
              "   air_temperature  cloud_coverage  dew_temperature  precip_depth_1_hr  \\\n",
              "0         0.599609        0.222168         0.800293           0.002907   \n",
              "1         0.773926        0.444336         0.554688           0.002907   \n",
              "2         0.511230        0.000000         0.638184           0.002907   \n",
              "3         0.550781        0.666504         0.718750           0.012230   \n",
              "4         0.671875        0.222168         0.772461           0.002907   \n",
              "\n",
              "   sea_level_pressure  wind_direction  wind_speed      hour       day  \\\n",
              "0            0.557617        0.833496    0.189453  0.347900  0.866699   \n",
              "1            0.500000        0.694336    0.268555  0.173950  0.733398   \n",
              "2            0.596191        0.750000    0.378906  0.652344  0.933105   \n",
              "3            0.686035        0.416748    0.315674  0.173950  0.066650   \n",
              "4            0.641113        0.722168    0.215820  0.913086  0.300049   \n",
              "\n",
              "       week     month   weekday  log_square_meter  square_dew_temperature  \\\n",
              "0  0.557617  0.545410  0.333252          0.663574                0.157593   \n",
              "1  0.288574  0.272705  0.833496          0.678223                0.000987   \n",
              "2  0.307617  0.272705  0.666504          0.603516                0.013062   \n",
              "3  0.750000  0.818359  0.000000          0.571289                0.064636   \n",
              "4  0.500000  0.545410  1.000000          0.734375                0.121521   \n",
              "\n",
              "   is_holiday  \n",
              "0         0.0  \n",
              "1         0.0  \n",
              "2         0.0  \n",
              "3         0.0  \n",
              "4         0.0  "
            ]
          },
          "metadata": {
            "tags": []
          },
          "execution_count": 36
        }
      ]
    },
    {
      "cell_type": "code",
      "metadata": {
        "id": "Vcvrqb2usNl9",
        "colab_type": "code",
        "colab": {
          "base_uri": "https://localhost:8080/",
          "height": 215
        },
        "outputId": "53034f2a-bf23-464e-e55b-59e2cede6226"
      },
      "source": [
        "features_for_final_test = final_test.drop(final_test_drop,axis=1)\n",
        "features_for_final_test.head()"
      ],
      "execution_count": null,
      "outputs": [
        {
          "output_type": "execute_result",
          "data": {
            "text/html": [
              "<div>\n",
              "<style scoped>\n",
              "    .dataframe tbody tr th:only-of-type {\n",
              "        vertical-align: middle;\n",
              "    }\n",
              "\n",
              "    .dataframe tbody tr th {\n",
              "        vertical-align: top;\n",
              "    }\n",
              "\n",
              "    .dataframe thead th {\n",
              "        text-align: right;\n",
              "    }\n",
              "</style>\n",
              "<table border=\"1\" class=\"dataframe\">\n",
              "  <thead>\n",
              "    <tr style=\"text-align: right;\">\n",
              "      <th></th>\n",
              "      <th>building_id</th>\n",
              "      <th>meter</th>\n",
              "      <th>primary_use</th>\n",
              "      <th>square_meter</th>\n",
              "      <th>year_built</th>\n",
              "      <th>air_temperature</th>\n",
              "      <th>cloud_coverage</th>\n",
              "      <th>dew_temperature</th>\n",
              "      <th>precip_depth_1_hr</th>\n",
              "      <th>sea_level_pressure</th>\n",
              "      <th>wind_direction</th>\n",
              "      <th>wind_speed</th>\n",
              "      <th>hour</th>\n",
              "      <th>day</th>\n",
              "      <th>week</th>\n",
              "      <th>month</th>\n",
              "      <th>weekday</th>\n",
              "      <th>log_square_meter</th>\n",
              "      <th>square_dew_temperature</th>\n",
              "      <th>is_holiday</th>\n",
              "    </tr>\n",
              "  </thead>\n",
              "  <tbody>\n",
              "    <tr>\n",
              "      <th>0</th>\n",
              "      <td>0.0</td>\n",
              "      <td>0.333252</td>\n",
              "      <td>0.0</td>\n",
              "      <td>0.008171</td>\n",
              "      <td>0.922852</td>\n",
              "      <td>0.613770</td>\n",
              "      <td>0.444336</td>\n",
              "      <td>0.764648</td>\n",
              "      <td>0.002907</td>\n",
              "      <td>0.686035</td>\n",
              "      <td>0.277832</td>\n",
              "      <td>0.189453</td>\n",
              "      <td>0.000000</td>\n",
              "      <td>0.0</td>\n",
              "      <td>0.980957</td>\n",
              "      <td>0.0</td>\n",
              "      <td>1.0</td>\n",
              "      <td>0.406494</td>\n",
              "      <td>0.111816</td>\n",
              "      <td>1.0</td>\n",
              "    </tr>\n",
              "    <tr>\n",
              "      <th>1</th>\n",
              "      <td>0.0</td>\n",
              "      <td>0.333252</td>\n",
              "      <td>0.0</td>\n",
              "      <td>0.008171</td>\n",
              "      <td>0.922852</td>\n",
              "      <td>0.613770</td>\n",
              "      <td>0.222168</td>\n",
              "      <td>0.782227</td>\n",
              "      <td>0.002907</td>\n",
              "      <td>0.692383</td>\n",
              "      <td>0.361084</td>\n",
              "      <td>0.163086</td>\n",
              "      <td>0.043488</td>\n",
              "      <td>0.0</td>\n",
              "      <td>0.980957</td>\n",
              "      <td>0.0</td>\n",
              "      <td>1.0</td>\n",
              "      <td>0.406494</td>\n",
              "      <td>0.133667</td>\n",
              "      <td>1.0</td>\n",
              "    </tr>\n",
              "    <tr>\n",
              "      <th>2</th>\n",
              "      <td>0.0</td>\n",
              "      <td>0.333252</td>\n",
              "      <td>0.0</td>\n",
              "      <td>0.008171</td>\n",
              "      <td>0.922852</td>\n",
              "      <td>0.591309</td>\n",
              "      <td>0.000000</td>\n",
              "      <td>0.782227</td>\n",
              "      <td>0.002907</td>\n",
              "      <td>0.692383</td>\n",
              "      <td>0.388916</td>\n",
              "      <td>0.163086</td>\n",
              "      <td>0.086975</td>\n",
              "      <td>0.0</td>\n",
              "      <td>0.980957</td>\n",
              "      <td>0.0</td>\n",
              "      <td>1.0</td>\n",
              "      <td>0.406494</td>\n",
              "      <td>0.133667</td>\n",
              "      <td>1.0</td>\n",
              "    </tr>\n",
              "    <tr>\n",
              "      <th>3</th>\n",
              "      <td>0.0</td>\n",
              "      <td>0.333252</td>\n",
              "      <td>0.0</td>\n",
              "      <td>0.008171</td>\n",
              "      <td>0.922852</td>\n",
              "      <td>0.605957</td>\n",
              "      <td>0.000000</td>\n",
              "      <td>0.790527</td>\n",
              "      <td>0.002907</td>\n",
              "      <td>0.692383</td>\n",
              "      <td>0.388916</td>\n",
              "      <td>0.163086</td>\n",
              "      <td>0.130493</td>\n",
              "      <td>0.0</td>\n",
              "      <td>0.980957</td>\n",
              "      <td>0.0</td>\n",
              "      <td>1.0</td>\n",
              "      <td>0.406494</td>\n",
              "      <td>0.144287</td>\n",
              "      <td>1.0</td>\n",
              "    </tr>\n",
              "    <tr>\n",
              "      <th>4</th>\n",
              "      <td>0.0</td>\n",
              "      <td>0.333252</td>\n",
              "      <td>0.0</td>\n",
              "      <td>0.008171</td>\n",
              "      <td>0.922852</td>\n",
              "      <td>0.599609</td>\n",
              "      <td>0.222168</td>\n",
              "      <td>0.790527</td>\n",
              "      <td>0.002907</td>\n",
              "      <td>0.698730</td>\n",
              "      <td>0.361084</td>\n",
              "      <td>0.136841</td>\n",
              "      <td>0.173950</td>\n",
              "      <td>0.0</td>\n",
              "      <td>0.980957</td>\n",
              "      <td>0.0</td>\n",
              "      <td>1.0</td>\n",
              "      <td>0.406494</td>\n",
              "      <td>0.144287</td>\n",
              "      <td>1.0</td>\n",
              "    </tr>\n",
              "  </tbody>\n",
              "</table>\n",
              "</div>"
            ],
            "text/plain": [
              "   building_id     meter  primary_use  square_meter  year_built  \\\n",
              "0          0.0  0.333252          0.0      0.008171    0.922852   \n",
              "1          0.0  0.333252          0.0      0.008171    0.922852   \n",
              "2          0.0  0.333252          0.0      0.008171    0.922852   \n",
              "3          0.0  0.333252          0.0      0.008171    0.922852   \n",
              "4          0.0  0.333252          0.0      0.008171    0.922852   \n",
              "\n",
              "   air_temperature  cloud_coverage  dew_temperature  precip_depth_1_hr  \\\n",
              "0         0.613770        0.444336         0.764648           0.002907   \n",
              "1         0.613770        0.222168         0.782227           0.002907   \n",
              "2         0.591309        0.000000         0.782227           0.002907   \n",
              "3         0.605957        0.000000         0.790527           0.002907   \n",
              "4         0.599609        0.222168         0.790527           0.002907   \n",
              "\n",
              "   sea_level_pressure  wind_direction  wind_speed      hour  day      week  \\\n",
              "0            0.686035        0.277832    0.189453  0.000000  0.0  0.980957   \n",
              "1            0.692383        0.361084    0.163086  0.043488  0.0  0.980957   \n",
              "2            0.692383        0.388916    0.163086  0.086975  0.0  0.980957   \n",
              "3            0.692383        0.388916    0.163086  0.130493  0.0  0.980957   \n",
              "4            0.698730        0.361084    0.136841  0.173950  0.0  0.980957   \n",
              "\n",
              "   month  weekday  log_square_meter  square_dew_temperature  is_holiday  \n",
              "0    0.0      1.0          0.406494                0.111816         1.0  \n",
              "1    0.0      1.0          0.406494                0.133667         1.0  \n",
              "2    0.0      1.0          0.406494                0.133667         1.0  \n",
              "3    0.0      1.0          0.406494                0.144287         1.0  \n",
              "4    0.0      1.0          0.406494                0.144287         1.0  "
            ]
          },
          "metadata": {
            "tags": []
          },
          "execution_count": 37
        }
      ]
    },
    {
      "cell_type": "code",
      "metadata": {
        "id": "gOhjrH7Fq2Bu",
        "colab_type": "code",
        "colab": {
          "base_uri": "https://localhost:8080/",
          "height": 605
        },
        "outputId": "c5ecbc5f-8eaa-4614-c46f-87eb27c7e94d"
      },
      "source": [
        "print(features_for_train.shape)\n",
        "print(features_for_train.head(5))"
      ],
      "execution_count": null,
      "outputs": [
        {
          "output_type": "stream",
          "text": [
            "(15656112, 20)\n",
            "   building_id     meter  primary_use  square_meter  year_built  \\\n",
            "0          0.0  0.333252          0.0      0.008171    0.922852   \n",
            "1          0.0  0.333252          0.0      0.008171    0.922852   \n",
            "2          0.0  0.333252          0.0      0.008171    0.922852   \n",
            "3          0.0  0.333252          0.0      0.008171    0.922852   \n",
            "4          0.0  0.333252          0.0      0.008171    0.922852   \n",
            "\n",
            "   air_temperature  cloud_coverage  dew_temperature  precip_depth_1_hr  \\\n",
            "0         0.788574        0.611328         0.854492           0.002907   \n",
            "1         0.708496        0.888672         0.872559           0.000000   \n",
            "2         0.716309        0.852051         0.882324           0.000000   \n",
            "3         0.751953        0.814453         0.890625           0.002907   \n",
            "4         0.773926        0.777832         0.882324           0.002907   \n",
            "\n",
            "   sea_level_pressure  wind_direction  wind_speed      hour       day  \\\n",
            "0            0.615234        0.277832    0.215820  0.826172  0.000000   \n",
            "1            0.641113        0.888672    0.541992  0.782715  0.633301   \n",
            "2            0.628418        0.944336    0.300049  0.826172  0.633301   \n",
            "3            0.628418        0.083313    0.189453  0.869629  0.633301   \n",
            "4            0.621582        0.194458    0.268555  0.913086  0.633301   \n",
            "\n",
            "       week     month   weekday  log_square_meter  square_dew_temperature  \\\n",
            "0  0.307617  0.363525  1.000000          0.406494                0.241577   \n",
            "1  0.365479  0.363525  0.666504          0.406494                0.273193   \n",
            "2  0.365479  0.363525  0.666504          0.406494                0.291748   \n",
            "3  0.365479  0.363525  0.666504          0.406494                0.307373   \n",
            "4  0.365479  0.363525  0.666504          0.406494                0.291748   \n",
            "\n",
            "   is_holiday  \n",
            "0         0.0  \n",
            "1         0.0  \n",
            "2         0.0  \n",
            "3         0.0  \n",
            "4         0.0  \n"
          ],
          "name": "stdout"
        }
      ]
    },
    {
      "cell_type": "code",
      "metadata": {
        "id": "P5Aoec2gVfGK",
        "colab_type": "code",
        "colab": {
          "base_uri": "https://localhost:8080/",
          "height": 605
        },
        "outputId": "2e5cfe64-8cae-4f12-eeb1-32c4cf3cb48f"
      },
      "source": [
        "print(features_for_test.shape)\n",
        "print(features_for_test.head(5))"
      ],
      "execution_count": null,
      "outputs": [
        {
          "output_type": "stream",
          "text": [
            "(3096511, 20)\n",
            "   building_id     meter  primary_use  square_meter  year_built  \\\n",
            "0     0.446045  0.333252     0.000000      0.066833    0.196533   \n",
            "1     0.174683  0.333252     0.000000      0.075012    0.546875   \n",
            "2     0.474365  0.333252     0.399902      0.041077    0.649414   \n",
            "3     0.720215  0.333252     0.399902      0.031555    0.589844   \n",
            "4     0.400635  0.333252     0.000000      0.118591    0.512695   \n",
            "\n",
            "   air_temperature  cloud_coverage  dew_temperature  precip_depth_1_hr  \\\n",
            "0         0.599609        0.222168         0.800293           0.002907   \n",
            "1         0.773926        0.444336         0.554688           0.002907   \n",
            "2         0.511230        0.000000         0.638184           0.002907   \n",
            "3         0.550781        0.666504         0.718750           0.012230   \n",
            "4         0.671875        0.222168         0.772461           0.002907   \n",
            "\n",
            "   sea_level_pressure  wind_direction  wind_speed      hour       day  \\\n",
            "0            0.557617        0.833496    0.189453  0.347900  0.866699   \n",
            "1            0.500000        0.694336    0.268555  0.173950  0.733398   \n",
            "2            0.596191        0.750000    0.378906  0.652344  0.933105   \n",
            "3            0.686035        0.416748    0.315674  0.173950  0.066650   \n",
            "4            0.641113        0.722168    0.215820  0.913086  0.300049   \n",
            "\n",
            "       week     month   weekday  log_square_meter  square_dew_temperature  \\\n",
            "0  0.557617  0.545410  0.333252          0.663574                0.157593   \n",
            "1  0.288574  0.272705  0.833496          0.678223                0.000987   \n",
            "2  0.307617  0.272705  0.666504          0.603516                0.013062   \n",
            "3  0.750000  0.818359  0.000000          0.571289                0.064636   \n",
            "4  0.500000  0.545410  1.000000          0.734375                0.121521   \n",
            "\n",
            "   is_holiday  \n",
            "0         0.0  \n",
            "1         0.0  \n",
            "2         0.0  \n",
            "3         0.0  \n",
            "4         0.0  \n"
          ],
          "name": "stdout"
        }
      ]
    },
    {
      "cell_type": "markdown",
      "metadata": {
        "id": "vSRxfzFBm0A6",
        "colab_type": "text"
      },
      "source": [
        "5.Se encuentran hiperparametros para el mejor valor y hacer el entrenamiento con Light GBM K-Fold (n_split=3) evaluando la importancia de cada variable."
      ]
    },
    {
      "cell_type": "markdown",
      "metadata": {
        "id": "cvdgOPJXs9GH",
        "colab_type": "text"
      },
      "source": [
        "Validacion cruzada me interesa entrenar con el mismo conjunto de datos para comparar las metricas con redes profundas. \n",
        "https://www.kaggle.com/pintu161/implementation-of-lightgbm-for-begineers\n",
        "https://lightgbm.readthedocs.io/en/latest/pythonapi/lightgbm.LGBMRegressor.html"
      ]
    },
    {
      "cell_type": "code",
      "metadata": {
        "id": "P6wU7amgP1KP",
        "colab_type": "code",
        "colab": {}
      },
      "source": [
        "run_type = 'Hyperparameter Training on Daily Data'\n",
        "base = {\n",
        "    \"objective\": \"regression\",\n",
        "        \"metric\": {\"rmse\"},\n",
        "}\n",
        "\n",
        "\n",
        "params2 = {\n",
        "    \"objective\": \"regression\",\n",
        "    \"boosting\": \"gbdt\",\n",
        "    \"num_leaves\": 100,\n",
        "    \"learning_rate\": 0.1,\n",
        "    \"feature_fraction\": ([0.8]),\n",
        "    \"reg_lambda\": 2,\n",
        "    \"metric\": {\"rmse\"},\n",
        "}\n",
        "\n",
        "params3 = {\n",
        "    \"objective\": \"regression\",\n",
        "    \"boosting\": \"gbdt\",\n",
        "    \"num_leaves\": 500,\n",
        "    \"learning_rate\": 0.1,\n",
        "    \"feature_fraction\": ([0.8]),\n",
        "    \"reg_lambda\": 2,\n",
        "    \"metric\": {\"rmse\"},\n",
        "}\n",
        "\n",
        "params4 = {\n",
        "    \"objective\": \"regression\",\n",
        "    \"boosting\": \"gbdt\",\n",
        "    \"num_leaves\": 500,\n",
        "    \"learning_rate\": 0.05,\n",
        "    \"feature_fraction\": ([0.8]),\n",
        "    \"reg_lambda\": 2,\n",
        "    \"metric\": {\"rmse\"},\n",
        "}\n",
        "\n",
        "best_params = {\n",
        "    \"objective\": \"regression\",\n",
        "    \"boosting\": \"gbdt\",\n",
        "    \"num_leaves\": 1500,\n",
        "    \"learning_rate\": 0.05,\n",
        "    \"feature_fraction\": ([0.8]),\n",
        "    \"reg_lambda\": 2,\n",
        "    \"num_boost_round\": 300, \n",
        "    \"metric\": {\"rmse\"},\n",
        "}\n",
        "\n",
        "\n",
        "if run_type == 'Hyperparameter Training on Daily Data':\n",
        "    params_total = [base,params2, params3,params4, best_params]\n",
        "    \n",
        "elif run_type == 'Final':\n",
        "    params_total = [best_params]\n",
        "elif run_type == 'Base':\n",
        "    params_total = [base]\n",
        "else:\n",
        "    params_total = [best_params]\n",
        "\n",
        "\n"
      ],
      "execution_count": null,
      "outputs": []
    },
    {
      "cell_type": "code",
      "metadata": {
        "id": "YGhAGwcggdnV",
        "colab_type": "code",
        "colab": {
          "base_uri": "https://localhost:8080/",
          "height": 1000
        },
        "outputId": "4e4f1cb8-e103-4995-e0be-18c4e16ac0b6"
      },
      "source": [
        "kf = KFold(n_splits=3,shuffle=False)\n",
        "count =0\n",
        "models = []\n",
        "for params in list(params_total):\n",
        "    print('Parms: ',count )\n",
        "    for train_index,test_index in kf.split(features_for_train):\n",
        "        train_features = features_for_train.loc[train_index]\n",
        "        train_target = Y_train.loc[train_index]\n",
        "\n",
        "        test_features = features_for_train.loc[test_index]\n",
        "        test_target = Y_train.loc[test_index]\n",
        "\n",
        "        d_training = lgb.Dataset(train_features, \n",
        "                                 label=train_target, \n",
        "                                 free_raw_data=False)\n",
        "        d_test = lgb.Dataset(test_features, \n",
        "                             label=test_target,\n",
        "                             free_raw_data=False)\n",
        "\n",
        "        model = lgb.train(params, \n",
        "                          train_set=d_training, \n",
        "                          valid_sets=[d_training,d_test], \n",
        "                          verbose_eval=100, \n",
        "                          early_stopping_rounds=50)   \n",
        "    \n",
        "        models.append(model)\n",
        "    count += 1"
      ],
      "execution_count": null,
      "outputs": [
        {
          "output_type": "stream",
          "text": [
            "Parms:  0\n",
            "Training until validation scores don't improve for 50 rounds.\n",
            "[100]\ttraining's rmse: 0.845716\tvalid_1's rmse: 0.886042\n",
            "Did not meet early stopping. Best iteration is:\n",
            "[100]\ttraining's rmse: 0.845716\tvalid_1's rmse: 0.886042\n",
            "Training until validation scores don't improve for 50 rounds.\n",
            "[100]\ttraining's rmse: 0.791909\tvalid_1's rmse: 1.02576\n",
            "Did not meet early stopping. Best iteration is:\n",
            "[100]\ttraining's rmse: 0.791909\tvalid_1's rmse: 1.02576\n",
            "Training until validation scores don't improve for 50 rounds.\n",
            "[100]\ttraining's rmse: 0.80146\tvalid_1's rmse: 1.25403\n",
            "Did not meet early stopping. Best iteration is:\n",
            "[100]\ttraining's rmse: 0.80146\tvalid_1's rmse: 1.25403\n",
            "Parms:  1\n",
            "Training until validation scores don't improve for 50 rounds.\n",
            "[100]\ttraining's rmse: 0.66215\tvalid_1's rmse: 0.729569\n",
            "Did not meet early stopping. Best iteration is:\n",
            "[100]\ttraining's rmse: 0.66215\tvalid_1's rmse: 0.729569\n",
            "Training until validation scores don't improve for 50 rounds.\n",
            "[100]\ttraining's rmse: 0.613914\tvalid_1's rmse: 0.889869\n",
            "Did not meet early stopping. Best iteration is:\n",
            "[100]\ttraining's rmse: 0.613914\tvalid_1's rmse: 0.889869\n",
            "Training until validation scores don't improve for 50 rounds.\n",
            "[100]\ttraining's rmse: 0.630983\tvalid_1's rmse: 1.23419\n",
            "Did not meet early stopping. Best iteration is:\n",
            "[100]\ttraining's rmse: 0.630983\tvalid_1's rmse: 1.23419\n",
            "Parms:  2\n",
            "Training until validation scores don't improve for 50 rounds.\n",
            "[100]\ttraining's rmse: 0.46506\tvalid_1's rmse: 0.536365\n",
            "Did not meet early stopping. Best iteration is:\n",
            "[100]\ttraining's rmse: 0.46506\tvalid_1's rmse: 0.536365\n",
            "Training until validation scores don't improve for 50 rounds.\n",
            "[100]\ttraining's rmse: 0.421454\tvalid_1's rmse: 0.643122\n",
            "Did not meet early stopping. Best iteration is:\n",
            "[100]\ttraining's rmse: 0.421454\tvalid_1's rmse: 0.643122\n",
            "Training until validation scores don't improve for 50 rounds.\n",
            "[100]\ttraining's rmse: 0.439489\tvalid_1's rmse: 1.23662\n",
            "Did not meet early stopping. Best iteration is:\n",
            "[100]\ttraining's rmse: 0.439489\tvalid_1's rmse: 1.23662\n",
            "Parms:  3\n",
            "Training until validation scores don't improve for 50 rounds.\n",
            "[100]\ttraining's rmse: 0.537119\tvalid_1's rmse: 0.632293\n",
            "Did not meet early stopping. Best iteration is:\n",
            "[100]\ttraining's rmse: 0.537119\tvalid_1's rmse: 0.632293\n",
            "Training until validation scores don't improve for 50 rounds.\n",
            "[100]\ttraining's rmse: 0.49704\tvalid_1's rmse: 0.726576\n",
            "Did not meet early stopping. Best iteration is:\n",
            "[100]\ttraining's rmse: 0.49704\tvalid_1's rmse: 0.726576\n",
            "Training until validation scores don't improve for 50 rounds.\n",
            "[100]\ttraining's rmse: 0.511781\tvalid_1's rmse: 1.22099\n",
            "Did not meet early stopping. Best iteration is:\n",
            "[100]\ttraining's rmse: 0.511781\tvalid_1's rmse: 1.22099\n",
            "Parms:  4\n"
          ],
          "name": "stdout"
        },
        {
          "output_type": "stream",
          "text": [
            "/usr/local/lib/python3.6/dist-packages/lightgbm/engine.py:118: UserWarning:\n",
            "\n",
            "Found `num_boost_round` in params. Will use it instead of argument\n",
            "\n"
          ],
          "name": "stderr"
        },
        {
          "output_type": "stream",
          "text": [
            "Training until validation scores don't improve for 50 rounds.\n",
            "[100]\ttraining's rmse: 0.432414\tvalid_1's rmse: 0.52277\n",
            "[200]\ttraining's rmse: 0.374004\tvalid_1's rmse: 0.480639\n",
            "[300]\ttraining's rmse: 0.352074\tvalid_1's rmse: 0.469887\n",
            "Did not meet early stopping. Best iteration is:\n",
            "[300]\ttraining's rmse: 0.352074\tvalid_1's rmse: 0.469887\n",
            "Training until validation scores don't improve for 50 rounds.\n",
            "[100]\ttraining's rmse: 0.390753\tvalid_1's rmse: 0.608964\n",
            "[200]\ttraining's rmse: 0.331334\tvalid_1's rmse: 0.564806\n",
            "[300]\ttraining's rmse: 0.308549\tvalid_1's rmse: 0.551587\n",
            "Did not meet early stopping. Best iteration is:\n",
            "[300]\ttraining's rmse: 0.308549\tvalid_1's rmse: 0.551587\n",
            "Training until validation scores don't improve for 50 rounds.\n",
            "Early stopping, best iteration is:\n",
            "[44]\ttraining's rmse: 0.530237\tvalid_1's rmse: 1.204\n"
          ],
          "name": "stdout"
        }
      ]
    },
    {
      "cell_type": "code",
      "metadata": {
        "id": "TdlGeHEuwi4K",
        "colab_type": "code",
        "colab": {
          "base_uri": "https://localhost:8080/",
          "height": 84
        },
        "outputId": "116ac284-11f6-4eb4-bd2d-c4bf875b4ea2"
      },
      "source": [
        "results = []\n",
        "for model in models:\n",
        "    if  results == []:\n",
        "        results = np.expm1(model.predict(features_for_test, num_iteration=model.best_iteration)) / len(models)\n",
        "    else:\n",
        "        results += np.expm1(model.predict(features_for_test, num_iteration=model.best_iteration)) / len(models)"
      ],
      "execution_count": null,
      "outputs": [
        {
          "output_type": "stream",
          "text": [
            "/usr/local/lib/python3.6/dist-packages/ipykernel_launcher.py:3: DeprecationWarning:\n",
            "\n",
            "elementwise comparison failed; this will raise an error in the future.\n",
            "\n"
          ],
          "name": "stderr"
        }
      ]
    },
    {
      "cell_type": "markdown",
      "metadata": {
        "id": "S56mBNOgs1Rn",
        "colab_type": "text"
      },
      "source": [
        "LightGBM Feature Importance"
      ]
    },
    {
      "cell_type": "code",
      "metadata": {
        "id": "U6BRm_hYsTmj",
        "colab_type": "code",
        "colab": {
          "base_uri": "https://localhost:8080/",
          "height": 464
        },
        "outputId": "3a25ce02-c183-4ed1-87a1-e40f4992b7d3"
      },
      "source": [
        "fig, ax = plt.subplots(figsize=(10, 7))\n",
        "lgb.plot_importance(model, max_num_features=30, ax=ax)\n",
        "plt.title(\"LightGBM - Features Importance\");"
      ],
      "execution_count": null,
      "outputs": [
        {
          "output_type": "display_data",
          "data": {
            "image/png": "[encoded data removed]",
            "text/plain": [
              "<Figure size 720x504 with 1 Axes>"
            ]
          },
          "metadata": {
            "tags": []
          }
        }
      ]
    },
    {
      "cell_type": "markdown",
      "metadata": {
        "id": "PWRSiWx6eIqw",
        "colab_type": "text"
      },
      "source": [
        "6. Evaluacion del algoritmo Light GBM a traves de metricas establecidas."
      ]
    },
    {
      "cell_type": "code",
      "metadata": {
        "id": "XBrFI8--QW0m",
        "colab_type": "code",
        "colab": {}
      },
      "source": [
        "Y_pred = results\n",
        "Y=np.array(test['meter_reading'].values).astype(float)\n",
        "X=np.array(Y_pred)"
      ],
      "execution_count": null,
      "outputs": []
    },
    {
      "cell_type": "code",
      "metadata": {
        "id": "ZWBj-7ZKQhJa",
        "colab_type": "code",
        "colab": {}
      },
      "source": [
        "X_log=np.log1p(X)\n",
        "Y_log=np.log1p(Y)\n"
      ],
      "execution_count": null,
      "outputs": []
    },
    {
      "cell_type": "code",
      "metadata": {
        "id": "STbNoHXkPiKN",
        "colab_type": "code",
        "colab": {}
      },
      "source": [
        "metricas={ 'R2':   metrics.r2_score}\n",
        "RMSLE=np.sqrt(metrics.mean_squared_error(Y_log, X_log))\n",
        "MAE = metrics.mean_absolute_error(Y, X)\n",
        "MSE = metrics.mean_squared_error(Y, X)\n",
        "RMSE = np.sqrt(metrics.mean_squared_error(Y, X))\n",
        "R2 = metricas['R2'](Y, X)"
      ],
      "execution_count": null,
      "outputs": []
    },
    {
      "cell_type": "code",
      "metadata": {
        "id": "zXqwxJHe565i",
        "colab_type": "code",
        "colab": {
          "base_uri": "https://localhost:8080/",
          "height": 301
        },
        "outputId": "64a87f69-9d31-49c4-fb1d-1f821a9a0e6a"
      },
      "source": [
        "# Gráfica de valor actual Kwh vs. predicción Kwh.\n",
        "fig, ax = plt.subplots()\n",
        "ax.scatter(X, Y, edgecolors=(0, 0, 0))\n",
        "ax.plot([Y.min(), Y.max()],\n",
        "        [Y.min(), Y.max()], 'k--', lw=4)\n",
        "ax.set_xlabel('Meter Reading-Actual [kWh]')\n",
        "ax.set_ylabel('Meter Reading-Predicho [kWh]')\n",
        "plt.title(\"RMSLE: %.3f MAE: %.3f MSE: %.3f  RMSE: %.3f  R2: %.3f\" %\n",
        "         (RMSLE,MAE,MSE,RMSE,R2))\n",
        "plt.show()"
      ],
      "execution_count": null,
      "outputs": [
        {
          "output_type": "display_data",
          "data": {
            "image/png": "[encoded data removed]",
            "text/plain": [
              "<Figure size 432x288 with 1 Axes>"
            ]
          },
          "metadata": {
            "tags": []
          }
        }
      ]
    },
    {
      "cell_type": "markdown",
      "metadata": {
        "id": "i6-XI3OctbVe",
        "colab_type": "text"
      },
      "source": [
        "7. Bibliografia:"
      ]
    },
    {
      "cell_type": "markdown",
      "metadata": {
        "id": "S-dw3cBfp2Zn",
        "colab_type": "text"
      },
      "source": [
        "1. Bohaju, J.(2020), ASHRAE energy prediccion III final model impelmentation lgbm. Recuperado de:https://github.com/Jakesh-Bohaju/ashrae-energy-prediction-III/blob/master/Final%20%20model%20implementation.ipynb. \n",
        "\n",
        "2. Evitan, G.(2020), ASHRAE EDA and preprocessing. Recuperado de: https://www.kaggle.com/gunesevitan/ashrae-eda-and-preprocessing/#data.\n",
        "\n",
        "3. Jain, A. (2016), Complete machine learning guide to parameter tunning gradiente boosting (GBM) in Python. REcuperado de:https://www.analyticsvidhya.com/blog/2016/02/complete-guide-parameter-tuning-gradient-boosting-gbm-python/\n",
        " \n",
        "4. Kaggle/ASHRAE https://www.kaggle.com/takiyu/ashrae-great-energy-3-verification-after-predict.\n",
        "\n",
        "5. Lupum,C.(2020), Kaggle notebook ASHRAE - ligthGBM simple fe.Recuperado de: https://www.kaggle.com/caesarlupum/ashrae-ligthgbm-simple-fe.\n",
        "\n",
        "6. Macedo, C.(2019), Kagggle ASHRAE LGBM simple FE whith Python. Recuperado de:\n",
        "https://www.kaggle.com/caesarlupum/ashrae-ligthgbm-simple-fe.\n",
        "\n",
        "\n"
      ]
    }
  ]
}