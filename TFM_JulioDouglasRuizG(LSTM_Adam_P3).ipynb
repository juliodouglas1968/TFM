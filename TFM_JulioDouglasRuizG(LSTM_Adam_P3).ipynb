{
  "nbformat": 4,
  "nbformat_minor": 0,
  "metadata": {
    "accelerator": "GPU",
    "colab": {
      "name": "TFM_JulioDouglasRuizG(LSTM_Adam_P3).ipynb",
      "provenance": [],
      "collapsed_sections": [],
      "machine_shape": "hm"
    },
    "kernelspec": {
      "display_name": "Python 3",
      "language": "python",
      "name": "python3"
    },
    "language_info": {
      "codemirror_mode": {
        "name": "ipython",
        "version": 3
      },
      "file_extension": ".py",
      "mimetype": "text/x-python",
      "name": "python",
      "nbconvert_exporter": "python",
      "pygments_lexer": "ipython3",
      "version": "3.7.3"
    }
  },
  "cells": [
    {
      "cell_type": "markdown",
      "metadata": {
        "colab_type": "text",
        "id": "PuPt1B-P2A0v"
      },
      "source": [
        "TRABAJO FINAL MASTER\n",
        "ALUMNO: JULIO DOUGLAS ANTONIO RUIZ GONZALEZ.\n",
        "\n",
        "DIRECTOR TFM: Dr. ADRIAN COLOMER GRANERO.\n",
        "\n",
        "\n",
        "PARTE 3.\n",
        "Se tratan los temas del trabajo final de Master.\n",
        " \n",
        "Entrenamiento LSTM CON OPTIMIZADOR \"Adam\":\n",
        "\n",
        "1. Instalacion de librerias API fucnional de Keras, bakend Tensor Flow e importacion de datasets.\n",
        "2. Se dividen los datos en Aprendizaje y pruebas: se toman meses en ambos conjuntos de daos que son representativos para las cuatro estaciones anuales.\n",
        "3. Caracteristicas de ingeniera : para mejorar los datos en el    aprendizaje automático supervisado, con esta técnica se intenta mejorar el poder predictivo del algoritmo de aprendizaje en este caso las redes neuronales artificiales recurrentes LSTM y LigthGBM, utilizdo los datos sin procesar, datos limpios.\n",
        "4. Escalado de datos previo a entrenar los algoritmo LSTM.\n",
        "5. Se entrena la red neuronal LSTM con optimizador \"Adam\" y se establecen hiperparametros para entrenar el modelo.\n",
        "6. Evaluacion del algoritmo LSTM a traves de metricas establecidas.\n",
        "7. Bibliografia.\n"
      ]
    },
    {
      "cell_type": "markdown",
      "metadata": {
        "id": "HLaLDIidpVG2",
        "colab_type": "text"
      },
      "source": [
        "1. Instalacion de librerias API fucnional de Keras, bakend Tensor Flow e importacion de datasets."
      ]
    },
    {
      "cell_type": "code",
      "metadata": {
        "colab_type": "code",
        "id": "7TBIASzP0j6V",
        "colab": {
          "base_uri": "https://localhost:8080/",
          "height": 235
        },
        "outputId": "c990df9f-6dc5-4ffc-db09-2cc919fa52b1"
      },
      "source": [
        "!pip uninstall tensorflow"
      ],
      "execution_count": null,
      "outputs": [
        {
          "output_type": "stream",
          "text": [
            "Uninstalling tensorflow-2.2.0:\n",
            "  Would remove:\n",
            "    /usr/local/bin/estimator_ckpt_converter\n",
            "    /usr/local/bin/saved_model_cli\n",
            "    /usr/local/bin/tensorboard\n",
            "    /usr/local/bin/tf_upgrade_v2\n",
            "    /usr/local/bin/tflite_convert\n",
            "    /usr/local/bin/toco\n",
            "    /usr/local/bin/toco_from_protos\n",
            "    /usr/local/lib/python3.6/dist-packages/tensorflow-2.2.0.dist-info/*\n",
            "    /usr/local/lib/python3.6/dist-packages/tensorflow/*\n",
            "Proceed (y/n)? y\n",
            "  Successfully uninstalled tensorflow-2.2.0\n"
          ],
          "name": "stdout"
        }
      ]
    },
    {
      "cell_type": "code",
      "metadata": {
        "colab_type": "code",
        "id": "ly562xZOlnZF",
        "colab": {
          "base_uri": "https://localhost:8080/",
          "height": 438
        },
        "outputId": "d43ee062-0442-44af-d3a4-e4c1420128bb"
      },
      "source": [
        "!pip install setuptools wheel numpy scipy \"scikit-learn<=0.21.3\" -U"
      ],
      "execution_count": null,
      "outputs": [
        {
          "output_type": "stream",
          "text": [
            "Collecting setuptools\n",
            "\u001b[?25l  Downloading https://files.pythonhosted.org/packages/73/22/156aac338c4ac8ffb1c3c6c3d4841611fdd4e40a9be7518bf5be432fd38c/setuptools-46.2.0-py3-none-any.whl (582kB)\n",
            "\r\u001b[K     |▋                               | 10kB 18.8MB/s eta 0:00:01\r\u001b[K     |█▏                              | 20kB 4.1MB/s eta 0:00:01\r\u001b[K     |█▊                              | 30kB 5.1MB/s eta 0:00:01\r\u001b[K     |██▎                             | 40kB 5.4MB/s eta 0:00:01\r\u001b[K     |██▉                             | 51kB 4.7MB/s eta 0:00:01\r\u001b[K     |███▍                            | 61kB 5.1MB/s eta 0:00:01\r\u001b[K     |████                            | 71kB 5.6MB/s eta 0:00:01\r\u001b[K     |████▌                           | 81kB 6.0MB/s eta 0:00:01\r\u001b[K     |█████                           | 92kB 6.1MB/s eta 0:00:01\r\u001b[K     |█████▋                          | 102kB 5.9MB/s eta 0:00:01\r\u001b[K     |██████▏                         | 112kB 5.9MB/s eta 0:00:01\r\u001b[K     |██████▊                         | 122kB 5.9MB/s eta 0:00:01\r\u001b[K     |███████▎                        | 133kB 5.9MB/s eta 0:00:01\r\u001b[K     |███████▉                        | 143kB 5.9MB/s eta 0:00:01\r\u001b[K     |████████▍                       | 153kB 5.9MB/s eta 0:00:01\r\u001b[K     |█████████                       | 163kB 5.9MB/s eta 0:00:01\r\u001b[K     |█████████▋                      | 174kB 5.9MB/s eta 0:00:01\r\u001b[K     |██████████▏                     | 184kB 5.9MB/s eta 0:00:01\r\u001b[K     |██████████▊                     | 194kB 5.9MB/s eta 0:00:01\r\u001b[K     |███████████▎                    | 204kB 5.9MB/s eta 0:00:01\r\u001b[K     |███████████▉                    | 215kB 5.9MB/s eta 0:00:01\r\u001b[K     |████████████▍                   | 225kB 5.9MB/s eta 0:00:01\r\u001b[K     |█████████████                   | 235kB 5.9MB/s eta 0:00:01\r\u001b[K     |█████████████▌                  | 245kB 5.9MB/s eta 0:00:01\r\u001b[K     |██████████████                  | 256kB 5.9MB/s eta 0:00:01\r\u001b[K     |██████████████▋                 | 266kB 5.9MB/s eta 0:00:01\r\u001b[K     |███████████████▏                | 276kB 5.9MB/s eta 0:00:01\r\u001b[K     |███████████████▊                | 286kB 5.9MB/s eta 0:00:01\r\u001b[K     |████████████████▎               | 296kB 5.9MB/s eta 0:00:01\r\u001b[K     |████████████████▉               | 307kB 5.9MB/s eta 0:00:01\r\u001b[K     |█████████████████▍              | 317kB 5.9MB/s eta 0:00:01\r\u001b[K     |██████████████████              | 327kB 5.9MB/s eta 0:00:01\r\u001b[K     |██████████████████▌             | 337kB 5.9MB/s eta 0:00:01\r\u001b[K     |███████████████████▏            | 348kB 5.9MB/s eta 0:00:01\r\u001b[K     |███████████████████▊            | 358kB 5.9MB/s eta 0:00:01\r\u001b[K     |████████████████████▎           | 368kB 5.9MB/s eta 0:00:01\r\u001b[K     |████████████████████▉           | 378kB 5.9MB/s eta 0:00:01\r\u001b[K     |█████████████████████▍          | 389kB 5.9MB/s eta 0:00:01\r\u001b[K     |██████████████████████          | 399kB 5.9MB/s eta 0:00:01\r\u001b[K     |██████████████████████▌         | 409kB 5.9MB/s eta 0:00:01\r\u001b[K     |███████████████████████         | 419kB 5.9MB/s eta 0:00:01\r\u001b[K     |███████████████████████▋        | 430kB 5.9MB/s eta 0:00:01\r\u001b[K     |████████████████████████▏       | 440kB 5.9MB/s eta 0:00:01\r\u001b[K     |████████████████████████▊       | 450kB 5.9MB/s eta 0:00:01\r\u001b[K     |█████████████████████████▎      | 460kB 5.9MB/s eta 0:00:01\r\u001b[K     |█████████████████████████▉      | 471kB 5.9MB/s eta 0:00:01\r\u001b[K     |██████████████████████████▍     | 481kB 5.9MB/s eta 0:00:01\r\u001b[K     |███████████████████████████     | 491kB 5.9MB/s eta 0:00:01\r\u001b[K     |███████████████████████████▌    | 501kB 5.9MB/s eta 0:00:01\r\u001b[K     |████████████████████████████    | 512kB 5.9MB/s eta 0:00:01\r\u001b[K     |████████████████████████████▊   | 522kB 5.9MB/s eta 0:00:01\r\u001b[K     |█████████████████████████████▎  | 532kB 5.9MB/s eta 0:00:01\r\u001b[K     |█████████████████████████████▉  | 542kB 5.9MB/s eta 0:00:01\r\u001b[K     |██████████████████████████████▍ | 552kB 5.9MB/s eta 0:00:01\r\u001b[K     |███████████████████████████████ | 563kB 5.9MB/s eta 0:00:01\r\u001b[K     |███████████████████████████████▌| 573kB 5.9MB/s eta 0:00:01\r\u001b[K     |████████████████████████████████| 583kB 5.9MB/s \n",
            "\u001b[?25hRequirement already up-to-date: wheel in /usr/local/lib/python3.6/dist-packages (0.34.2)\n",
            "Requirement already up-to-date: numpy in /usr/local/lib/python3.6/dist-packages (1.18.4)\n",
            "Requirement already up-to-date: scipy in /usr/local/lib/python3.6/dist-packages (1.4.1)\n",
            "Collecting scikit-learn<=0.21.3\n",
            "\u001b[?25l  Downloading https://files.pythonhosted.org/packages/a0/c5/d2238762d780dde84a20b8c761f563fe882b88c5a5fb03c056547c442a19/scikit_learn-0.21.3-cp36-cp36m-manylinux1_x86_64.whl (6.7MB)\n",
            "\u001b[K     |████████████████████████████████| 6.7MB 15.2MB/s \n",
            "\u001b[?25hRequirement already satisfied, skipping upgrade: joblib>=0.11 in /usr/local/lib/python3.6/dist-packages (from scikit-learn<=0.21.3) (0.14.1)\n",
            "\u001b[31mERROR: fancyimpute 0.4.3 requires tensorflow, which is not installed.\u001b[0m\n",
            "\u001b[31mERROR: datascience 0.10.6 has requirement folium==0.2.1, but you'll have folium 0.8.3 which is incompatible.\u001b[0m\n",
            "Installing collected packages: setuptools, scikit-learn\n",
            "  Found existing installation: setuptools 46.1.3\n",
            "    Uninstalling setuptools-46.1.3:\n",
            "      Successfully uninstalled setuptools-46.1.3\n",
            "  Found existing installation: scikit-learn 0.22.2.post1\n",
            "    Uninstalling scikit-learn-0.22.2.post1:\n",
            "      Successfully uninstalled scikit-learn-0.22.2.post1\n",
            "Successfully installed scikit-learn-0.21.3 setuptools-46.2.0\n"
          ],
          "name": "stdout"
        },
        {
          "output_type": "display_data",
          "data": {
            "application/vnd.colab-display-data+json": {
              "pip_warning": {
                "packages": [
                  "pkg_resources"
                ]
              }
            }
          },
          "metadata": {
            "tags": []
          }
        }
      ]
    },
    {
      "cell_type": "code",
      "metadata": {
        "colab_type": "code",
        "id": "o0LMMvAX0qo0",
        "colab": {
          "base_uri": "https://localhost:8080/",
          "height": 588
        },
        "outputId": "6e43e147-dbb9-4976-d77b-225113103679"
      },
      "source": [
        "!pip install tensorflow==1.14"
      ],
      "execution_count": null,
      "outputs": [
        {
          "output_type": "stream",
          "text": [
            "Collecting tensorflow==1.14\n",
            "\u001b[?25l  Downloading https://files.pythonhosted.org/packages/de/f0/96fb2e0412ae9692dbf400e5b04432885f677ad6241c088ccc5fe7724d69/tensorflow-1.14.0-cp36-cp36m-manylinux1_x86_64.whl (109.2MB)\n",
            "\u001b[K     |████████████████████████████████| 109.2MB 28kB/s \n",
            "\u001b[?25hRequirement already satisfied: termcolor>=1.1.0 in /usr/local/lib/python3.6/dist-packages (from tensorflow==1.14) (1.1.0)\n",
            "Requirement already satisfied: six>=1.10.0 in /usr/local/lib/python3.6/dist-packages (from tensorflow==1.14) (1.12.0)\n",
            "Requirement already satisfied: numpy<2.0,>=1.14.5 in /usr/local/lib/python3.6/dist-packages (from tensorflow==1.14) (1.18.4)\n",
            "Collecting tensorboard<1.15.0,>=1.14.0\n",
            "\u001b[?25l  Downloading https://files.pythonhosted.org/packages/91/2d/2ed263449a078cd9c8a9ba50ebd50123adf1f8cfbea1492f9084169b89d9/tensorboard-1.14.0-py3-none-any.whl (3.1MB)\n",
            "\u001b[K     |████████████████████████████████| 3.2MB 52.7MB/s \n",
            "\u001b[?25hRequirement already satisfied: grpcio>=1.8.6 in /usr/local/lib/python3.6/dist-packages (from tensorflow==1.14) (1.28.1)\n",
            "Requirement already satisfied: google-pasta>=0.1.6 in /usr/local/lib/python3.6/dist-packages (from tensorflow==1.14) (0.2.0)\n",
            "Requirement already satisfied: absl-py>=0.7.0 in /usr/local/lib/python3.6/dist-packages (from tensorflow==1.14) (0.9.0)\n",
            "Requirement already satisfied: keras-applications>=1.0.6 in /usr/local/lib/python3.6/dist-packages (from tensorflow==1.14) (1.0.8)\n",
            "Requirement already satisfied: wrapt>=1.11.1 in /usr/local/lib/python3.6/dist-packages (from tensorflow==1.14) (1.12.1)\n",
            "Collecting tensorflow-estimator<1.15.0rc0,>=1.14.0rc0\n",
            "\u001b[?25l  Downloading https://files.pythonhosted.org/packages/3c/d5/21860a5b11caf0678fbc8319341b0ae21a07156911132e0e71bffed0510d/tensorflow_estimator-1.14.0-py2.py3-none-any.whl (488kB)\n",
            "\u001b[K     |████████████████████████████████| 491kB 30.6MB/s \n",
            "\u001b[?25hRequirement already satisfied: wheel>=0.26 in /usr/local/lib/python3.6/dist-packages (from tensorflow==1.14) (0.34.2)\n",
            "Requirement already satisfied: astor>=0.6.0 in /usr/local/lib/python3.6/dist-packages (from tensorflow==1.14) (0.8.1)\n",
            "Requirement already satisfied: gast>=0.2.0 in /usr/local/lib/python3.6/dist-packages (from tensorflow==1.14) (0.3.3)\n",
            "Requirement already satisfied: keras-preprocessing>=1.0.5 in /usr/local/lib/python3.6/dist-packages (from tensorflow==1.14) (1.1.0)\n",
            "Requirement already satisfied: protobuf>=3.6.1 in /usr/local/lib/python3.6/dist-packages (from tensorflow==1.14) (3.10.0)\n",
            "Requirement already satisfied: markdown>=2.6.8 in /usr/local/lib/python3.6/dist-packages (from tensorboard<1.15.0,>=1.14.0->tensorflow==1.14) (3.2.1)\n",
            "Requirement already satisfied: werkzeug>=0.11.15 in /usr/local/lib/python3.6/dist-packages (from tensorboard<1.15.0,>=1.14.0->tensorflow==1.14) (1.0.1)\n",
            "Requirement already satisfied: setuptools>=41.0.0 in /usr/local/lib/python3.6/dist-packages (from tensorboard<1.15.0,>=1.14.0->tensorflow==1.14) (46.2.0)\n",
            "Requirement already satisfied: h5py in /usr/local/lib/python3.6/dist-packages (from keras-applications>=1.0.6->tensorflow==1.14) (2.10.0)\n",
            "Installing collected packages: tensorboard, tensorflow-estimator, tensorflow\n",
            "  Found existing installation: tensorboard 2.2.1\n",
            "    Uninstalling tensorboard-2.2.1:\n",
            "      Successfully uninstalled tensorboard-2.2.1\n",
            "  Found existing installation: tensorflow-estimator 2.2.0\n",
            "    Uninstalling tensorflow-estimator-2.2.0:\n",
            "      Successfully uninstalled tensorflow-estimator-2.2.0\n",
            "Successfully installed tensorboard-1.14.0 tensorflow-1.14.0 tensorflow-estimator-1.14.0\n"
          ],
          "name": "stdout"
        }
      ]
    },
    {
      "cell_type": "code",
      "metadata": {
        "colab_type": "code",
        "id": "XcCkMhblW-Fx",
        "colab": {
          "base_uri": "https://localhost:8080/",
          "height": 34
        },
        "outputId": "34d59010-2828-44b3-ef62-0fd9e3b5751a"
      },
      "source": [
        "% tensorflow_version 1.x"
      ],
      "execution_count": null,
      "outputs": [
        {
          "output_type": "stream",
          "text": [
            "TensorFlow 1.x selected.\n"
          ],
          "name": "stdout"
        }
      ]
    },
    {
      "cell_type": "code",
      "metadata": {
        "colab_type": "code",
        "id": "MC1G5pfXLwlW",
        "colab": {
          "base_uri": "https://localhost:8080/",
          "height": 104
        },
        "outputId": "370af7b0-32fc-4901-9a01-813e17bbb96f"
      },
      "source": [
        "\n",
        "import lightgbm as lgb\n",
        "\n",
        "\n",
        "import pandas as pd\n",
        "import numpy as np\n",
        "import matplotlib.pyplot as plt\n",
        "import seaborn as sns\n",
        "import tensorflow as tf\n",
        "print(tf.__version__)\n",
        "from sklearn import *\n",
        "from sklearn import preprocessing\n",
        "from sklearn.preprocessing import MinMaxScaler\n",
        "from sklearn.preprocessing import StandardScaler, LabelEncoder\n",
        "from sklearn.model_selection import train_test_split\n",
        "from sklearn.metrics import make_scorer\n",
        "from sklearn.metrics import mean_squared_error\n",
        "from sklearn import linear_model, metrics\n",
        "from sklearn.model_selection import cross_validate\n",
        "from sklearn.model_selection import KFold\n",
        "from math import sqrt\n",
        "import gc\n",
        "sns.set()\n",
        "import plotly.express as px\n",
        "import missingno as msno\n",
        "pd.set_option('max_columns', 150)\n",
        "\n",
        "\n",
        "from sklearn import preprocessing\n",
        "from keras import backend as K\n",
        "from keras.callbacks import ModelCheckpoint, EarlyStopping\n",
        "from keras.layers import Dense, LSTM, GRU, Dropout, BatchNormalization\n",
        "from keras.models import Sequential\n",
        "from keras.optimizers import RMSprop,Adam\n",
        "from keras import regularizers\n",
        "\n",
        "\n"
      ],
      "execution_count": null,
      "outputs": [
        {
          "output_type": "stream",
          "text": [
            "/usr/local/lib/python3.6/dist-packages/statsmodels/tools/_testing.py:19: FutureWarning: pandas.util.testing is deprecated. Use the functions in the public API at pandas.testing instead.\n",
            "  import pandas.util.testing as tm\n"
          ],
          "name": "stderr"
        },
        {
          "output_type": "stream",
          "text": [
            "1.15.2\n"
          ],
          "name": "stdout"
        },
        {
          "output_type": "stream",
          "text": [
            "Using TensorFlow backend.\n"
          ],
          "name": "stderr"
        }
      ]
    },
    {
      "cell_type": "code",
      "metadata": {
        "colab_type": "code",
        "id": "2GR5MaOzL02l",
        "colab": {
          "base_uri": "https://localhost:8080/",
          "height": 121
        },
        "outputId": "eccd6a59-bbf6-425a-98c2-43ee38e9e2e6"
      },
      "source": [
        "BASE_FOLDER = '/content/drive/My Drive/TFM IA Julio Ruiz/'\n",
        "\n",
        "from google.colab import drive\n",
        "drive.mount('/content/drive')"
      ],
      "execution_count": null,
      "outputs": [
        {
          "output_type": "stream",
          "text": [
            "Go to this URL in a browser: https://accounts.google.com/o/oauth2/auth?client_id=947318989803-6bn6qk8qdgf4n4g3pfee6491hc0brc4i.apps.googleusercontent.com&redirect_uri=urn%3aietf%3awg%3aoauth%3a2.0%3aoob&response_type=code&scope=email%20https%3a%2f%2fwww.googleapis.com%2fauth%2fdocs.test%20https%3a%2f%2fwww.googleapis.com%2fauth%2fdrive%20https%3a%2f%2fwww.googleapis.com%2fauth%2fdrive.photos.readonly%20https%3a%2f%2fwww.googleapis.com%2fauth%2fpeopleapi.readonly\n",
            "\n",
            "Enter your authorization code:\n",
            "··········\n",
            "Mounted at /content/drive\n"
          ],
          "name": "stdout"
        }
      ]
    },
    {
      "cell_type": "code",
      "metadata": {
        "colab_type": "code",
        "id": "9n5GkQntL7Aq",
        "colab": {}
      },
      "source": [
        "path1 = BASE_FOLDER+ \"train_df.csv\"\n",
        "path2 = BASE_FOLDER+ \"test_df.csv\"\n"
      ],
      "execution_count": null,
      "outputs": []
    },
    {
      "cell_type": "code",
      "metadata": {
        "colab_type": "code",
        "id": "7n98iF3cL-PA",
        "colab": {}
      },
      "source": [
        "train_df = pd.read_csv(path1)\n",
        "test_df = pd.read_csv(path2)\n"
      ],
      "execution_count": null,
      "outputs": []
    },
    {
      "cell_type": "code",
      "metadata": {
        "colab_type": "code",
        "id": "kC0W9VeWokqw",
        "colab": {}
      },
      "source": [
        "def reduce_mem_usage(df, verbose=True):\n",
        "    numerics = ['int16', 'int32', 'int64', 'float16', 'float32', 'float64']\n",
        "    start_mem = df.memory_usage().sum() / 1024**2    \n",
        "    for col in df.columns:\n",
        "        col_type = df[col].dtypes\n",
        "        if col_type in numerics:\n",
        "            c_min = df[col].min()\n",
        "            c_max = df[col].max()\n",
        "            if str(col_type)[:3] == 'int':\n",
        "                if c_min > np.iinfo(np.int8).min and c_max < np.iinfo(np.int8).max:\n",
        "                    df[col] = df[col].astype(np.int8)\n",
        "                elif c_min > np.iinfo(np.int16).min and c_max < np.iinfo(np.int16).max:\n",
        "                    df[col] = df[col].astype(np.int16)\n",
        "                elif c_min > np.iinfo(np.int32).min and c_max < np.iinfo(np.int32).max:\n",
        "                    df[col] = df[col].astype(np.int32)\n",
        "                elif c_min > np.iinfo(np.int64).min and c_max < np.iinfo(np.int64).max:\n",
        "                    df[col] = df[col].astype(np.int64)  \n",
        "            else:\n",
        "                if c_min > np.finfo(np.float16).min and c_max < np.finfo(np.float16).max:\n",
        "                    df[col] = df[col].astype(np.float16)\n",
        "                elif c_min > np.finfo(np.float32).min and c_max < np.finfo(np.float32).max:\n",
        "                    df[col] = df[col].astype(np.float32)\n",
        "                else:\n",
        "                    df[col] = df[col].astype(np.float64)    \n",
        "    end_mem = df.memory_usage().sum() / 1024**2\n",
        "    if verbose: print('Memoria usada disminuida a {:5.2f} Mb ({:.1f}% reduccion)'.format(end_mem, 100 * (start_mem - end_mem) / start_mem))\n",
        "    return df"
      ],
      "execution_count": null,
      "outputs": []
    },
    {
      "cell_type": "code",
      "metadata": {
        "colab_type": "code",
        "id": "Zon4Nor_oqfb",
        "colab": {
          "base_uri": "https://localhost:8080/",
          "height": 50
        },
        "outputId": "39df989b-3c88-408b-8e4c-83187280718b"
      },
      "source": [
        "train_df = reduce_mem_usage(train_df)\n",
        "test_df = reduce_mem_usage(test_df)"
      ],
      "execution_count": null,
      "outputs": [
        {
          "output_type": "stream",
          "text": [
            "Memoria usada disminuida a 697.47 Mb (69.5% reduccion)\n",
            "Memoria usada disminuida a 1471.34 Mb (69.2% reduccion)\n"
          ],
          "name": "stdout"
        }
      ]
    },
    {
      "cell_type": "code",
      "metadata": {
        "colab_type": "code",
        "id": "H8CYebdWBNDO",
        "colab": {
          "base_uri": "https://localhost:8080/",
          "height": 386
        },
        "outputId": "e41e0096-3846-4896-f093-1d9cecb67033"
      },
      "source": [
        "test_df.info()"
      ],
      "execution_count": null,
      "outputs": [
        {
          "output_type": "stream",
          "text": [
            "<class 'pandas.core.frame.DataFrame'>\n",
            "RangeIndex: 41697600 entries, 0 to 41697599\n",
            "Data columns (total 15 columns):\n",
            " #   Column              Dtype  \n",
            "---  ------              -----  \n",
            " 0   building_id         int16  \n",
            " 1   meter               int8   \n",
            " 2   site_id             int8   \n",
            " 3   primary_use         int8   \n",
            " 4   square_meter        float32\n",
            " 5   timestamp           object \n",
            " 6   year_built          float16\n",
            " 7   air_temperature     float16\n",
            " 8   cloud_coverage      float16\n",
            " 9   dew_temperature     float16\n",
            " 10  precip_depth_1_hr   float16\n",
            " 11  sea_level_pressure  float16\n",
            " 12  wind_direction      float16\n",
            " 13  wind_speed          float16\n",
            " 14  original_index      int32  \n",
            "dtypes: float16(8), float32(1), int16(1), int32(1), int8(3), object(1)\n",
            "memory usage: 1.4+ GB\n"
          ],
          "name": "stdout"
        }
      ]
    },
    {
      "cell_type": "code",
      "metadata": {
        "colab_type": "code",
        "id": "faU0ABUxCFVo",
        "colab": {}
      },
      "source": [
        "train_df['timestamp'] = pd.to_datetime(train_df['timestamp'],format='%Y-%m-%d %H')\n",
        "test_df['timestamp'] = pd.to_datetime(test_df['timestamp'],format='%Y-%m-%d %H')"
      ],
      "execution_count": null,
      "outputs": []
    },
    {
      "cell_type": "markdown",
      "metadata": {
        "colab_type": "text",
        "id": "Zno64gEWPKjO"
      },
      "source": [
        "2. Se dividen los datos en Aprendizaje y pruebas: se toman meses en ambos conjuntos de daos que son representativos para las cuatro estaciones anuales."
      ]
    },
    {
      "cell_type": "code",
      "metadata": {
        "colab_type": "code",
        "id": "oa-LAHJPPyJJ",
        "colab": {}
      },
      "source": [
        "final_test = test_df\n",
        "vals = {1,4,7,10}\n",
        "test = train_df[(train_df['timestamp'].dt.month.isin(vals))]\n",
        "\n",
        "train_w, test = train_test_split(test,test_size=.50,random_state=42)\n",
        "vals= {2,3,5,6,8,9,11,12}\n",
        "train = train_df[(train_df['timestamp'].dt.month.isin(vals))]\n",
        "\n",
        "train=pd.concat([train,train_w],axis=0)"
      ],
      "execution_count": null,
      "outputs": []
    },
    {
      "cell_type": "code",
      "metadata": {
        "colab_type": "code",
        "id": "aCF3XPvzP4Ak",
        "colab": {
          "base_uri": "https://localhost:8080/",
          "height": 67
        },
        "outputId": "10802382-f49e-4d64-cb82-a05dad3f0125"
      },
      "source": [
        "print('Entrenando con',round(100*len(train)/(len(train)+len(test))),'% de los datos originales de entrenamiento')\n",
        "print('Entrenando con ',round(100*len(test)/(len(train)+len(test))),'% de los datos originales de pruebas')\n",
        "print('Prueba final con el 100% de los datos de prueba originales')"
      ],
      "execution_count": null,
      "outputs": [
        {
          "output_type": "stream",
          "text": [
            "Entrenando con 83 % de los datos originales de entrenamiento\n",
            "Entrenando con  17 % de los datos originales de pruebas\n",
            "Prueba final con el 100% de los datos de prueba originales\n"
          ],
          "name": "stdout"
        }
      ]
    },
    {
      "cell_type": "markdown",
      "metadata": {
        "id": "rU6NH6eypy33",
        "colab_type": "text"
      },
      "source": [
        "3. Caracteristicas de ingeniera : para mejorar los datos en el    aprendizaje automático supervisado, con esta técnica se intenta mejorar el poder predictivo del algoritmo de aprendizaje en este caso las redes neuronales artificiales recurrentes LSTM y LigthGBM, utilizdo los datos sin procesar, datos limpios."
      ]
    },
    {
      "cell_type": "code",
      "metadata": {
        "colab_type": "code",
        "id": "e5IdgDjkp6jV",
        "colab": {}
      },
      "source": [
        "def feature_engineering(data):\n",
        "    # Ordenar por marca de tiempo\n",
        "    data.sort_values(\"timestamp\")\n",
        "    data.reset_index(drop=True)\n",
        "\n",
        "    ## mas funciones\n",
        "    # tiempo\n",
        "    \n",
        "    data[\"hour\"] = data[\"timestamp\"].dt.hour\n",
        "    data[\"day\"] = data[\"timestamp\"].dt.day\n",
        "    data[\"week\"] = data[\"timestamp\"].dt.week\n",
        "    data[\"month\"] = data[\"timestamp\"].dt.month\n",
        "    data[\"weekday\"] = data[\"timestamp\"].dt.weekday\n",
        "    \n",
        "\n",
        "    \n",
        "    for name in list(data):\n",
        "        if name == \"meter_reading\":\n",
        "            # meter_reading, porque la distribución no es normal, está sesgada\n",
        "            data['log_meter_reading'] =  np.log(data['meter_reading'])\n",
        "            #data.drop(['square_feet'],axis=1,inplace=True) \n",
        "\n",
        "    for name in list(data):\n",
        "        if name == \"square_meter\":\n",
        "            # square_meter, porque la distribución no es normal, está sesgada\n",
        "            data['log_square_meter'] =  np.log(data['square_meter'])\n",
        "            #data.drop(['square_feet'],axis=1,inplace=True) \n",
        "\n",
        "    for name in list(data): \n",
        "        if name == \"floor_count\":\n",
        "            # floor_count, porque la distribución no es normal, está sesgada\n",
        "            data['log_floor_count'] =  np.log(data['floor_count'])\n",
        "            #data.drop(['floor_count'],axis=1,inplace=True) \n",
        "    \n",
        "    \n",
        "    for name in list(data):\n",
        "        if name == 'dew_temperature':\n",
        "            # dew_temperature, porque la distribución no es normal, está sesgada\n",
        "            data['square_dew_temperature'] =  np.square(data['dew_temperature'])\n",
        "    \n",
        "\n",
        "    # Dias festivos\n",
        "    holidays = [\"2016-01-01\", \"2016-01-18\", \"2016-02-15\", \"2016-05-30\", \"2016-07-04\",\n",
        "            \"2016-09-05\", \"2016-10-10\", \"2016-11-11\", \"2016-11-24\", \"2016-12-26\",\n",
        "            \"2017-01-01\", \"2017-01-16\", \"2017-02-20\", \"2017-05-29\", \"2017-07-04\",\n",
        "            \"2017-09-04\", \"2017-10-09\", \"2017-11-10\", \"2017-11-23\", \"2017-12-25\",\n",
        "            \"2018-01-01\", \"2018-01-15\", \"2018-02-19\", \"2018-05-28\", \"2018-07-04\",\n",
        "            \"2018-09-03\", \"2018-10-08\", \"2018-11-12\", \"2018-11-22\", \"2018-12-25\",\n",
        "            \"2019-01-01\"]\n",
        "    data[\"is_holiday\"] = (data.timestamp.dt.date.astype(\"str\").isin(holidays)).astype(int)\n",
        "       \n",
        "    \n",
        "    return data "
      ],
      "execution_count": null,
      "outputs": []
    },
    {
      "cell_type": "code",
      "metadata": {
        "colab_type": "code",
        "id": "mCarTNH4QW2v",
        "colab": {}
      },
      "source": [
        "train = feature_engineering(train)\n",
        "\n",
        "for name in train:\n",
        "    if name == 'index':\n",
        "        train.drop('index',axis=1,inplace=True)\n",
        "\n",
        "train=train.reset_index() \n",
        "train.drop('index',axis=1,inplace=True)       "
      ],
      "execution_count": null,
      "outputs": []
    },
    {
      "cell_type": "code",
      "metadata": {
        "colab_type": "code",
        "id": "Mdg2XibBQasc",
        "colab": {}
      },
      "source": [
        "test = feature_engineering(test)\n",
        "\n",
        "for name in test:\n",
        "    if name == 'index':\n",
        "        test.drop('index',axis=1,inplace=True)\n",
        "\n",
        "test=test.reset_index()\n",
        "test.drop('index',axis=1,inplace=True)"
      ],
      "execution_count": null,
      "outputs": []
    },
    {
      "cell_type": "code",
      "metadata": {
        "colab_type": "code",
        "id": "aG1xuEE_QeoZ",
        "colab": {}
      },
      "source": [
        "final_test = feature_engineering(final_test)\n",
        "\n",
        "for name in final_test:\n",
        "    if name == 'index':\n",
        "        final_test.drop('index',axis=1,inplace=True)\n",
        "\n",
        "final_test=final_test.reset_index()\n",
        "final_test.drop('index',axis=1,inplace=True)"
      ],
      "execution_count": null,
      "outputs": []
    },
    {
      "cell_type": "code",
      "metadata": {
        "colab_type": "code",
        "id": "n5KksCIiQiFd",
        "colab": {}
      },
      "source": [
        "for name in list(train):\n",
        "    if name not in (list(final_test)):\n",
        "        if name != 'meter_reading':\n",
        "            train.drop([name],axis=1,inplace=True)\n",
        "            \n",
        "for name in list(test):\n",
        "    if name not in (list(final_test)):\n",
        "        if name != 'meter_reading':\n",
        "            test.drop([name],axis=1,inplace=True)"
      ],
      "execution_count": null,
      "outputs": []
    },
    {
      "cell_type": "code",
      "metadata": {
        "colab_type": "code",
        "id": "taYRA8nvQmqH",
        "colab": {}
      },
      "source": [
        "train_drop = ['timestamp','meter_reading','original_index','site_id']\n",
        "test_drop = ['timestamp','meter_reading','original_index','site_id']\n",
        "final_test_drop = ['timestamp','original_index','site_id']"
      ],
      "execution_count": null,
      "outputs": []
    },
    {
      "cell_type": "code",
      "metadata": {
        "colab_type": "code",
        "id": "W94AGZtYQs_x",
        "colab": {}
      },
      "source": [
        "X_train = train.drop(train_drop, axis= 1)\n",
        "\n",
        "X_test = test.drop(test_drop, axis= 1)\n",
        "\n",
        "X_final_test = final_test.drop(final_test_drop, axis= 1)"
      ],
      "execution_count": null,
      "outputs": []
    },
    {
      "cell_type": "code",
      "metadata": {
        "colab_type": "code",
        "id": "zjbZkln0Qv0Q",
        "colab": {
          "base_uri": "https://localhost:8080/",
          "height": 67
        },
        "outputId": "94364edb-e532-4300-e29a-8fbb0ae7b7bb"
      },
      "source": [
        "X_train=reduce_mem_usage(X_train)\n",
        "X_test=reduce_mem_usage(X_test)\n",
        "X_final_test=reduce_mem_usage(X_final_test)"
      ],
      "execution_count": null,
      "outputs": [
        {
          "output_type": "stream",
          "text": [
            "Memoria usada disminuida a 507.65 Mb (56.4% reduccion)\n",
            "Memoria usada disminuida a 100.40 Mb (56.4% reduccion)\n",
            "Memoria usada disminuida a 1352.04 Mb (56.4% reduccion)\n"
          ],
          "name": "stdout"
        }
      ]
    },
    {
      "cell_type": "code",
      "metadata": {
        "colab_type": "code",
        "id": "a7Fs6qBzggTx",
        "colab": {
          "base_uri": "https://localhost:8080/",
          "height": 383
        },
        "outputId": "62905308-6201-41b5-ab51-7f1815c5fa69"
      },
      "source": [
        "train.head(5)"
      ],
      "execution_count": null,
      "outputs": [
        {
          "output_type": "execute_result",
          "data": {
            "text/html": [
              "<div>\n",
              "<style scoped>\n",
              "    .dataframe tbody tr th:only-of-type {\n",
              "        vertical-align: middle;\n",
              "    }\n",
              "\n",
              "    .dataframe tbody tr th {\n",
              "        vertical-align: top;\n",
              "    }\n",
              "\n",
              "    .dataframe thead th {\n",
              "        text-align: right;\n",
              "    }\n",
              "</style>\n",
              "<table border=\"1\" class=\"dataframe\">\n",
              "  <thead>\n",
              "    <tr style=\"text-align: right;\">\n",
              "      <th></th>\n",
              "      <th>building_id</th>\n",
              "      <th>meter</th>\n",
              "      <th>site_id</th>\n",
              "      <th>primary_use</th>\n",
              "      <th>square_meter</th>\n",
              "      <th>timestamp</th>\n",
              "      <th>meter_reading</th>\n",
              "      <th>year_built</th>\n",
              "      <th>air_temperature</th>\n",
              "      <th>cloud_coverage</th>\n",
              "      <th>dew_temperature</th>\n",
              "      <th>precip_depth_1_hr</th>\n",
              "      <th>sea_level_pressure</th>\n",
              "      <th>wind_direction</th>\n",
              "      <th>wind_speed</th>\n",
              "      <th>original_index</th>\n",
              "      <th>hour</th>\n",
              "      <th>day</th>\n",
              "      <th>week</th>\n",
              "      <th>month</th>\n",
              "      <th>weekday</th>\n",
              "      <th>log_square_meter</th>\n",
              "      <th>square_dew_temperature</th>\n",
              "      <th>is_holiday</th>\n",
              "    </tr>\n",
              "  </thead>\n",
              "  <tbody>\n",
              "    <tr>\n",
              "      <th>0</th>\n",
              "      <td>0</td>\n",
              "      <td>1</td>\n",
              "      <td>0</td>\n",
              "      <td>0</td>\n",
              "      <td>668.880005</td>\n",
              "      <td>2016-05-01 19:00:00</td>\n",
              "      <td>131.2500</td>\n",
              "      <td>2008.0</td>\n",
              "      <td>31.093750</td>\n",
              "      <td>5.500000</td>\n",
              "      <td>17.203125</td>\n",
              "      <td>0.0</td>\n",
              "      <td>1016.0</td>\n",
              "      <td>100.0</td>\n",
              "      <td>4.101562</td>\n",
              "      <td>6509935</td>\n",
              "      <td>19</td>\n",
              "      <td>1</td>\n",
              "      <td>17</td>\n",
              "      <td>5</td>\n",
              "      <td>6</td>\n",
              "      <td>6.505605</td>\n",
              "      <td>296.00</td>\n",
              "      <td>0</td>\n",
              "    </tr>\n",
              "    <tr>\n",
              "      <th>1</th>\n",
              "      <td>0</td>\n",
              "      <td>1</td>\n",
              "      <td>0</td>\n",
              "      <td>0</td>\n",
              "      <td>668.880005</td>\n",
              "      <td>2016-05-20 18:00:00</td>\n",
              "      <td>68.2500</td>\n",
              "      <td>2008.0</td>\n",
              "      <td>25.000000</td>\n",
              "      <td>8.000000</td>\n",
              "      <td>18.296875</td>\n",
              "      <td>-1.0</td>\n",
              "      <td>1018.0</td>\n",
              "      <td>320.0</td>\n",
              "      <td>10.296875</td>\n",
              "      <td>7576722</td>\n",
              "      <td>18</td>\n",
              "      <td>20</td>\n",
              "      <td>20</td>\n",
              "      <td>5</td>\n",
              "      <td>4</td>\n",
              "      <td>6.505605</td>\n",
              "      <td>334.75</td>\n",
              "      <td>0</td>\n",
              "    </tr>\n",
              "    <tr>\n",
              "      <th>2</th>\n",
              "      <td>0</td>\n",
              "      <td>1</td>\n",
              "      <td>0</td>\n",
              "      <td>0</td>\n",
              "      <td>668.880005</td>\n",
              "      <td>2016-05-20 19:00:00</td>\n",
              "      <td>81.4375</td>\n",
              "      <td>2008.0</td>\n",
              "      <td>25.593750</td>\n",
              "      <td>7.667969</td>\n",
              "      <td>18.906250</td>\n",
              "      <td>-1.0</td>\n",
              "      <td>1017.0</td>\n",
              "      <td>340.0</td>\n",
              "      <td>5.699219</td>\n",
              "      <td>7579069</td>\n",
              "      <td>19</td>\n",
              "      <td>20</td>\n",
              "      <td>20</td>\n",
              "      <td>5</td>\n",
              "      <td>4</td>\n",
              "      <td>6.505605</td>\n",
              "      <td>357.50</td>\n",
              "      <td>0</td>\n",
              "    </tr>\n",
              "    <tr>\n",
              "      <th>3</th>\n",
              "      <td>0</td>\n",
              "      <td>1</td>\n",
              "      <td>0</td>\n",
              "      <td>0</td>\n",
              "      <td>668.880005</td>\n",
              "      <td>2016-05-20 20:00:00</td>\n",
              "      <td>70.0000</td>\n",
              "      <td>2008.0</td>\n",
              "      <td>28.296875</td>\n",
              "      <td>7.332031</td>\n",
              "      <td>19.406250</td>\n",
              "      <td>0.0</td>\n",
              "      <td>1017.0</td>\n",
              "      <td>30.0</td>\n",
              "      <td>3.599609</td>\n",
              "      <td>7581415</td>\n",
              "      <td>20</td>\n",
              "      <td>20</td>\n",
              "      <td>20</td>\n",
              "      <td>5</td>\n",
              "      <td>4</td>\n",
              "      <td>6.505605</td>\n",
              "      <td>376.50</td>\n",
              "      <td>0</td>\n",
              "    </tr>\n",
              "    <tr>\n",
              "      <th>4</th>\n",
              "      <td>0</td>\n",
              "      <td>1</td>\n",
              "      <td>0</td>\n",
              "      <td>0</td>\n",
              "      <td>668.880005</td>\n",
              "      <td>2016-05-20 21:00:00</td>\n",
              "      <td>70.6250</td>\n",
              "      <td>2008.0</td>\n",
              "      <td>30.000000</td>\n",
              "      <td>7.000000</td>\n",
              "      <td>18.906250</td>\n",
              "      <td>0.0</td>\n",
              "      <td>1016.5</td>\n",
              "      <td>70.0</td>\n",
              "      <td>5.101562</td>\n",
              "      <td>7583762</td>\n",
              "      <td>21</td>\n",
              "      <td>20</td>\n",
              "      <td>20</td>\n",
              "      <td>5</td>\n",
              "      <td>4</td>\n",
              "      <td>6.505605</td>\n",
              "      <td>357.50</td>\n",
              "      <td>0</td>\n",
              "    </tr>\n",
              "  </tbody>\n",
              "</table>\n",
              "</div>"
            ],
            "text/plain": [
              "   building_id  meter  site_id  primary_use  square_meter           timestamp  \\\n",
              "0            0      1        0            0    668.880005 2016-05-01 19:00:00   \n",
              "1            0      1        0            0    668.880005 2016-05-20 18:00:00   \n",
              "2            0      1        0            0    668.880005 2016-05-20 19:00:00   \n",
              "3            0      1        0            0    668.880005 2016-05-20 20:00:00   \n",
              "4            0      1        0            0    668.880005 2016-05-20 21:00:00   \n",
              "\n",
              "   meter_reading  year_built  air_temperature  cloud_coverage  \\\n",
              "0       131.2500      2008.0        31.093750        5.500000   \n",
              "1        68.2500      2008.0        25.000000        8.000000   \n",
              "2        81.4375      2008.0        25.593750        7.667969   \n",
              "3        70.0000      2008.0        28.296875        7.332031   \n",
              "4        70.6250      2008.0        30.000000        7.000000   \n",
              "\n",
              "   dew_temperature  precip_depth_1_hr  sea_level_pressure  wind_direction  \\\n",
              "0        17.203125                0.0              1016.0           100.0   \n",
              "1        18.296875               -1.0              1018.0           320.0   \n",
              "2        18.906250               -1.0              1017.0           340.0   \n",
              "3        19.406250                0.0              1017.0            30.0   \n",
              "4        18.906250                0.0              1016.5            70.0   \n",
              "\n",
              "   wind_speed  original_index  hour  day  week  month  weekday  \\\n",
              "0    4.101562         6509935    19    1    17      5        6   \n",
              "1   10.296875         7576722    18   20    20      5        4   \n",
              "2    5.699219         7579069    19   20    20      5        4   \n",
              "3    3.599609         7581415    20   20    20      5        4   \n",
              "4    5.101562         7583762    21   20    20      5        4   \n",
              "\n",
              "   log_square_meter  square_dew_temperature  is_holiday  \n",
              "0          6.505605                  296.00           0  \n",
              "1          6.505605                  334.75           0  \n",
              "2          6.505605                  357.50           0  \n",
              "3          6.505605                  376.50           0  \n",
              "4          6.505605                  357.50           0  "
            ]
          },
          "metadata": {
            "tags": []
          },
          "execution_count": 23
        }
      ]
    },
    {
      "cell_type": "markdown",
      "metadata": {
        "id": "i0s4zxPlqCkr",
        "colab_type": "text"
      },
      "source": [
        "4. Escalado de datos previo a entrenar los algoritmo LSTM."
      ]
    },
    {
      "cell_type": "code",
      "metadata": {
        "colab_type": "code",
        "id": "cGuG9X15Q2fm",
        "colab": {}
      },
      "source": [
        "#from sklearn.preprocessing import MinMaxScaler\n",
        "\n",
        "#Escalado de datos\n",
        "scalerTrain = MinMaxScaler(feature_range=(0,1))\n",
        "\n",
        "# train\n",
        "X_train=scalerTrain.fit_transform(X_train) #fit_transform, el modelo está entrenado en esto\n",
        "X_train = pd.DataFrame(X_train)\n",
        "X_train.columns=(train.drop(train_drop, axis= 1)).columns\n",
        "X_train_col=train.columns\n",
        "X_train_dtypes=train.dtypes"
      ],
      "execution_count": null,
      "outputs": []
    },
    {
      "cell_type": "code",
      "metadata": {
        "colab_type": "code",
        "id": "dR0uRoj-Q6b7",
        "colab": {}
      },
      "source": [
        "# test\n",
        "X_test=scalerTrain.transform(X_test) #SOLO transformarse, el modelo necesita predecir de manera similar a cómo fue entrenado\n",
        "X_test = pd.DataFrame(X_test)\n",
        "X_test.columns=(test.drop(test_drop, axis= 1)).columns\n",
        "X_test_col=test.columns\n",
        "X_test_dtypes=test.dtypes"
      ],
      "execution_count": null,
      "outputs": []
    },
    {
      "cell_type": "code",
      "metadata": {
        "colab_type": "code",
        "id": "sT5UTwvrQ-Ey",
        "colab": {}
      },
      "source": [
        "\n",
        "# final_test\n",
        "X_final_test=scalerTrain.transform(X_final_test) #SOLO transformarse, el modelo necesita predecir de manera similar a cómo fue entrenado\n",
        "X_final_test = pd.DataFrame(X_final_test)\n",
        "X_final_test.columns=(final_test.drop(final_test_drop, axis= 1)).columns\n",
        "X_final_test_col=final_test.columns\n",
        "X_final_test_dtypes=final_test.dtypes"
      ],
      "execution_count": null,
      "outputs": []
    },
    {
      "cell_type": "code",
      "metadata": {
        "colab_type": "code",
        "id": "BBwWq9ttmSwN",
        "colab": {
          "base_uri": "https://localhost:8080/",
          "height": 67
        },
        "outputId": "7ea6b5ae-2184-4e9b-978e-6ba8b34abcba"
      },
      "source": [
        "X_train=reduce_mem_usage(X_train)\n",
        "X_test=reduce_mem_usage(X_test)\n",
        "X_final_test=reduce_mem_usage(X_final_test)"
      ],
      "execution_count": null,
      "outputs": [
        {
          "output_type": "stream",
          "text": [
            "Memoria usada disminuida a 597.23 Mb (75.0% reduccion)\n",
            "Memoria usada disminuida a 118.12 Mb (75.0% reduccion)\n",
            "Memoria usada disminuida a 1590.64 Mb (75.0% reduccion)\n"
          ],
          "name": "stdout"
        }
      ]
    },
    {
      "cell_type": "code",
      "metadata": {
        "colab_type": "code",
        "id": "oZFngISDi_t2",
        "colab": {}
      },
      "source": [
        "train=pd.concat([train[train_drop],X_train],axis=1)"
      ],
      "execution_count": null,
      "outputs": []
    },
    {
      "cell_type": "code",
      "metadata": {
        "colab_type": "code",
        "id": "HIJo9_kSjEsS",
        "colab": {}
      },
      "source": [
        "test=pd.concat([test[test_drop],X_test],axis=1)"
      ],
      "execution_count": null,
      "outputs": []
    },
    {
      "cell_type": "code",
      "metadata": {
        "colab_type": "code",
        "id": "dHfj1axQjKdb",
        "colab": {}
      },
      "source": [
        "final_test=pd.concat([final_test[final_test_drop],X_final_test],axis=1)"
      ],
      "execution_count": null,
      "outputs": []
    },
    {
      "cell_type": "code",
      "metadata": {
        "colab_type": "code",
        "id": "v12gGhwLrIzF",
        "colab": {
          "base_uri": "https://localhost:8080/",
          "height": 67
        },
        "outputId": "12827dd7-c48f-4b2d-fffc-b77680130250"
      },
      "source": [
        "train=reduce_mem_usage(train)\n",
        "test=reduce_mem_usage(test)\n",
        "final_test=reduce_mem_usage(final_test)"
      ],
      "execution_count": null,
      "outputs": [
        {
          "output_type": "stream",
          "text": [
            "Memoria usada disminuida a 821.20 Mb (0.0% reduccion)\n",
            "Memoria usada disminuida a 162.42 Mb (0.0% reduccion)\n",
            "Memoria usada disminuida a 2107.59 Mb (0.0% reduccion)\n"
          ],
          "name": "stdout"
        }
      ]
    },
    {
      "cell_type": "code",
      "metadata": {
        "colab_type": "code",
        "id": "4MtqQXtdrr18",
        "colab": {
          "base_uri": "https://localhost:8080/",
          "height": 118
        },
        "outputId": "ec776ce9-d040-4777-9ae2-1fe7bd37dc7c"
      },
      "source": [
        "Y_train = np.log1p(train['meter_reading'])\n",
        "Y_train.head(5)"
      ],
      "execution_count": null,
      "outputs": [
        {
          "output_type": "execute_result",
          "data": {
            "text/plain": [
              "0    4.882812\n",
              "1    4.238281\n",
              "2    4.410156\n",
              "3    4.261719\n",
              "4    4.269531\n",
              "Name: meter_reading, dtype: float16"
            ]
          },
          "metadata": {
            "tags": []
          },
          "execution_count": 32
        }
      ]
    },
    {
      "cell_type": "code",
      "metadata": {
        "colab_type": "code",
        "id": "HEfS3sg8Uam6",
        "colab": {
          "base_uri": "https://localhost:8080/",
          "height": 118
        },
        "outputId": "a8741cfc-2b44-41db-f4ac-3a29190cbb58"
      },
      "source": [
        "Y_test= np.log1p(test['meter_reading'])\n",
        "Y_test.head(5)"
      ],
      "execution_count": null,
      "outputs": [
        {
          "output_type": "execute_result",
          "data": {
            "text/plain": [
              "0    4.238281\n",
              "1    4.402344\n",
              "2    4.535156\n",
              "3    4.886719\n",
              "4    3.892578\n",
              "Name: meter_reading, dtype: float16"
            ]
          },
          "metadata": {
            "tags": []
          },
          "execution_count": 33
        }
      ]
    },
    {
      "cell_type": "code",
      "metadata": {
        "colab_type": "code",
        "id": "4o0oohCTrxdM",
        "colab": {
          "base_uri": "https://localhost:8080/",
          "height": 215
        },
        "outputId": "880acedd-339c-4a4e-ea57-659dc9d0c407"
      },
      "source": [
        "features_for_train = train.drop(train_drop,axis=1)\n",
        "features_for_train.head(5)"
      ],
      "execution_count": null,
      "outputs": [
        {
          "output_type": "execute_result",
          "data": {
            "text/html": [
              "<div>\n",
              "<style scoped>\n",
              "    .dataframe tbody tr th:only-of-type {\n",
              "        vertical-align: middle;\n",
              "    }\n",
              "\n",
              "    .dataframe tbody tr th {\n",
              "        vertical-align: top;\n",
              "    }\n",
              "\n",
              "    .dataframe thead th {\n",
              "        text-align: right;\n",
              "    }\n",
              "</style>\n",
              "<table border=\"1\" class=\"dataframe\">\n",
              "  <thead>\n",
              "    <tr style=\"text-align: right;\">\n",
              "      <th></th>\n",
              "      <th>building_id</th>\n",
              "      <th>meter</th>\n",
              "      <th>primary_use</th>\n",
              "      <th>square_meter</th>\n",
              "      <th>year_built</th>\n",
              "      <th>air_temperature</th>\n",
              "      <th>cloud_coverage</th>\n",
              "      <th>dew_temperature</th>\n",
              "      <th>precip_depth_1_hr</th>\n",
              "      <th>sea_level_pressure</th>\n",
              "      <th>wind_direction</th>\n",
              "      <th>wind_speed</th>\n",
              "      <th>hour</th>\n",
              "      <th>day</th>\n",
              "      <th>week</th>\n",
              "      <th>month</th>\n",
              "      <th>weekday</th>\n",
              "      <th>log_square_meter</th>\n",
              "      <th>square_dew_temperature</th>\n",
              "      <th>is_holiday</th>\n",
              "    </tr>\n",
              "  </thead>\n",
              "  <tbody>\n",
              "    <tr>\n",
              "      <th>0</th>\n",
              "      <td>0.0</td>\n",
              "      <td>0.333252</td>\n",
              "      <td>0.0</td>\n",
              "      <td>0.008171</td>\n",
              "      <td>0.922852</td>\n",
              "      <td>0.788574</td>\n",
              "      <td>0.611328</td>\n",
              "      <td>0.854492</td>\n",
              "      <td>0.002907</td>\n",
              "      <td>0.615234</td>\n",
              "      <td>0.277832</td>\n",
              "      <td>0.215820</td>\n",
              "      <td>0.826172</td>\n",
              "      <td>0.000000</td>\n",
              "      <td>0.307617</td>\n",
              "      <td>0.363525</td>\n",
              "      <td>1.000000</td>\n",
              "      <td>0.406494</td>\n",
              "      <td>0.241577</td>\n",
              "      <td>0.0</td>\n",
              "    </tr>\n",
              "    <tr>\n",
              "      <th>1</th>\n",
              "      <td>0.0</td>\n",
              "      <td>0.333252</td>\n",
              "      <td>0.0</td>\n",
              "      <td>0.008171</td>\n",
              "      <td>0.922852</td>\n",
              "      <td>0.708496</td>\n",
              "      <td>0.888672</td>\n",
              "      <td>0.872559</td>\n",
              "      <td>0.000000</td>\n",
              "      <td>0.641113</td>\n",
              "      <td>0.888672</td>\n",
              "      <td>0.541992</td>\n",
              "      <td>0.782715</td>\n",
              "      <td>0.633301</td>\n",
              "      <td>0.365479</td>\n",
              "      <td>0.363525</td>\n",
              "      <td>0.666504</td>\n",
              "      <td>0.406494</td>\n",
              "      <td>0.273193</td>\n",
              "      <td>0.0</td>\n",
              "    </tr>\n",
              "    <tr>\n",
              "      <th>2</th>\n",
              "      <td>0.0</td>\n",
              "      <td>0.333252</td>\n",
              "      <td>0.0</td>\n",
              "      <td>0.008171</td>\n",
              "      <td>0.922852</td>\n",
              "      <td>0.716309</td>\n",
              "      <td>0.852051</td>\n",
              "      <td>0.882324</td>\n",
              "      <td>0.000000</td>\n",
              "      <td>0.628418</td>\n",
              "      <td>0.944336</td>\n",
              "      <td>0.300049</td>\n",
              "      <td>0.826172</td>\n",
              "      <td>0.633301</td>\n",
              "      <td>0.365479</td>\n",
              "      <td>0.363525</td>\n",
              "      <td>0.666504</td>\n",
              "      <td>0.406494</td>\n",
              "      <td>0.291748</td>\n",
              "      <td>0.0</td>\n",
              "    </tr>\n",
              "    <tr>\n",
              "      <th>3</th>\n",
              "      <td>0.0</td>\n",
              "      <td>0.333252</td>\n",
              "      <td>0.0</td>\n",
              "      <td>0.008171</td>\n",
              "      <td>0.922852</td>\n",
              "      <td>0.751953</td>\n",
              "      <td>0.814453</td>\n",
              "      <td>0.890625</td>\n",
              "      <td>0.002907</td>\n",
              "      <td>0.628418</td>\n",
              "      <td>0.083313</td>\n",
              "      <td>0.189453</td>\n",
              "      <td>0.869629</td>\n",
              "      <td>0.633301</td>\n",
              "      <td>0.365479</td>\n",
              "      <td>0.363525</td>\n",
              "      <td>0.666504</td>\n",
              "      <td>0.406494</td>\n",
              "      <td>0.307373</td>\n",
              "      <td>0.0</td>\n",
              "    </tr>\n",
              "    <tr>\n",
              "      <th>4</th>\n",
              "      <td>0.0</td>\n",
              "      <td>0.333252</td>\n",
              "      <td>0.0</td>\n",
              "      <td>0.008171</td>\n",
              "      <td>0.922852</td>\n",
              "      <td>0.773926</td>\n",
              "      <td>0.777832</td>\n",
              "      <td>0.882324</td>\n",
              "      <td>0.002907</td>\n",
              "      <td>0.621582</td>\n",
              "      <td>0.194458</td>\n",
              "      <td>0.268555</td>\n",
              "      <td>0.913086</td>\n",
              "      <td>0.633301</td>\n",
              "      <td>0.365479</td>\n",
              "      <td>0.363525</td>\n",
              "      <td>0.666504</td>\n",
              "      <td>0.406494</td>\n",
              "      <td>0.291748</td>\n",
              "      <td>0.0</td>\n",
              "    </tr>\n",
              "  </tbody>\n",
              "</table>\n",
              "</div>"
            ],
            "text/plain": [
              "   building_id     meter  primary_use  square_meter  year_built  \\\n",
              "0          0.0  0.333252          0.0      0.008171    0.922852   \n",
              "1          0.0  0.333252          0.0      0.008171    0.922852   \n",
              "2          0.0  0.333252          0.0      0.008171    0.922852   \n",
              "3          0.0  0.333252          0.0      0.008171    0.922852   \n",
              "4          0.0  0.333252          0.0      0.008171    0.922852   \n",
              "\n",
              "   air_temperature  cloud_coverage  dew_temperature  precip_depth_1_hr  \\\n",
              "0         0.788574        0.611328         0.854492           0.002907   \n",
              "1         0.708496        0.888672         0.872559           0.000000   \n",
              "2         0.716309        0.852051         0.882324           0.000000   \n",
              "3         0.751953        0.814453         0.890625           0.002907   \n",
              "4         0.773926        0.777832         0.882324           0.002907   \n",
              "\n",
              "   sea_level_pressure  wind_direction  wind_speed      hour       day  \\\n",
              "0            0.615234        0.277832    0.215820  0.826172  0.000000   \n",
              "1            0.641113        0.888672    0.541992  0.782715  0.633301   \n",
              "2            0.628418        0.944336    0.300049  0.826172  0.633301   \n",
              "3            0.628418        0.083313    0.189453  0.869629  0.633301   \n",
              "4            0.621582        0.194458    0.268555  0.913086  0.633301   \n",
              "\n",
              "       week     month   weekday  log_square_meter  square_dew_temperature  \\\n",
              "0  0.307617  0.363525  1.000000          0.406494                0.241577   \n",
              "1  0.365479  0.363525  0.666504          0.406494                0.273193   \n",
              "2  0.365479  0.363525  0.666504          0.406494                0.291748   \n",
              "3  0.365479  0.363525  0.666504          0.406494                0.307373   \n",
              "4  0.365479  0.363525  0.666504          0.406494                0.291748   \n",
              "\n",
              "   is_holiday  \n",
              "0         0.0  \n",
              "1         0.0  \n",
              "2         0.0  \n",
              "3         0.0  \n",
              "4         0.0  "
            ]
          },
          "metadata": {
            "tags": []
          },
          "execution_count": 34
        }
      ]
    },
    {
      "cell_type": "code",
      "metadata": {
        "colab_type": "code",
        "id": "E90rJgV_r_px",
        "colab": {
          "base_uri": "https://localhost:8080/",
          "height": 215
        },
        "outputId": "218ae27e-d2fa-41fe-a20c-3c00f5cea486"
      },
      "source": [
        "features_for_test = test.drop(test_drop,axis=1)\n",
        "features_for_test.head()"
      ],
      "execution_count": null,
      "outputs": [
        {
          "output_type": "execute_result",
          "data": {
            "text/html": [
              "<div>\n",
              "<style scoped>\n",
              "    .dataframe tbody tr th:only-of-type {\n",
              "        vertical-align: middle;\n",
              "    }\n",
              "\n",
              "    .dataframe tbody tr th {\n",
              "        vertical-align: top;\n",
              "    }\n",
              "\n",
              "    .dataframe thead th {\n",
              "        text-align: right;\n",
              "    }\n",
              "</style>\n",
              "<table border=\"1\" class=\"dataframe\">\n",
              "  <thead>\n",
              "    <tr style=\"text-align: right;\">\n",
              "      <th></th>\n",
              "      <th>building_id</th>\n",
              "      <th>meter</th>\n",
              "      <th>primary_use</th>\n",
              "      <th>square_meter</th>\n",
              "      <th>year_built</th>\n",
              "      <th>air_temperature</th>\n",
              "      <th>cloud_coverage</th>\n",
              "      <th>dew_temperature</th>\n",
              "      <th>precip_depth_1_hr</th>\n",
              "      <th>sea_level_pressure</th>\n",
              "      <th>wind_direction</th>\n",
              "      <th>wind_speed</th>\n",
              "      <th>hour</th>\n",
              "      <th>day</th>\n",
              "      <th>week</th>\n",
              "      <th>month</th>\n",
              "      <th>weekday</th>\n",
              "      <th>log_square_meter</th>\n",
              "      <th>square_dew_temperature</th>\n",
              "      <th>is_holiday</th>\n",
              "    </tr>\n",
              "  </thead>\n",
              "  <tbody>\n",
              "    <tr>\n",
              "      <th>0</th>\n",
              "      <td>0.446045</td>\n",
              "      <td>0.333252</td>\n",
              "      <td>0.000000</td>\n",
              "      <td>0.066833</td>\n",
              "      <td>0.196533</td>\n",
              "      <td>0.599609</td>\n",
              "      <td>0.222168</td>\n",
              "      <td>0.800293</td>\n",
              "      <td>0.002907</td>\n",
              "      <td>0.557617</td>\n",
              "      <td>0.833496</td>\n",
              "      <td>0.189453</td>\n",
              "      <td>0.347900</td>\n",
              "      <td>0.866699</td>\n",
              "      <td>0.557617</td>\n",
              "      <td>0.545410</td>\n",
              "      <td>0.333252</td>\n",
              "      <td>0.663574</td>\n",
              "      <td>0.157593</td>\n",
              "      <td>0.0</td>\n",
              "    </tr>\n",
              "    <tr>\n",
              "      <th>1</th>\n",
              "      <td>0.174683</td>\n",
              "      <td>0.333252</td>\n",
              "      <td>0.000000</td>\n",
              "      <td>0.075012</td>\n",
              "      <td>0.546875</td>\n",
              "      <td>0.773926</td>\n",
              "      <td>0.444336</td>\n",
              "      <td>0.554688</td>\n",
              "      <td>0.002907</td>\n",
              "      <td>0.500000</td>\n",
              "      <td>0.694336</td>\n",
              "      <td>0.268555</td>\n",
              "      <td>0.173950</td>\n",
              "      <td>0.733398</td>\n",
              "      <td>0.288574</td>\n",
              "      <td>0.272705</td>\n",
              "      <td>0.833496</td>\n",
              "      <td>0.678223</td>\n",
              "      <td>0.000987</td>\n",
              "      <td>0.0</td>\n",
              "    </tr>\n",
              "    <tr>\n",
              "      <th>2</th>\n",
              "      <td>0.474365</td>\n",
              "      <td>0.333252</td>\n",
              "      <td>0.399902</td>\n",
              "      <td>0.041077</td>\n",
              "      <td>0.649414</td>\n",
              "      <td>0.511230</td>\n",
              "      <td>0.000000</td>\n",
              "      <td>0.638184</td>\n",
              "      <td>0.002907</td>\n",
              "      <td>0.596191</td>\n",
              "      <td>0.750000</td>\n",
              "      <td>0.378906</td>\n",
              "      <td>0.652344</td>\n",
              "      <td>0.933105</td>\n",
              "      <td>0.307617</td>\n",
              "      <td>0.272705</td>\n",
              "      <td>0.666504</td>\n",
              "      <td>0.603516</td>\n",
              "      <td>0.013062</td>\n",
              "      <td>0.0</td>\n",
              "    </tr>\n",
              "    <tr>\n",
              "      <th>3</th>\n",
              "      <td>0.720215</td>\n",
              "      <td>0.333252</td>\n",
              "      <td>0.399902</td>\n",
              "      <td>0.031555</td>\n",
              "      <td>0.589844</td>\n",
              "      <td>0.550781</td>\n",
              "      <td>0.666504</td>\n",
              "      <td>0.718750</td>\n",
              "      <td>0.012230</td>\n",
              "      <td>0.686035</td>\n",
              "      <td>0.416748</td>\n",
              "      <td>0.315674</td>\n",
              "      <td>0.173950</td>\n",
              "      <td>0.066650</td>\n",
              "      <td>0.750000</td>\n",
              "      <td>0.818359</td>\n",
              "      <td>0.000000</td>\n",
              "      <td>0.571289</td>\n",
              "      <td>0.064636</td>\n",
              "      <td>0.0</td>\n",
              "    </tr>\n",
              "    <tr>\n",
              "      <th>4</th>\n",
              "      <td>0.400635</td>\n",
              "      <td>0.333252</td>\n",
              "      <td>0.000000</td>\n",
              "      <td>0.118591</td>\n",
              "      <td>0.512695</td>\n",
              "      <td>0.671875</td>\n",
              "      <td>0.222168</td>\n",
              "      <td>0.772461</td>\n",
              "      <td>0.002907</td>\n",
              "      <td>0.641113</td>\n",
              "      <td>0.722168</td>\n",
              "      <td>0.215820</td>\n",
              "      <td>0.913086</td>\n",
              "      <td>0.300049</td>\n",
              "      <td>0.500000</td>\n",
              "      <td>0.545410</td>\n",
              "      <td>1.000000</td>\n",
              "      <td>0.734375</td>\n",
              "      <td>0.121521</td>\n",
              "      <td>0.0</td>\n",
              "    </tr>\n",
              "  </tbody>\n",
              "</table>\n",
              "</div>"
            ],
            "text/plain": [
              "   building_id     meter  primary_use  square_meter  year_built  \\\n",
              "0     0.446045  0.333252     0.000000      0.066833    0.196533   \n",
              "1     0.174683  0.333252     0.000000      0.075012    0.546875   \n",
              "2     0.474365  0.333252     0.399902      0.041077    0.649414   \n",
              "3     0.720215  0.333252     0.399902      0.031555    0.589844   \n",
              "4     0.400635  0.333252     0.000000      0.118591    0.512695   \n",
              "\n",
              "   air_temperature  cloud_coverage  dew_temperature  precip_depth_1_hr  \\\n",
              "0         0.599609        0.222168         0.800293           0.002907   \n",
              "1         0.773926        0.444336         0.554688           0.002907   \n",
              "2         0.511230        0.000000         0.638184           0.002907   \n",
              "3         0.550781        0.666504         0.718750           0.012230   \n",
              "4         0.671875        0.222168         0.772461           0.002907   \n",
              "\n",
              "   sea_level_pressure  wind_direction  wind_speed      hour       day  \\\n",
              "0            0.557617        0.833496    0.189453  0.347900  0.866699   \n",
              "1            0.500000        0.694336    0.268555  0.173950  0.733398   \n",
              "2            0.596191        0.750000    0.378906  0.652344  0.933105   \n",
              "3            0.686035        0.416748    0.315674  0.173950  0.066650   \n",
              "4            0.641113        0.722168    0.215820  0.913086  0.300049   \n",
              "\n",
              "       week     month   weekday  log_square_meter  square_dew_temperature  \\\n",
              "0  0.557617  0.545410  0.333252          0.663574                0.157593   \n",
              "1  0.288574  0.272705  0.833496          0.678223                0.000987   \n",
              "2  0.307617  0.272705  0.666504          0.603516                0.013062   \n",
              "3  0.750000  0.818359  0.000000          0.571289                0.064636   \n",
              "4  0.500000  0.545410  1.000000          0.734375                0.121521   \n",
              "\n",
              "   is_holiday  \n",
              "0         0.0  \n",
              "1         0.0  \n",
              "2         0.0  \n",
              "3         0.0  \n",
              "4         0.0  "
            ]
          },
          "metadata": {
            "tags": []
          },
          "execution_count": 35
        }
      ]
    },
    {
      "cell_type": "code",
      "metadata": {
        "colab_type": "code",
        "id": "Vcvrqb2usNl9",
        "colab": {
          "base_uri": "https://localhost:8080/",
          "height": 215
        },
        "outputId": "64a8ba3e-db18-41bb-cf31-2e09f7739e9a"
      },
      "source": [
        "features_for_final_test = final_test.drop(final_test_drop,axis=1)\n",
        "features_for_final_test.head()"
      ],
      "execution_count": null,
      "outputs": [
        {
          "output_type": "execute_result",
          "data": {
            "text/html": [
              "<div>\n",
              "<style scoped>\n",
              "    .dataframe tbody tr th:only-of-type {\n",
              "        vertical-align: middle;\n",
              "    }\n",
              "\n",
              "    .dataframe tbody tr th {\n",
              "        vertical-align: top;\n",
              "    }\n",
              "\n",
              "    .dataframe thead th {\n",
              "        text-align: right;\n",
              "    }\n",
              "</style>\n",
              "<table border=\"1\" class=\"dataframe\">\n",
              "  <thead>\n",
              "    <tr style=\"text-align: right;\">\n",
              "      <th></th>\n",
              "      <th>building_id</th>\n",
              "      <th>meter</th>\n",
              "      <th>primary_use</th>\n",
              "      <th>square_meter</th>\n",
              "      <th>year_built</th>\n",
              "      <th>air_temperature</th>\n",
              "      <th>cloud_coverage</th>\n",
              "      <th>dew_temperature</th>\n",
              "      <th>precip_depth_1_hr</th>\n",
              "      <th>sea_level_pressure</th>\n",
              "      <th>wind_direction</th>\n",
              "      <th>wind_speed</th>\n",
              "      <th>hour</th>\n",
              "      <th>day</th>\n",
              "      <th>week</th>\n",
              "      <th>month</th>\n",
              "      <th>weekday</th>\n",
              "      <th>log_square_meter</th>\n",
              "      <th>square_dew_temperature</th>\n",
              "      <th>is_holiday</th>\n",
              "    </tr>\n",
              "  </thead>\n",
              "  <tbody>\n",
              "    <tr>\n",
              "      <th>0</th>\n",
              "      <td>0.0</td>\n",
              "      <td>0.333252</td>\n",
              "      <td>0.0</td>\n",
              "      <td>0.008171</td>\n",
              "      <td>0.922852</td>\n",
              "      <td>0.613770</td>\n",
              "      <td>0.444336</td>\n",
              "      <td>0.764648</td>\n",
              "      <td>0.002907</td>\n",
              "      <td>0.686035</td>\n",
              "      <td>0.277832</td>\n",
              "      <td>0.189453</td>\n",
              "      <td>0.000000</td>\n",
              "      <td>0.0</td>\n",
              "      <td>0.980957</td>\n",
              "      <td>0.0</td>\n",
              "      <td>1.0</td>\n",
              "      <td>0.406494</td>\n",
              "      <td>0.111816</td>\n",
              "      <td>1.0</td>\n",
              "    </tr>\n",
              "    <tr>\n",
              "      <th>1</th>\n",
              "      <td>0.0</td>\n",
              "      <td>0.333252</td>\n",
              "      <td>0.0</td>\n",
              "      <td>0.008171</td>\n",
              "      <td>0.922852</td>\n",
              "      <td>0.613770</td>\n",
              "      <td>0.222168</td>\n",
              "      <td>0.782227</td>\n",
              "      <td>0.002907</td>\n",
              "      <td>0.692383</td>\n",
              "      <td>0.361084</td>\n",
              "      <td>0.163086</td>\n",
              "      <td>0.043488</td>\n",
              "      <td>0.0</td>\n",
              "      <td>0.980957</td>\n",
              "      <td>0.0</td>\n",
              "      <td>1.0</td>\n",
              "      <td>0.406494</td>\n",
              "      <td>0.133667</td>\n",
              "      <td>1.0</td>\n",
              "    </tr>\n",
              "    <tr>\n",
              "      <th>2</th>\n",
              "      <td>0.0</td>\n",
              "      <td>0.333252</td>\n",
              "      <td>0.0</td>\n",
              "      <td>0.008171</td>\n",
              "      <td>0.922852</td>\n",
              "      <td>0.591309</td>\n",
              "      <td>0.000000</td>\n",
              "      <td>0.782227</td>\n",
              "      <td>0.002907</td>\n",
              "      <td>0.692383</td>\n",
              "      <td>0.388916</td>\n",
              "      <td>0.163086</td>\n",
              "      <td>0.086975</td>\n",
              "      <td>0.0</td>\n",
              "      <td>0.980957</td>\n",
              "      <td>0.0</td>\n",
              "      <td>1.0</td>\n",
              "      <td>0.406494</td>\n",
              "      <td>0.133667</td>\n",
              "      <td>1.0</td>\n",
              "    </tr>\n",
              "    <tr>\n",
              "      <th>3</th>\n",
              "      <td>0.0</td>\n",
              "      <td>0.333252</td>\n",
              "      <td>0.0</td>\n",
              "      <td>0.008171</td>\n",
              "      <td>0.922852</td>\n",
              "      <td>0.605957</td>\n",
              "      <td>0.000000</td>\n",
              "      <td>0.790527</td>\n",
              "      <td>0.002907</td>\n",
              "      <td>0.692383</td>\n",
              "      <td>0.388916</td>\n",
              "      <td>0.163086</td>\n",
              "      <td>0.130493</td>\n",
              "      <td>0.0</td>\n",
              "      <td>0.980957</td>\n",
              "      <td>0.0</td>\n",
              "      <td>1.0</td>\n",
              "      <td>0.406494</td>\n",
              "      <td>0.144287</td>\n",
              "      <td>1.0</td>\n",
              "    </tr>\n",
              "    <tr>\n",
              "      <th>4</th>\n",
              "      <td>0.0</td>\n",
              "      <td>0.333252</td>\n",
              "      <td>0.0</td>\n",
              "      <td>0.008171</td>\n",
              "      <td>0.922852</td>\n",
              "      <td>0.599609</td>\n",
              "      <td>0.222168</td>\n",
              "      <td>0.790527</td>\n",
              "      <td>0.002907</td>\n",
              "      <td>0.698730</td>\n",
              "      <td>0.361084</td>\n",
              "      <td>0.136841</td>\n",
              "      <td>0.173950</td>\n",
              "      <td>0.0</td>\n",
              "      <td>0.980957</td>\n",
              "      <td>0.0</td>\n",
              "      <td>1.0</td>\n",
              "      <td>0.406494</td>\n",
              "      <td>0.144287</td>\n",
              "      <td>1.0</td>\n",
              "    </tr>\n",
              "  </tbody>\n",
              "</table>\n",
              "</div>"
            ],
            "text/plain": [
              "   building_id     meter  primary_use  square_meter  year_built  \\\n",
              "0          0.0  0.333252          0.0      0.008171    0.922852   \n",
              "1          0.0  0.333252          0.0      0.008171    0.922852   \n",
              "2          0.0  0.333252          0.0      0.008171    0.922852   \n",
              "3          0.0  0.333252          0.0      0.008171    0.922852   \n",
              "4          0.0  0.333252          0.0      0.008171    0.922852   \n",
              "\n",
              "   air_temperature  cloud_coverage  dew_temperature  precip_depth_1_hr  \\\n",
              "0         0.613770        0.444336         0.764648           0.002907   \n",
              "1         0.613770        0.222168         0.782227           0.002907   \n",
              "2         0.591309        0.000000         0.782227           0.002907   \n",
              "3         0.605957        0.000000         0.790527           0.002907   \n",
              "4         0.599609        0.222168         0.790527           0.002907   \n",
              "\n",
              "   sea_level_pressure  wind_direction  wind_speed      hour  day      week  \\\n",
              "0            0.686035        0.277832    0.189453  0.000000  0.0  0.980957   \n",
              "1            0.692383        0.361084    0.163086  0.043488  0.0  0.980957   \n",
              "2            0.692383        0.388916    0.163086  0.086975  0.0  0.980957   \n",
              "3            0.692383        0.388916    0.163086  0.130493  0.0  0.980957   \n",
              "4            0.698730        0.361084    0.136841  0.173950  0.0  0.980957   \n",
              "\n",
              "   month  weekday  log_square_meter  square_dew_temperature  is_holiday  \n",
              "0    0.0      1.0          0.406494                0.111816         1.0  \n",
              "1    0.0      1.0          0.406494                0.133667         1.0  \n",
              "2    0.0      1.0          0.406494                0.133667         1.0  \n",
              "3    0.0      1.0          0.406494                0.144287         1.0  \n",
              "4    0.0      1.0          0.406494                0.144287         1.0  "
            ]
          },
          "metadata": {
            "tags": []
          },
          "execution_count": 36
        }
      ]
    },
    {
      "cell_type": "code",
      "metadata": {
        "colab_type": "code",
        "id": "gOhjrH7Fq2Bu",
        "colab": {
          "base_uri": "https://localhost:8080/",
          "height": 605
        },
        "outputId": "25f91e92-dfbb-4865-ff48-6ad26f9dc903"
      },
      "source": [
        "print(features_for_train.shape)\n",
        "print(features_for_train.head(5))"
      ],
      "execution_count": null,
      "outputs": [
        {
          "output_type": "stream",
          "text": [
            "(15656112, 20)\n",
            "   building_id     meter  primary_use  square_meter  year_built  \\\n",
            "0          0.0  0.333252          0.0      0.008171    0.922852   \n",
            "1          0.0  0.333252          0.0      0.008171    0.922852   \n",
            "2          0.0  0.333252          0.0      0.008171    0.922852   \n",
            "3          0.0  0.333252          0.0      0.008171    0.922852   \n",
            "4          0.0  0.333252          0.0      0.008171    0.922852   \n",
            "\n",
            "   air_temperature  cloud_coverage  dew_temperature  precip_depth_1_hr  \\\n",
            "0         0.788574        0.611328         0.854492           0.002907   \n",
            "1         0.708496        0.888672         0.872559           0.000000   \n",
            "2         0.716309        0.852051         0.882324           0.000000   \n",
            "3         0.751953        0.814453         0.890625           0.002907   \n",
            "4         0.773926        0.777832         0.882324           0.002907   \n",
            "\n",
            "   sea_level_pressure  wind_direction  wind_speed      hour       day  \\\n",
            "0            0.615234        0.277832    0.215820  0.826172  0.000000   \n",
            "1            0.641113        0.888672    0.541992  0.782715  0.633301   \n",
            "2            0.628418        0.944336    0.300049  0.826172  0.633301   \n",
            "3            0.628418        0.083313    0.189453  0.869629  0.633301   \n",
            "4            0.621582        0.194458    0.268555  0.913086  0.633301   \n",
            "\n",
            "       week     month   weekday  log_square_meter  square_dew_temperature  \\\n",
            "0  0.307617  0.363525  1.000000          0.406494                0.241577   \n",
            "1  0.365479  0.363525  0.666504          0.406494                0.273193   \n",
            "2  0.365479  0.363525  0.666504          0.406494                0.291748   \n",
            "3  0.365479  0.363525  0.666504          0.406494                0.307373   \n",
            "4  0.365479  0.363525  0.666504          0.406494                0.291748   \n",
            "\n",
            "   is_holiday  \n",
            "0         0.0  \n",
            "1         0.0  \n",
            "2         0.0  \n",
            "3         0.0  \n",
            "4         0.0  \n"
          ],
          "name": "stdout"
        }
      ]
    },
    {
      "cell_type": "code",
      "metadata": {
        "colab_type": "code",
        "id": "P5Aoec2gVfGK",
        "colab": {
          "base_uri": "https://localhost:8080/",
          "height": 605
        },
        "outputId": "522f964f-79e3-4b51-f15d-061c3cd6ece5"
      },
      "source": [
        "print(features_for_test.shape)\n",
        "print(features_for_test.head(5))"
      ],
      "execution_count": null,
      "outputs": [
        {
          "output_type": "stream",
          "text": [
            "(3096511, 20)\n",
            "   building_id     meter  primary_use  square_meter  year_built  \\\n",
            "0     0.446045  0.333252     0.000000      0.066833    0.196533   \n",
            "1     0.174683  0.333252     0.000000      0.075012    0.546875   \n",
            "2     0.474365  0.333252     0.399902      0.041077    0.649414   \n",
            "3     0.720215  0.333252     0.399902      0.031555    0.589844   \n",
            "4     0.400635  0.333252     0.000000      0.118591    0.512695   \n",
            "\n",
            "   air_temperature  cloud_coverage  dew_temperature  precip_depth_1_hr  \\\n",
            "0         0.599609        0.222168         0.800293           0.002907   \n",
            "1         0.773926        0.444336         0.554688           0.002907   \n",
            "2         0.511230        0.000000         0.638184           0.002907   \n",
            "3         0.550781        0.666504         0.718750           0.012230   \n",
            "4         0.671875        0.222168         0.772461           0.002907   \n",
            "\n",
            "   sea_level_pressure  wind_direction  wind_speed      hour       day  \\\n",
            "0            0.557617        0.833496    0.189453  0.347900  0.866699   \n",
            "1            0.500000        0.694336    0.268555  0.173950  0.733398   \n",
            "2            0.596191        0.750000    0.378906  0.652344  0.933105   \n",
            "3            0.686035        0.416748    0.315674  0.173950  0.066650   \n",
            "4            0.641113        0.722168    0.215820  0.913086  0.300049   \n",
            "\n",
            "       week     month   weekday  log_square_meter  square_dew_temperature  \\\n",
            "0  0.557617  0.545410  0.333252          0.663574                0.157593   \n",
            "1  0.288574  0.272705  0.833496          0.678223                0.000987   \n",
            "2  0.307617  0.272705  0.666504          0.603516                0.013062   \n",
            "3  0.750000  0.818359  0.000000          0.571289                0.064636   \n",
            "4  0.500000  0.545410  1.000000          0.734375                0.121521   \n",
            "\n",
            "   is_holiday  \n",
            "0         0.0  \n",
            "1         0.0  \n",
            "2         0.0  \n",
            "3         0.0  \n",
            "4         0.0  \n"
          ],
          "name": "stdout"
        }
      ]
    },
    {
      "cell_type": "code",
      "metadata": {
        "colab_type": "code",
        "id": "JI8r1b81tx3M",
        "colab": {}
      },
      "source": [
        "x_train, x_val, y_train, y_val = train_test_split(features_for_train,Y_train, test_size = 0.2, random_state= 45)"
      ],
      "execution_count": null,
      "outputs": []
    },
    {
      "cell_type": "markdown",
      "metadata": {
        "colab_type": "text",
        "id": "86D_x7htGBIk"
      },
      "source": [
        "5.Se entrena la red neuronal LSTM con optimizador \"Adam\" y se establecen hiperparametros para entrenar el modelo."
      ]
    },
    {
      "cell_type": "code",
      "metadata": {
        "colab_type": "code",
        "id": "Gm_gnL3ZqhHP",
        "colab": {}
      },
      "source": [
        "def root_mean_squared_error(y_true, y_pred):\n",
        "  return K.sqrt(K.mean(K.square(y_pred - y_true)))"
      ],
      "execution_count": null,
      "outputs": []
    },
    {
      "cell_type": "code",
      "metadata": {
        "colab_type": "code",
        "id": "2G2rGFDPrC1x",
        "colab": {}
      },
      "source": [
        "def make_model(input_dim=20,metrics=root_mean_squared_error,loss='mse', optimizer=\"Adam\",drop_rate=0.5):\n",
        "\n",
        "  model = Sequential()\n",
        "  model.add(LSTM(128,return_sequences=True, input_shape=(None,input_dim)))\n",
        "  model.add(Dropout(drop_rate))\n",
        "  model.add(BatchNormalization())\n",
        "  model.add(LSTM(128,return_sequences=False))\n",
        "  model.add(BatchNormalization())\n",
        "  model.add(Dropout(drop_rate))\n",
        "  model.add(Dense(1))\n",
        "  model.compile(optimizer=optimizer, loss=loss, metrics=[metrics])\n",
        "  \n",
        "  return model"
      ],
      "execution_count": null,
      "outputs": []
    },
    {
      "cell_type": "code",
      "metadata": {
        "colab_type": "code",
        "id": "ALIPqFQEYgxI",
        "colab": {}
      },
      "source": [
        "                                                             \n",
        "def run_model(model,x_train,y_train,epochs=50,batch_size=500,verbose=1,validation_data=(x_val,y_val),callbacks =None):\n",
        "  x_train =x_train.values[:]\n",
        "  x_train= x_train.reshape((x_train.shape[0],1,x_train.shape[-1]))\n",
        "  #y_train = np.log1p(y_train)\n",
        "  if validation_data != None:\n",
        "    x_val= validation_data[0].values[:]\n",
        "    x_val = x_val.reshape((x_val.shape[0],1,x_val.shape[-1]))\n",
        "   # y_val = np.log1p(validation_data[-1])\n",
        "  return model.fit(x_train,y_train,epochs=epochs,batch_size=batch_size,verbose=verbose,validation_data=(x_val,y_val),callbacks=callbacks)"
      ],
      "execution_count": null,
      "outputs": []
    },
    {
      "cell_type": "markdown",
      "metadata": {
        "colab_type": "text",
        "id": "V-UZOBynuSvP"
      },
      "source": [
        "Usare la funcion EarlyStoping para cuando el modelo deje de mejorar detenga el entrenamiento, la cantidad a monitorear sera el error ' 'val_root_mean_squared_error'"
      ]
    },
    {
      "cell_type": "code",
      "metadata": {
        "colab_type": "code",
        "id": "o2w_Ap_YYRHt",
        "colab": {}
      },
      "source": [
        "es = EarlyStopping(monitor='val_root_mean_squared_error', min_delta=0.0001, patience=5, verbose=True, mode='auto')"
      ],
      "execution_count": null,
      "outputs": []
    },
    {
      "cell_type": "code",
      "metadata": {
        "colab_type": "code",
        "id": "GexKLW_DYYqK",
        "colab": {
          "base_uri": "https://localhost:8080/",
          "height": 87
        },
        "outputId": "2fcfae56-a039-417a-e00c-d40bc5f8676c"
      },
      "source": [
        "model = make_model(input_dim=x_train.shape[-1],drop_rate=0.2)"
      ],
      "execution_count": null,
      "outputs": [
        {
          "output_type": "stream",
          "text": [
            "WARNING:tensorflow:From /tensorflow-1.15.2/python3.6/tensorflow_core/python/ops/resource_variable_ops.py:1630: calling BaseResourceVariable.__init__ (from tensorflow.python.ops.resource_variable_ops) with constraint is deprecated and will be removed in a future version.\n",
            "Instructions for updating:\n",
            "If using Keras pass *_constraint arguments to layers.\n"
          ],
          "name": "stdout"
        }
      ]
    },
    {
      "cell_type": "code",
      "metadata": {
        "colab_type": "code",
        "id": "nbHsnKCwYdrg",
        "colab": {
          "base_uri": "https://localhost:8080/",
          "height": 386
        },
        "outputId": "b435ca03-bc72-4ef8-c784-2cd603ec8fd7"
      },
      "source": [
        "model.summary()"
      ],
      "execution_count": null,
      "outputs": [
        {
          "output_type": "stream",
          "text": [
            "Model: \"sequential_1\"\n",
            "_________________________________________________________________\n",
            "Layer (type)                 Output Shape              Param #   \n",
            "=================================================================\n",
            "lstm_1 (LSTM)                (None, None, 128)         76288     \n",
            "_________________________________________________________________\n",
            "dropout_1 (Dropout)          (None, None, 128)         0         \n",
            "_________________________________________________________________\n",
            "batch_normalization_1 (Batch (None, None, 128)         512       \n",
            "_________________________________________________________________\n",
            "lstm_2 (LSTM)                (None, 128)               131584    \n",
            "_________________________________________________________________\n",
            "batch_normalization_2 (Batch (None, 128)               512       \n",
            "_________________________________________________________________\n",
            "dropout_2 (Dropout)          (None, 128)               0         \n",
            "_________________________________________________________________\n",
            "dense_1 (Dense)              (None, 1)                 129       \n",
            "=================================================================\n",
            "Total params: 209,025\n",
            "Trainable params: 208,513\n",
            "Non-trainable params: 512\n",
            "_________________________________________________________________\n"
          ],
          "name": "stdout"
        }
      ]
    },
    {
      "cell_type": "code",
      "metadata": {
        "colab_type": "code",
        "id": "QB8s1NvjAxlQ",
        "colab": {}
      },
      "source": [
        "del X_final_test\n",
        "del X_train\n",
        "#del X_test\n",
        "del train_df\n",
        "del test_df\n",
        "\n"
      ],
      "execution_count": null,
      "outputs": []
    },
    {
      "cell_type": "code",
      "metadata": {
        "colab_type": "code",
        "id": "N5aN0tfDxTaE",
        "colab": {}
      },
      "source": [
        "del features_for_final_test\n"
      ],
      "execution_count": null,
      "outputs": []
    },
    {
      "cell_type": "code",
      "metadata": {
        "colab_type": "code",
        "id": "id2vJxuCCVzJ",
        "colab": {
          "base_uri": "https://localhost:8080/",
          "height": 215
        },
        "outputId": "876a4171-e93c-461d-b8c9-01db5a9ad0e5"
      },
      "source": [
        "features_for_test.head(5)"
      ],
      "execution_count": null,
      "outputs": [
        {
          "output_type": "execute_result",
          "data": {
            "text/html": [
              "<div>\n",
              "<style scoped>\n",
              "    .dataframe tbody tr th:only-of-type {\n",
              "        vertical-align: middle;\n",
              "    }\n",
              "\n",
              "    .dataframe tbody tr th {\n",
              "        vertical-align: top;\n",
              "    }\n",
              "\n",
              "    .dataframe thead th {\n",
              "        text-align: right;\n",
              "    }\n",
              "</style>\n",
              "<table border=\"1\" class=\"dataframe\">\n",
              "  <thead>\n",
              "    <tr style=\"text-align: right;\">\n",
              "      <th></th>\n",
              "      <th>building_id</th>\n",
              "      <th>meter</th>\n",
              "      <th>primary_use</th>\n",
              "      <th>square_meter</th>\n",
              "      <th>year_built</th>\n",
              "      <th>air_temperature</th>\n",
              "      <th>cloud_coverage</th>\n",
              "      <th>dew_temperature</th>\n",
              "      <th>precip_depth_1_hr</th>\n",
              "      <th>sea_level_pressure</th>\n",
              "      <th>wind_direction</th>\n",
              "      <th>wind_speed</th>\n",
              "      <th>hour</th>\n",
              "      <th>day</th>\n",
              "      <th>week</th>\n",
              "      <th>month</th>\n",
              "      <th>weekday</th>\n",
              "      <th>log_square_meter</th>\n",
              "      <th>square_dew_temperature</th>\n",
              "      <th>is_holiday</th>\n",
              "    </tr>\n",
              "  </thead>\n",
              "  <tbody>\n",
              "    <tr>\n",
              "      <th>0</th>\n",
              "      <td>0.446045</td>\n",
              "      <td>0.333252</td>\n",
              "      <td>0.000000</td>\n",
              "      <td>0.066833</td>\n",
              "      <td>0.196533</td>\n",
              "      <td>0.599609</td>\n",
              "      <td>0.222168</td>\n",
              "      <td>0.800293</td>\n",
              "      <td>0.002907</td>\n",
              "      <td>0.557617</td>\n",
              "      <td>0.833496</td>\n",
              "      <td>0.189453</td>\n",
              "      <td>0.347900</td>\n",
              "      <td>0.866699</td>\n",
              "      <td>0.557617</td>\n",
              "      <td>0.545410</td>\n",
              "      <td>0.333252</td>\n",
              "      <td>0.663574</td>\n",
              "      <td>0.157593</td>\n",
              "      <td>0.0</td>\n",
              "    </tr>\n",
              "    <tr>\n",
              "      <th>1</th>\n",
              "      <td>0.174683</td>\n",
              "      <td>0.333252</td>\n",
              "      <td>0.000000</td>\n",
              "      <td>0.075012</td>\n",
              "      <td>0.546875</td>\n",
              "      <td>0.773926</td>\n",
              "      <td>0.444336</td>\n",
              "      <td>0.554688</td>\n",
              "      <td>0.002907</td>\n",
              "      <td>0.500000</td>\n",
              "      <td>0.694336</td>\n",
              "      <td>0.268555</td>\n",
              "      <td>0.173950</td>\n",
              "      <td>0.733398</td>\n",
              "      <td>0.288574</td>\n",
              "      <td>0.272705</td>\n",
              "      <td>0.833496</td>\n",
              "      <td>0.678223</td>\n",
              "      <td>0.000987</td>\n",
              "      <td>0.0</td>\n",
              "    </tr>\n",
              "    <tr>\n",
              "      <th>2</th>\n",
              "      <td>0.474365</td>\n",
              "      <td>0.333252</td>\n",
              "      <td>0.399902</td>\n",
              "      <td>0.041077</td>\n",
              "      <td>0.649414</td>\n",
              "      <td>0.511230</td>\n",
              "      <td>0.000000</td>\n",
              "      <td>0.638184</td>\n",
              "      <td>0.002907</td>\n",
              "      <td>0.596191</td>\n",
              "      <td>0.750000</td>\n",
              "      <td>0.378906</td>\n",
              "      <td>0.652344</td>\n",
              "      <td>0.933105</td>\n",
              "      <td>0.307617</td>\n",
              "      <td>0.272705</td>\n",
              "      <td>0.666504</td>\n",
              "      <td>0.603516</td>\n",
              "      <td>0.013062</td>\n",
              "      <td>0.0</td>\n",
              "    </tr>\n",
              "    <tr>\n",
              "      <th>3</th>\n",
              "      <td>0.720215</td>\n",
              "      <td>0.333252</td>\n",
              "      <td>0.399902</td>\n",
              "      <td>0.031555</td>\n",
              "      <td>0.589844</td>\n",
              "      <td>0.550781</td>\n",
              "      <td>0.666504</td>\n",
              "      <td>0.718750</td>\n",
              "      <td>0.012230</td>\n",
              "      <td>0.686035</td>\n",
              "      <td>0.416748</td>\n",
              "      <td>0.315674</td>\n",
              "      <td>0.173950</td>\n",
              "      <td>0.066650</td>\n",
              "      <td>0.750000</td>\n",
              "      <td>0.818359</td>\n",
              "      <td>0.000000</td>\n",
              "      <td>0.571289</td>\n",
              "      <td>0.064636</td>\n",
              "      <td>0.0</td>\n",
              "    </tr>\n",
              "    <tr>\n",
              "      <th>4</th>\n",
              "      <td>0.400635</td>\n",
              "      <td>0.333252</td>\n",
              "      <td>0.000000</td>\n",
              "      <td>0.118591</td>\n",
              "      <td>0.512695</td>\n",
              "      <td>0.671875</td>\n",
              "      <td>0.222168</td>\n",
              "      <td>0.772461</td>\n",
              "      <td>0.002907</td>\n",
              "      <td>0.641113</td>\n",
              "      <td>0.722168</td>\n",
              "      <td>0.215820</td>\n",
              "      <td>0.913086</td>\n",
              "      <td>0.300049</td>\n",
              "      <td>0.500000</td>\n",
              "      <td>0.545410</td>\n",
              "      <td>1.000000</td>\n",
              "      <td>0.734375</td>\n",
              "      <td>0.121521</td>\n",
              "      <td>0.0</td>\n",
              "    </tr>\n",
              "  </tbody>\n",
              "</table>\n",
              "</div>"
            ],
            "text/plain": [
              "   building_id     meter  primary_use  square_meter  year_built  \\\n",
              "0     0.446045  0.333252     0.000000      0.066833    0.196533   \n",
              "1     0.174683  0.333252     0.000000      0.075012    0.546875   \n",
              "2     0.474365  0.333252     0.399902      0.041077    0.649414   \n",
              "3     0.720215  0.333252     0.399902      0.031555    0.589844   \n",
              "4     0.400635  0.333252     0.000000      0.118591    0.512695   \n",
              "\n",
              "   air_temperature  cloud_coverage  dew_temperature  precip_depth_1_hr  \\\n",
              "0         0.599609        0.222168         0.800293           0.002907   \n",
              "1         0.773926        0.444336         0.554688           0.002907   \n",
              "2         0.511230        0.000000         0.638184           0.002907   \n",
              "3         0.550781        0.666504         0.718750           0.012230   \n",
              "4         0.671875        0.222168         0.772461           0.002907   \n",
              "\n",
              "   sea_level_pressure  wind_direction  wind_speed      hour       day  \\\n",
              "0            0.557617        0.833496    0.189453  0.347900  0.866699   \n",
              "1            0.500000        0.694336    0.268555  0.173950  0.733398   \n",
              "2            0.596191        0.750000    0.378906  0.652344  0.933105   \n",
              "3            0.686035        0.416748    0.315674  0.173950  0.066650   \n",
              "4            0.641113        0.722168    0.215820  0.913086  0.300049   \n",
              "\n",
              "       week     month   weekday  log_square_meter  square_dew_temperature  \\\n",
              "0  0.557617  0.545410  0.333252          0.663574                0.157593   \n",
              "1  0.288574  0.272705  0.833496          0.678223                0.000987   \n",
              "2  0.307617  0.272705  0.666504          0.603516                0.013062   \n",
              "3  0.750000  0.818359  0.000000          0.571289                0.064636   \n",
              "4  0.500000  0.545410  1.000000          0.734375                0.121521   \n",
              "\n",
              "   is_holiday  \n",
              "0         0.0  \n",
              "1         0.0  \n",
              "2         0.0  \n",
              "3         0.0  \n",
              "4         0.0  "
            ]
          },
          "metadata": {
            "tags": []
          },
          "execution_count": 56
        }
      ]
    },
    {
      "cell_type": "code",
      "metadata": {
        "colab_type": "code",
        "id": "SDWPNgWzaDdQ",
        "colab": {
          "base_uri": "https://localhost:8080/",
          "height": 1000
        },
        "outputId": "6707bd1b-8cbd-4a34-b40a-e49fef58b0c8"
      },
      "source": [
        "history = run_model(model,x_train,y_train,epochs=30,batch_size=500,verbose=1,validation_data=(x_val,y_val), callbacks =[es])"
      ],
      "execution_count": null,
      "outputs": [
        {
          "output_type": "stream",
          "text": [
            "WARNING:tensorflow:From /usr/local/lib/python3.6/dist-packages/keras/backend/tensorflow_backend.py:422: The name tf.global_variables is deprecated. Please use tf.compat.v1.global_variables instead.\n",
            "\n",
            "Train on 12524889 samples, validate on 3131223 samples\n",
            "Epoch 1/30\n",
            "12524889/12524889 [==============================] - 297s 24us/step - loss: 1.1900 - root_mean_squared_error: 1.0681 - val_loss: 0.7625 - val_root_mean_squared_error: 0.8717\n",
            "Epoch 2/30\n",
            "12524889/12524889 [==============================] - 293s 23us/step - loss: 0.8061 - root_mean_squared_error: 0.8963 - val_loss: 0.5666 - val_root_mean_squared_error: 0.7512\n",
            "Epoch 3/30\n",
            "12524889/12524889 [==============================] - 291s 23us/step - loss: 0.7302 - root_mean_squared_error: 0.8532 - val_loss: 0.5123 - val_root_mean_squared_error: 0.7142\n",
            "Epoch 4/30\n",
            "12524889/12524889 [==============================] - 293s 23us/step - loss: 0.6970 - root_mean_squared_error: 0.8335 - val_loss: 0.4913 - val_root_mean_squared_error: 0.6991\n",
            "Epoch 5/30\n",
            "12524889/12524889 [==============================] - 297s 24us/step - loss: 0.6754 - root_mean_squared_error: 0.8204 - val_loss: 0.4818 - val_root_mean_squared_error: 0.6925\n",
            "Epoch 6/30\n",
            "12524889/12524889 [==============================] - 290s 23us/step - loss: 0.6596 - root_mean_squared_error: 0.8108 - val_loss: 0.4595 - val_root_mean_squared_error: 0.6763\n",
            "Epoch 7/30\n",
            "12524889/12524889 [==============================] - 290s 23us/step - loss: 0.6473 - root_mean_squared_error: 0.8032 - val_loss: 0.4513 - val_root_mean_squared_error: 0.6701\n",
            "Epoch 8/30\n",
            "12524889/12524889 [==============================] - 291s 23us/step - loss: 0.6379 - root_mean_squared_error: 0.7973 - val_loss: 0.4443 - val_root_mean_squared_error: 0.6650\n",
            "Epoch 9/30\n",
            "12524889/12524889 [==============================] - 289s 23us/step - loss: 0.6291 - root_mean_squared_error: 0.7918 - val_loss: 0.4322 - val_root_mean_squared_error: 0.6557\n",
            "Epoch 10/30\n",
            "12524889/12524889 [==============================] - 290s 23us/step - loss: 0.6217 - root_mean_squared_error: 0.7871 - val_loss: 0.4259 - val_root_mean_squared_error: 0.6509\n",
            "Epoch 11/30\n",
            "12524889/12524889 [==============================] - 291s 23us/step - loss: 0.6152 - root_mean_squared_error: 0.7830 - val_loss: 0.4215 - val_root_mean_squared_error: 0.6475\n",
            "Epoch 12/30\n",
            "12524889/12524889 [==============================] - 290s 23us/step - loss: 0.6092 - root_mean_squared_error: 0.7791 - val_loss: 0.4129 - val_root_mean_squared_error: 0.6409\n",
            "Epoch 13/30\n",
            "12524889/12524889 [==============================] - 288s 23us/step - loss: 0.6037 - root_mean_squared_error: 0.7756 - val_loss: 0.4054 - val_root_mean_squared_error: 0.6350\n",
            "Epoch 14/30\n",
            "12524889/12524889 [==============================] - 289s 23us/step - loss: 0.5996 - root_mean_squared_error: 0.7730 - val_loss: 0.4027 - val_root_mean_squared_error: 0.6329\n",
            "Epoch 15/30\n",
            "12524889/12524889 [==============================] - 288s 23us/step - loss: 0.5943 - root_mean_squared_error: 0.7695 - val_loss: 0.4019 - val_root_mean_squared_error: 0.6322\n",
            "Epoch 16/30\n",
            "12524889/12524889 [==============================] - 289s 23us/step - loss: 0.5896 - root_mean_squared_error: 0.7665 - val_loss: 0.3980 - val_root_mean_squared_error: 0.6292\n",
            "Epoch 17/30\n",
            "12524889/12524889 [==============================] - 289s 23us/step - loss: 0.5854 - root_mean_squared_error: 0.7638 - val_loss: 0.3913 - val_root_mean_squared_error: 0.6238\n",
            "Epoch 18/30\n",
            "12524889/12524889 [==============================] - 289s 23us/step - loss: 0.5820 - root_mean_squared_error: 0.7616 - val_loss: 0.3950 - val_root_mean_squared_error: 0.6268\n",
            "Epoch 19/30\n",
            "12524889/12524889 [==============================] - 288s 23us/step - loss: 0.5780 - root_mean_squared_error: 0.7589 - val_loss: 0.3784 - val_root_mean_squared_error: 0.6134\n",
            "Epoch 20/30\n",
            "12524889/12524889 [==============================] - 288s 23us/step - loss: 0.5750 - root_mean_squared_error: 0.7570 - val_loss: 0.3846 - val_root_mean_squared_error: 0.6185\n",
            "Epoch 21/30\n",
            "12524889/12524889 [==============================] - 287s 23us/step - loss: 0.5713 - root_mean_squared_error: 0.7545 - val_loss: 0.3821 - val_root_mean_squared_error: 0.6164\n",
            "Epoch 22/30\n",
            "12524889/12524889 [==============================] - 288s 23us/step - loss: 0.5681 - root_mean_squared_error: 0.7524 - val_loss: 0.3788 - val_root_mean_squared_error: 0.6139\n",
            "Epoch 23/30\n",
            "12524889/12524889 [==============================] - 289s 23us/step - loss: 0.5656 - root_mean_squared_error: 0.7507 - val_loss: 0.3765 - val_root_mean_squared_error: 0.6118\n",
            "Epoch 24/30\n",
            "12524889/12524889 [==============================] - 288s 23us/step - loss: 0.5623 - root_mean_squared_error: 0.7485 - val_loss: 0.3685 - val_root_mean_squared_error: 0.6053\n",
            "Epoch 25/30\n",
            "12524889/12524889 [==============================] - 288s 23us/step - loss: 0.5602 - root_mean_squared_error: 0.7471 - val_loss: 0.3701 - val_root_mean_squared_error: 0.6066\n",
            "Epoch 26/30\n",
            "12524889/12524889 [==============================] - 290s 23us/step - loss: 0.5579 - root_mean_squared_error: 0.7456 - val_loss: 0.3645 - val_root_mean_squared_error: 0.6020\n",
            "Epoch 27/30\n",
            "12524889/12524889 [==============================] - 290s 23us/step - loss: 0.5554 - root_mean_squared_error: 0.7439 - val_loss: 0.3701 - val_root_mean_squared_error: 0.6067\n",
            "Epoch 28/30\n",
            "12524889/12524889 [==============================] - 291s 23us/step - loss: 0.5526 - root_mean_squared_error: 0.7421 - val_loss: 0.3660 - val_root_mean_squared_error: 0.6033\n",
            "Epoch 29/30\n",
            "12524889/12524889 [==============================] - 291s 23us/step - loss: 0.5506 - root_mean_squared_error: 0.7407 - val_loss: 0.3603 - val_root_mean_squared_error: 0.5985\n",
            "Epoch 30/30\n",
            "12524889/12524889 [==============================] - 290s 23us/step - loss: 0.5484 - root_mean_squared_error: 0.7392 - val_loss: 0.3591 - val_root_mean_squared_error: 0.5976\n"
          ],
          "name": "stdout"
        }
      ]
    },
    {
      "cell_type": "code",
      "metadata": {
        "colab_type": "code",
        "id": "inSAwFR1sIz2",
        "colab": {
          "base_uri": "https://localhost:8080/",
          "height": 34
        },
        "outputId": "374b6d62-fac0-4383-cde7-4946a014ec12"
      },
      "source": [
        "loss = history.history\n",
        "loss.keys()"
      ],
      "execution_count": null,
      "outputs": [
        {
          "output_type": "execute_result",
          "data": {
            "text/plain": [
              "dict_keys(['val_loss', 'val_root_mean_squared_error', 'loss', 'root_mean_squared_error'])"
            ]
          },
          "metadata": {
            "tags": []
          },
          "execution_count": 58
        }
      ]
    },
    {
      "cell_type": "code",
      "metadata": {
        "colab_type": "code",
        "id": "1PfdXJjgB-_D",
        "colab": {
          "base_uri": "https://localhost:8080/",
          "height": 711
        },
        "outputId": "0085055a-d263-4883-d76a-8a7a166a84f2"
      },
      "source": [
        "plt.figure(0)  \n",
        "plt.plot(history.history['root_mean_squared_error'],'r')  \n",
        "plt.plot(history.history['val_root_mean_squared_error'],'g')  \n",
        "plt.xticks(np.arange(0, 30, 2.0))  \n",
        "plt.rcParams['figure.figsize'] = (8, 6)  \n",
        "plt.xlabel(\"Num of Epochs\")  \n",
        "plt.ylabel(\"RMSE\")  \n",
        "plt.title(\"RMSE Training  vs RMSE Validation\")  \n",
        "plt.legend(['RMSE_train','RMSE_validation'])\n",
        "\n",
        "plt.figure(1)  \n",
        "plt.plot(history.history['loss'],'r')  \n",
        "plt.plot(history.history['val_loss'],'g')  \n",
        "plt.xticks(np.arange(0, 30, 2.0))  \n",
        "plt.rcParams['figure.figsize'] = (8, 6)  \n",
        "plt.xlabel(\"Num of Epochs\")  \n",
        "plt.ylabel(\"Loss\")  \n",
        "plt.title(\"Training Loss vs Validation Loss\")  \n",
        "plt.legend(['RMSE_train','RMSE_validation'])"
      ],
      "execution_count": null,
      "outputs": [
        {
          "output_type": "execute_result",
          "data": {
            "text/plain": [
              "<matplotlib.legend.Legend at 0x7f46b76a7b00>"
            ]
          },
          "metadata": {
            "tags": []
          },
          "execution_count": 59
        },
        {
          "output_type": "display_data",
          "data": {
            "image/png": "[encoded data removed]",
            "text/plain": [
              "<Figure size 432x288 with 1 Axes>"
            ]
          },
          "metadata": {
            "tags": []
          }
        },
        {
          "output_type": "display_data",
          "data": {
            "image/png": "[encoded data removed]",
            "text/plain": [
              "<Figure size 576x432 with 1 Axes>"
            ]
          },
          "metadata": {
            "tags": []
          }
        }
      ]
    },
    {
      "cell_type": "code",
      "metadata": {
        "colab_type": "code",
        "id": "ZYfBdYymbQd7",
        "colab": {}
      },
      "source": [
        "features_for_test = features_for_test.values[:]\n",
        "features_for_test = features_for_test.reshape((features_for_test.shape[0],1,features_for_test.shape[-1]))"
      ],
      "execution_count": null,
      "outputs": []
    },
    {
      "cell_type": "code",
      "metadata": {
        "colab_type": "code",
        "id": "ADXjp7tGiSRV",
        "colab": {
          "base_uri": "https://localhost:8080/",
          "height": 50
        },
        "outputId": "d5d02df5-c3d0-441b-86dc-398b20b90e6f"
      },
      "source": [
        "loss,root_mean_squared_error = model.evaluate(features_for_test, Y_test)\n",
        "print('loss {} RMSE {}'.format(loss,root_mean_squared_error))"
      ],
      "execution_count": null,
      "outputs": [
        {
          "output_type": "stream",
          "text": [
            "3096511/3096511 [==============================] - 229s 74us/step\n",
            "loss 0.3700489462700945 RMSE 0.586948573589325\n"
          ],
          "name": "stdout"
        }
      ]
    },
    {
      "cell_type": "code",
      "metadata": {
        "colab_type": "code",
        "id": "mpzFfNV5bha7",
        "colab": {}
      },
      "source": [
        "Y_pred_log = model.predict(features_for_test)\n",
        "\n"
      ],
      "execution_count": null,
      "outputs": []
    },
    {
      "cell_type": "code",
      "metadata": {
        "colab_type": "code",
        "id": "aHDhShr7WOTi",
        "colab": {}
      },
      "source": [
        "Y_pred = np.expm1(Y_pred_log)"
      ],
      "execution_count": null,
      "outputs": []
    },
    {
      "cell_type": "code",
      "metadata": {
        "colab_type": "code",
        "id": "NcTfM-w3cRCD",
        "colab": {}
      },
      "source": [
        "Y_test_log=Y_test"
      ],
      "execution_count": null,
      "outputs": []
    },
    {
      "cell_type": "code",
      "metadata": {
        "colab_type": "code",
        "id": "WUXxZyeblUdP",
        "colab": {}
      },
      "source": [
        "Y_test = np.expm1(Y_test_log)"
      ],
      "execution_count": null,
      "outputs": []
    },
    {
      "cell_type": "markdown",
      "metadata": {
        "id": "XG9TWA-rrPJI",
        "colab_type": "text"
      },
      "source": [
        "6. Evaluacion del algoritmo LSTM a traves de metricas establecidas."
      ]
    },
    {
      "cell_type": "code",
      "metadata": {
        "colab_type": "code",
        "id": "QA_KLkVhclBh",
        "colab": {
          "base_uri": "https://localhost:8080/",
          "height": 84
        },
        "outputId": "dbe06adf-8800-43b9-ef40-d6744fcb87dd"
      },
      "source": [
        "# Métricas de evaluación.\n",
        "metricas={ 'R2':   metrics.r2_score}\n",
        "RMSLE=np.sqrt(metrics.mean_squared_error(Y_test_log, Y_pred_log))\n",
        "MAE = metrics.mean_absolute_error(Y_test, Y_pred)\n",
        "MSE = metrics.mean_squared_error(Y_test, Y_pred)\n",
        "RMSE = np.sqrt(metrics.mean_squared_error(Y_test, Y_pred))\n",
        "R2 = metricas['R2'](Y_test, Y_pred)"
      ],
      "execution_count": null,
      "outputs": [
        {
          "output_type": "stream",
          "text": [
            "/usr/local/lib/python3.6/dist-packages/sklearn/metrics/regression.py:555: RuntimeWarning:\n",
            "\n",
            "overflow encountered in square\n",
            "\n"
          ],
          "name": "stderr"
        }
      ]
    },
    {
      "cell_type": "code",
      "metadata": {
        "colab_type": "code",
        "id": "FBrnvyxqV6aG",
        "colab": {
          "base_uri": "https://localhost:8080/",
          "height": 410
        },
        "outputId": "2982f841-0733-4e4a-fe15-8323a71665d0"
      },
      "source": [
        "# Gráfica de valor actual Kwh vs. predicción Kwh.\n",
        "fig, ax = plt.subplots()\n",
        "ax.scatter(Y_test, Y_pred, edgecolors=(0, 0, 0))\n",
        "ax.plot([Y_pred.min(), Y_pred.max()],\n",
        "        [Y_pred.min(), Y_pred.max()], 'k--', lw=4)\n",
        "ax.set_xlabel('Meter Reading-Actual [kWh]')\n",
        "ax.set_ylabel('Meter Reading-Predicho [kWh]')\n",
        "plt.title(\"RMSLE: %.3f MAE: %.3f MSE: %.3f  RMSE: %.3f  R2: %.3f\" %\n",
        "         (RMSLE,MAE,MSE,RMSE,R2))\n",
        "plt.show()"
      ],
      "execution_count": null,
      "outputs": [
        {
          "output_type": "display_data",
          "data": {
            "image/png": "[encoded data removed]",
            "text/plain": [
              "<Figure size 576x432 with 1 Axes>"
            ]
          },
          "metadata": {
            "tags": []
          }
        }
      ]
    },
    {
      "cell_type": "markdown",
      "metadata": {
        "id": "vBOy4NteCLwS",
        "colab_type": "text"
      },
      "source": [
        "7. Bibliografia:"
      ]
    },
    {
      "cell_type": "markdown",
      "metadata": {
        "id": "ZavvJoJlst9k",
        "colab_type": "text"
      },
      "source": [
        "\n",
        "\n",
        "1. Bohaju, J.(2020), ASHRAE energy prediccion III final model impelmentation lgbm. Recuperado de:https://github.com/Jakesh-Bohaju/ashrae-energy-prediction-III/blob/master/Final%20%20model%20implementation.ipynb. \n",
        "\n",
        "2. Brown, L. (2020), Multivariate time series forecasting with LSTMs in Keras. Recuperado de: https://machinelearningmastery.com/multivariate-time-series-forecasting-lstms-keras/.\n",
        "\n",
        "3. Evitan, G.(2020), ASHRAE EDA and preprocessing. Recuperado de: https://www.kaggle.com/gunesevitan/ashrae-eda-and-preprocessing/#data.\n",
        "\n",
        "4. Kaggle/ASHRAE https://www.kaggle.com/takiyu/ashrae-great-energy-3-verification-after-predict.\n",
        "\n",
        "5. Rhouma, K. Kaggle notebook ASHRAE prediction using lstm. REcuperado de: https://www.kaggle.com/khalilo159/ashrae-prediction-using-lstm.\n",
        "\n",
        "\n"
      ]
    }
  ]
}